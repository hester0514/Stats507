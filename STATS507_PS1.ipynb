{
 "cells": [
  {
   "cell_type": "markdown",
   "metadata": {},
   "source": [
    "## STATS507 - Problem Set 1"
   ]
  },
  {
   "cell_type": "markdown",
   "metadata": {},
   "source": [
    "Xuechun Wang<br>\n",
    "\n",
    "UMICHID:24107190"
   ]
  },
  {
   "cell_type": "code",
   "execution_count": 9,
   "metadata": {},
   "outputs": [],
   "source": [
    "import numpy as np\n",
    "import pandas as pd\n",
    "import math\n",
    "import timeit\n",
    "from random import randrange\n",
    "from collections import defaultdict\n",
    "import scipy.stats as stats\n",
    "import warnings\n",
    "from prettytable import PrettyTable\n",
    "import string\n",
    "from tabulate import tabulate\n",
    "from IPython.core.display import display, HTML\n",
    "from scipy.stats import norm, binom, beta\n",
    "from warnings import warn"
   ]
  },
  {
   "cell_type": "markdown",
   "metadata": {},
   "source": [
    "## Question 0 - Markdown warmup"
   ]
  },
  {
   "cell_type": "markdown",
   "metadata": {},
   "source": [
    "This is *question 0* for [problem set 1](https://jbhender.github.io/Stats507/F21/ps/ps1.html) of [Stats 507](https://jbhender.github.io/Stats507/F21/).<br>\n",
    ">### Question 0 is about Markdown.<br>"
   ]
  },
  {
   "cell_type": "markdown",
   "metadata": {},
   "source": [
    "The next question is about **Fibonnaci sequence**, $F_{n}=F_{n-1}+F_{n-2}$. In part **a** we will define a Python function ``fib_rec()``.<br>\n",
    "Below is a...<br>\n",
    "<br>"
   ]
  },
  {
   "cell_type": "markdown",
   "metadata": {},
   "source": [
    "### Level 3 Header<br>\n",
    "Next, we can make a bullet list:<br>\n",
    "- Item 1<br>\n",
    "     - detail 1\n",
    "     - detail 2\n",
    "- Item 2<br>\n",
    "Finally, we can make an enumerated list:<br>\n",
    "- a. Item 1\n",
    "- b. Item 2\n",
    "- c. Item 3\n",
    "     "
   ]
  },
  {
   "cell_type": "markdown",
   "metadata": {},
   "source": [
    "## Q1 - Fibonacci Sequence"
   ]
  },
  {
   "cell_type": "markdown",
   "metadata": {},
   "source": [
    "### a. fib_rec()"
   ]
  },
  {
   "cell_type": "code",
   "execution_count": 2,
   "metadata": {},
   "outputs": [],
   "source": [
    "def fib_rec(n, a = 0, b = 1):\n",
    "    '''\n",
    "    \n",
    "\n",
    "    Parameters\n",
    "    ----------\n",
    "    n : integer\n",
    "        Number of input.\n",
    "    a : integer, optional\n",
    "        The initial value when n is 0. The default is 0.\n",
    "    b : integer, optional\n",
    "        The initial value when n is 1. The default is 1.\n",
    "\n",
    "    Returns\n",
    "    -------\n",
    "    TYPE int\n",
    "        Return Fibonacci Sequence number.\n",
    "\n",
    "    '''\n",
    "    F_0 = a\n",
    "    F_1 = b\n",
    "    if n == 0:\n",
    "        return F_0\n",
    "    elif n == 1:\n",
    "        return F_1\n",
    "    elif n < 0:\n",
    "        return \"n cannot be negative\"\n",
    "    else:\n",
    "        return fib_rec(n-1) + fib_rec(n-2)"
   ]
  },
  {
   "cell_type": "markdown",
   "metadata": {},
   "source": [
    "### b. fib_for()"
   ]
  },
  {
   "cell_type": "code",
   "execution_count": 3,
   "metadata": {},
   "outputs": [],
   "source": [
    "def fib_for(n):\n",
    "    '''\n",
    "    \n",
    "\n",
    "    Parameters\n",
    "    ----------\n",
    "    n : integer\n",
    "        Number of input.\n",
    "\n",
    "    Returns\n",
    "    -------\n",
    "    TYPE int\n",
    "        Return Fibonacci Sequence number.\n",
    "\n",
    "    '''\n",
    "    if n == 0:\n",
    "        return 0\n",
    "    elif n == 1:\n",
    "        return 1\n",
    "    elif n < 0:\n",
    "        return \"n cannot be negative\"\n",
    "    else: \n",
    "        firstInitial = 0\n",
    "        secondInitial = 1\n",
    "        count  = 0\n",
    "        for count in range(n-1):\n",
    "            sumOfValues = firstInitial + secondInitial\n",
    "            firstInitial = secondInitial\n",
    "            secondInitial = sumOfValues\n",
    "            count += 1\n",
    "        return sumOfValues"
   ]
  },
  {
   "cell_type": "markdown",
   "metadata": {},
   "source": [
    "### c. fib_whl"
   ]
  },
  {
   "cell_type": "code",
   "execution_count": 4,
   "metadata": {},
   "outputs": [],
   "source": [
    "def fib_whl(n):\n",
    "    '''\n",
    "    \n",
    "\n",
    "    Parameters\n",
    "    ----------\n",
    "    n : int\n",
    "        number of input.\n",
    "\n",
    "    Returns\n",
    "    -------\n",
    "    TYPE int\n",
    "        Return Fibonacci Sequence number.\n",
    "\n",
    "    '''\n",
    "    if n == 0:\n",
    "        return 0\n",
    "    elif n == 1:\n",
    "        return 1\n",
    "    elif n < 0:\n",
    "        return \"n cannot be negative\"\n",
    "    while n >= 2:\n",
    "        summation = fib_whl(n-1) + fib_whl(n-2)\n",
    "        return summation "
   ]
  },
  {
   "cell_type": "markdown",
   "metadata": {},
   "source": [
    "### d. fib_rnd()"
   ]
  },
  {
   "cell_type": "code",
   "execution_count": 5,
   "metadata": {},
   "outputs": [],
   "source": [
    "def fib_rnd(n):\n",
    "    '''\n",
    "    \n",
    "\n",
    "    Parameters\n",
    "    ----------\n",
    "    n : int\n",
    "        number of input.\n",
    "\n",
    "    Returns\n",
    "    -------\n",
    "    TYPE int\n",
    "        Return Fibonacci Sequence number.\n",
    "\n",
    "    '''\n",
    "    if n < 0:\n",
    "        return n\n",
    "    else:\n",
    "        pho = (1+math.sqrt(5))/2\n",
    "        fn = (pho ** n)/math.sqrt(5)\n",
    "        return math.ceil(fn)"
   ]
  },
  {
   "cell_type": "markdown",
   "metadata": {},
   "source": [
    "### e. fib_flr()"
   ]
  },
  {
   "cell_type": "code",
   "execution_count": 6,
   "metadata": {},
   "outputs": [],
   "source": [
    "def fib_flr(n):\n",
    "    '''\n",
    "    \n",
    "\n",
    "    Parameters\n",
    "    ----------\n",
    "    n : int\n",
    "        number of input.\n",
    "\n",
    "    Returns\n",
    "    -------\n",
    "    TYPE int\n",
    "        Return Fibonacci Sequence number.\n",
    "\n",
    "    '''\n",
    "    if n < 0:\n",
    "        return n\n",
    "    else:\n",
    "        pho = (1+math.sqrt(5))/2\n",
    "        fn = (pho ** n)/math.sqrt(5) + 1/2\n",
    "        return math.floor(fn)"
   ]
  },
  {
   "cell_type": "markdown",
   "metadata": {},
   "source": [
    "### f. execution time"
   ]
  },
  {
   "cell_type": "code",
   "execution_count": 7,
   "metadata": {},
   "outputs": [
    {
     "data": {
      "text/html": [
       "<div>\n",
       "<style scoped>\n",
       "    .dataframe tbody tr th:only-of-type {\n",
       "        vertical-align: middle;\n",
       "    }\n",
       "\n",
       "    .dataframe tbody tr th {\n",
       "        vertical-align: top;\n",
       "    }\n",
       "\n",
       "    .dataframe thead th {\n",
       "        text-align: right;\n",
       "    }\n",
       "</style>\n",
       "<table border=\"1\" class=\"dataframe\">\n",
       "  <thead>\n",
       "    <tr style=\"text-align: right;\">\n",
       "      <th></th>\n",
       "      <th>Function</th>\n",
       "      <th>median, s</th>\n",
       "    </tr>\n",
       "  </thead>\n",
       "  <tbody>\n",
       "    <tr>\n",
       "      <th>0</th>\n",
       "      <td>fib_rec</td>\n",
       "      <td>0.000</td>\n",
       "    </tr>\n",
       "    <tr>\n",
       "      <th>1</th>\n",
       "      <td>fib_rec</td>\n",
       "      <td>0.003</td>\n",
       "    </tr>\n",
       "    <tr>\n",
       "      <th>2</th>\n",
       "      <td>fib_rec</td>\n",
       "      <td>0.007</td>\n",
       "    </tr>\n",
       "    <tr>\n",
       "      <th>3</th>\n",
       "      <td>fib_for</td>\n",
       "      <td>0.000</td>\n",
       "    </tr>\n",
       "    <tr>\n",
       "      <th>4</th>\n",
       "      <td>fib_for</td>\n",
       "      <td>0.000</td>\n",
       "    </tr>\n",
       "    <tr>\n",
       "      <th>5</th>\n",
       "      <td>fib_for</td>\n",
       "      <td>0.000</td>\n",
       "    </tr>\n",
       "    <tr>\n",
       "      <th>6</th>\n",
       "      <td>fib_whl</td>\n",
       "      <td>0.000</td>\n",
       "    </tr>\n",
       "    <tr>\n",
       "      <th>7</th>\n",
       "      <td>fib_whl</td>\n",
       "      <td>0.002</td>\n",
       "    </tr>\n",
       "    <tr>\n",
       "      <th>8</th>\n",
       "      <td>fib_whl</td>\n",
       "      <td>0.006</td>\n",
       "    </tr>\n",
       "    <tr>\n",
       "      <th>9</th>\n",
       "      <td>fib_rnd</td>\n",
       "      <td>0.000</td>\n",
       "    </tr>\n",
       "    <tr>\n",
       "      <th>10</th>\n",
       "      <td>fib_rnd</td>\n",
       "      <td>0.000</td>\n",
       "    </tr>\n",
       "    <tr>\n",
       "      <th>11</th>\n",
       "      <td>fib_rnd</td>\n",
       "      <td>0.000</td>\n",
       "    </tr>\n",
       "    <tr>\n",
       "      <th>12</th>\n",
       "      <td>fib_flr</td>\n",
       "      <td>0.000</td>\n",
       "    </tr>\n",
       "    <tr>\n",
       "      <th>13</th>\n",
       "      <td>fib_flr</td>\n",
       "      <td>0.000</td>\n",
       "    </tr>\n",
       "    <tr>\n",
       "      <th>14</th>\n",
       "      <td>fib_flr</td>\n",
       "      <td>0.000</td>\n",
       "    </tr>\n",
       "  </tbody>\n",
       "</table>\n",
       "</div>"
      ],
      "text/plain": [
       "   Function median, s\n",
       "0   fib_rec     0.000\n",
       "1   fib_rec     0.003\n",
       "2   fib_rec     0.007\n",
       "3   fib_for     0.000\n",
       "4   fib_for     0.000\n",
       "5   fib_for     0.000\n",
       "6   fib_whl     0.000\n",
       "7   fib_whl     0.002\n",
       "8   fib_whl     0.006\n",
       "9   fib_rnd     0.000\n",
       "10  fib_rnd     0.000\n",
       "11  fib_rnd     0.000\n",
       "12  fib_flr     0.000\n",
       "13  fib_flr     0.000\n",
       "14  fib_flr     0.000"
      ]
     },
     "execution_count": 7,
     "metadata": {},
     "output_type": "execute_result"
    }
   ],
   "source": [
    "count = [7,11,13]\n",
    "time_lst = defaultdict(list)\n",
    "for f in [fib_rec, fib_for, fib_whl, fib_rnd, fib_flr]:\n",
    "    for var in count:\n",
    "        t = timeit.Timer(\"f(var)\",globals = {'f': f, 'var':var})\n",
    "        tm = t.repeat(repeat=100, number=50)\n",
    "        time_lst['Function'].append(f.__name__)\n",
    "        time_lst['median, s'].append(np.median(tm))\n",
    "time_lst = pd.DataFrame(time_lst)\n",
    "for c, d in zip(time_lst.columns, time_lst.dtypes):\n",
    "    if d == np.dtype('float64'):\n",
    "        time_lst[c] = time_lst[c].map(lambda x: '%5.3f' % x)\n",
    "time_lst"
   ]
  },
  {
   "cell_type": "markdown",
   "metadata": {},
   "source": [
    "### Q2 - Pascal’s Triangle"
   ]
  },
  {
   "cell_type": "markdown",
   "metadata": {},
   "source": [
    "### a. SpecificRow"
   ]
  },
  {
   "cell_type": "code",
   "execution_count": 8,
   "metadata": {},
   "outputs": [],
   "source": [
    "def specifiedRow(n):\n",
    "    rowNum = [1]\n",
    "    for k in range(n):\n",
    "        rowNum.append(round(rowNum[k] * (n-k) / (k+1)))\n",
    "    return print(str(rowNum).strip('[]'))"
   ]
  },
  {
   "cell_type": "markdown",
   "metadata": {},
   "source": [
    "### b. Print Triangle"
   ]
  },
  {
   "cell_type": "code",
   "execution_count": 9,
   "metadata": {},
   "outputs": [],
   "source": [
    "def picTriangle(n):\n",
    "    for i in range(n+1):\n",
    "        row = 1\n",
    "        for j in range(n-i+1):\n",
    "            print(format(\" \",\"<2\"), end =\"\")        \n",
    "        print(\" \",row, end = \"   \")\n",
    "        for j in range(1,i+1):\n",
    "            row = int(row*(i+1-j)/j)\n",
    "            print(format(row, \"<3\"),end =\" \")\n",
    "        print()"
   ]
  },
  {
   "cell_type": "code",
   "execution_count": 10,
   "metadata": {
    "scrolled": true
   },
   "outputs": [
    {
     "name": "stdout",
     "output_type": "stream",
     "text": [
      "1, 11, 55, 165, 330, 462, 462, 330, 165, 55, 11, 1\n"
     ]
    }
   ],
   "source": [
    "specifiedRow(11)"
   ]
  },
  {
   "cell_type": "code",
   "execution_count": 11,
   "metadata": {},
   "outputs": [
    {
     "name": "stdout",
     "output_type": "stream",
     "text": [
      "                          1   \n",
      "                        1   1   \n",
      "                      1   2   1   \n",
      "                    1   3   3   1   \n",
      "                  1   4   6   4   1   \n",
      "                1   5   10  10  5   1   \n",
      "              1   6   15  20  15  6   1   \n",
      "            1   7   21  35  35  21  7   1   \n",
      "          1   8   28  56  70  56  28  8   1   \n",
      "        1   9   36  84  126 126 84  36  9   1   \n",
      "      1   10  45  120 210 252 210 120 45  10  1   \n",
      "    1   11  55  165 330 462 462 330 165 55  11  1   \n"
     ]
    }
   ],
   "source": [
    "picTriangle(11)"
   ]
  },
  {
   "cell_type": "markdown",
   "metadata": {},
   "source": [
    "### Q3 - Statistics 101"
   ]
  },
  {
   "cell_type": "markdown",
   "metadata": {},
   "source": [
    "### a. Normal Theory"
   ]
  },
  {
   "cell_type": "code",
   "execution_count": 12,
   "metadata": {},
   "outputs": [],
   "source": [
    "# def ci_format():\n",
    "#     ci_format = {'Lower CI': None, 'Upper CI': None, 'Est': None, 'cLevel': None}\n",
    "#     return ci_format"
   ]
  },
  {
   "cell_type": "code",
   "execution_count": 13,
   "metadata": {},
   "outputs": [],
   "source": [
    "def computeEstimate(data, alpha):\n",
    "    #ci_format = ciformat()\n",
    "    randomValues = np.array(data)\n",
    "    mean, sigma = np.mean(randomValues), np.std(randomValues)\n",
    "    se = sigma/math.sqrt(len(randomValues))\n",
    "    zValue = stats.norm.ppf(1 - alpha, 0 ,1)\n",
    "    cLevel = (1 - alpha)*100\n",
    "    ci_lo = mean - zValue * se\n",
    "    ci_hi = mean + zValue * se\n",
    "    result = {'Methods': 'Normal Theory','Lower CI': \"%.3f\" %ci_lo, 'Upper CI': \"%.3f\" %ci_hi, 'Est': \"%.3f\" %mean, 'Level': cLevel}\n",
    "    #if ci_format == None:\n",
    "    #    return result\n",
    "    #else:\n",
    "    #return '{Est}[{cLevel}%CI:({ci_lo},{ci_hi})]'.format_map(result)\n",
    "    return result"
   ]
  },
  {
   "cell_type": "code",
   "execution_count": 14,
   "metadata": {},
   "outputs": [
    {
     "data": {
      "text/plain": [
       "{'Methods': 'Normal Theory',\n",
       " 'Lower CI': '1.960',\n",
       " 'Upper CI': '4.040',\n",
       " 'Est': '3.000',\n",
       " 'Level': 95.0}"
      ]
     },
     "execution_count": 14,
     "metadata": {},
     "output_type": "execute_result"
    }
   ],
   "source": [
    "computeEstimate([1,2,3,4,5],0.05)"
   ]
  },
  {
   "cell_type": "markdown",
   "metadata": {},
   "source": [
    "### b. Confidence Level"
   ]
  },
  {
   "cell_type": "code",
   "execution_count": 15,
   "metadata": {},
   "outputs": [],
   "source": [
    "def computeConfiInt(n, x, alpha, methods):\n",
    "    randomValues = np.asarray(n)\n",
    "    zValue = stats.norm.ppf(1 - alpha/2)\n",
    "    pHat = x/len(randomValues)\n",
    "    cLevel = (1 - alpha)*100\n",
    "    if methods == 'Normal Approximation':\n",
    "        if min((len(randomValues))*pHat, (len(randomValues))*(1-pHat))>12:\n",
    "            ci_lo = pHat - zValue * math.sqrt(pHat*(1-pHat)/len(randomValues))\n",
    "            ci_hi = pHat + zValue * math.sqrt(pHat*(1-pHat)/len(randomValues))\n",
    "            result = {'Methods': methods, 'Lower CI': \"%.3f\" %ci_lo, 'Upper CI': \"%.3f\" %ci_hi, 'Level': cLevel}\n",
    "        else:\n",
    "            return warnings.warn(\"The np value or n(1-p) value is below 12\")\n",
    "    \n",
    "    elif methods == 'Clopper-Pearson':\n",
    "        ci_lo = stats.beta.ppf(alpha/2, x, len(randomValues) - x + 1)\n",
    "        ci_hi = stats.beta.ppf(1 - alpha/2, x + 1, len(randomValues) - x)\n",
    "        result = {'Methods': methods,'Lower CI': \"%.3f\" %ci_lo, 'Upper CI': \"%.3f\" %ci_hi, 'Level': cLevel}\n",
    "        \n",
    "    elif methods == 'Jeffrey’s interval':\n",
    "        ci_lo = max(stats.beta.ppf(alpha/2, x + 0.5, len(randomValues) - x + 0.5),0)\n",
    "        ci_hi = min(stats.beta.ppf(1 - alpha/2, x + 0.5, len(randomValues) - x + 0.5),1)\n",
    "        result = {'Methods': methods, 'Lower CI': \"%.3f\" %ci_lo, 'Upper CI': \"%.3f\" %ci_hi, 'Level': cLevel}\n",
    "        \n",
    "    elif methods == 'Agresti-Coull interval':\n",
    "        nbar = len(randomValues) + zValue ** 2\n",
    "        pbar = (x + (zValue**2)/2)/nbar\n",
    "        ci_lo = pbar - zValue*math.sqrt(pbar*(1-pbar)/nbar)\n",
    "        ci_hi = pbar + zValue*math.sqrt(pbar*(1-pbar)/nbar)\n",
    "        result = {'Methods': methods, 'Lower CI': \"%.3f\" %ci_lo, 'Upper CI': \"%.3f\" %ci_hi, 'Level': cLevel}\n",
    "        \n",
    "    else:\n",
    "        return 'Method does not exist.'\n",
    "    \n",
    "    return result"
   ]
  },
  {
   "cell_type": "code",
   "execution_count": 16,
   "metadata": {},
   "outputs": [
    {
     "data": {
      "text/plain": [
       "{'Methods': 'Agresti-Coull interval',\n",
       " 'Lower CI': '0.031',\n",
       " 'Upper CI': '0.435',\n",
       " 'Level': 95.0}"
      ]
     },
     "execution_count": 16,
     "metadata": {},
     "output_type": "execute_result"
    }
   ],
   "source": [
    "computeConfiInt([1,2,3,4,5,6,7,8,9,10,11,12,13],2, 0.05, 'Agresti-Coull interval')"
   ]
  },
  {
   "cell_type": "code",
   "execution_count": 4,
   "metadata": {},
   "outputs": [],
   "source": [
    "def ci_prop(\n",
    "    x,\n",
    "    level=0.95,\n",
    "    str_fmt=\"{mean:.2f} [{level:.0f}%: ({lwr:.2f}, {upr:.2f})]\",\n",
    "    method=\"Normal\"\n",
    "):\n",
    "    try:\n",
    "        x = np.asarray(x)  # or np.array() as instructed.\n",
    "    except TypeError:\n",
    "        print(\"Could not convert x to type ndarray.\")\n",
    "\n",
    "    # check that x is bool or 0/1\n",
    "    if x.dtype is np.dtype('bool'):\n",
    "        pass\n",
    "    elif not np.logical_or(x == 0, x == 1).all():\n",
    "        raise TypeError(\"x should be dtype('bool') or all 0's and 1's.\")\n",
    "\n",
    "    # check method\n",
    "    assert method in [\"Normal\", \"CP\", \"Jeffrey\", \"AC\"]\n",
    "\n",
    "    # determine the length\n",
    "    n = x.size\n",
    "\n",
    "    # compute estimate\n",
    "    if method == 'AC':\n",
    "        z = norm.ppf(1 - (1 - level) / 2)\n",
    "        n = (n + z ** 2)\n",
    "        est = (np.sum(x) + z ** 2 / 2) / n\n",
    "    else:\n",
    "        est = np.mean(x)\n",
    "\n",
    "    # warn for small sample size with \"Normal\" method\n",
    "    if method == 'Normal' and (n * min(est, 1 - est)) < 12:\n",
    "        warn(Warning(\n",
    "            \"Normal approximation may be incorrect for n * min(p, 1-p) < 12.\"\n",
    "        ))\n",
    "\n",
    "    # compute bounds for Normal and AC methods\n",
    "    if method in ['Normal', 'AC']:\n",
    "        se = np.sqrt(est * (1 - est) / n)\n",
    "        z = norm.ppf(1 - (1 - level) / 2)\n",
    "        lwr, upr = est - z * se, est + z * se\n",
    "\n",
    "    # compute bounds for CP method\n",
    "    if method == 'CP':\n",
    "        alpha = 1 - level\n",
    "        s = np.sum(x)\n",
    "        lwr = beta.ppf(alpha / 2, s, n - s + 1)\n",
    "        upr = beta.ppf(1 - alpha / 2, s + 1, n - s)\n",
    "\n",
    "    # compute bounds for Jeffrey method\n",
    "    if method == 'Jeffrey':\n",
    "        alpha = 1 - level\n",
    "        s = np.sum(x)\n",
    "        lwr = beta.ppf(alpha / 2, s + 0.5, n - s + 0.5)\n",
    "        upr = beta.ppf(1 - alpha / 2, s + 0.5, n - s + 0.5)\n",
    "\n",
    "    # prepare return values\n",
    "    out = {\"mean\": est, \"level\": 100 * level, \"lwr\": lwr, \"upr\": upr}\n",
    "    if str_fmt is None:\n",
    "        return(out)\n",
    "    else:\n",
    "        return(str_fmt.format_map(out))"
   ]
  },
  {
   "cell_type": "code",
   "execution_count": 8,
   "metadata": {},
   "outputs": [
    {
     "name": "stderr",
     "output_type": "stream",
     "text": [
      "<ipython-input-4-ff848d3960e3>:34: Warning: Normal approximation may be incorrect for n * min(p, 1-p) < 12.\n",
      "  warn(Warning(\n"
     ]
    },
    {
     "data": {
      "text/plain": [
       "'0.63 [95%: (0.41, 0.85)]'"
      ]
     },
     "execution_count": 8,
     "metadata": {},
     "output_type": "execute_result"
    }
   ],
   "source": [
    "ci_prop(\n",
    "    [1,1,1,1,1,0,0,0,0,1,1,1,1,0,0,0,1,1,1],\n",
    "    level=0.95,\n",
    "    str_fmt=\"{mean:.2f} [{level:.0f}%: ({lwr:.2f}, {upr:.2f})]\",\n",
    "    method=\"Normal\"\n",
    ")"
   ]
  },
  {
   "cell_type": "markdown",
   "metadata": {},
   "source": [
    "### c. Table Format"
   ]
  },
  {
   "cell_type": "code",
   "execution_count": 18,
   "metadata": {},
   "outputs": [],
   "source": [
    "zeros = np.zeros(48)\n",
    "ones = np.ones(42)\n",
    "arr = np.concatenate((zeros, ones), axis=0)"
   ]
  },
  {
   "cell_type": "markdown",
   "metadata": {},
   "source": [
    "#### Data Arrangement"
   ]
  },
  {
   "cell_type": "code",
   "execution_count": 19,
   "metadata": {},
   "outputs": [
    {
     "data": {
      "text/html": [
       "<div>\n",
       "<style scoped>\n",
       "    .dataframe tbody tr th:only-of-type {\n",
       "        vertical-align: middle;\n",
       "    }\n",
       "\n",
       "    .dataframe tbody tr th {\n",
       "        vertical-align: top;\n",
       "    }\n",
       "\n",
       "    .dataframe thead th {\n",
       "        text-align: right;\n",
       "    }\n",
       "</style>\n",
       "<table border=\"1\" class=\"dataframe\">\n",
       "  <thead>\n",
       "    <tr style=\"text-align: right;\">\n",
       "      <th></th>\n",
       "      <th>Confi Level</th>\n",
       "      <th>Confi Inter</th>\n",
       "      <th>Width</th>\n",
       "    </tr>\n",
       "  </thead>\n",
       "  <tbody>\n",
       "    <tr>\n",
       "      <th>4</th>\n",
       "      <td>90.0%</td>\n",
       "      <td>(0.382 , 0.553)</td>\n",
       "      <td>0.171</td>\n",
       "    </tr>\n",
       "    <tr>\n",
       "      <th>9</th>\n",
       "      <td>95.0%</td>\n",
       "      <td>(0.367 , 0.569)</td>\n",
       "      <td>0.202</td>\n",
       "    </tr>\n",
       "    <tr>\n",
       "      <th>14</th>\n",
       "      <td>99.0%</td>\n",
       "      <td>(0.338 , 0.600)</td>\n",
       "      <td>0.262</td>\n",
       "    </tr>\n",
       "    <tr>\n",
       "      <th>2</th>\n",
       "      <td>90.0%</td>\n",
       "      <td>(0.376 , 0.559)</td>\n",
       "      <td>0.183</td>\n",
       "    </tr>\n",
       "    <tr>\n",
       "      <th>7</th>\n",
       "      <td>95.0%</td>\n",
       "      <td>(0.361 , 0.575)</td>\n",
       "      <td>0.214</td>\n",
       "    </tr>\n",
       "    <tr>\n",
       "      <th>12</th>\n",
       "      <td>99.0%</td>\n",
       "      <td>(0.331 , 0.606)</td>\n",
       "      <td>0.275</td>\n",
       "    </tr>\n",
       "    <tr>\n",
       "      <th>3</th>\n",
       "      <td>90.0%</td>\n",
       "      <td>(0.382 , 0.553)</td>\n",
       "      <td>0.171</td>\n",
       "    </tr>\n",
       "    <tr>\n",
       "      <th>8</th>\n",
       "      <td>95.0%</td>\n",
       "      <td>(0.366 , 0.569)</td>\n",
       "      <td>0.203</td>\n",
       "    </tr>\n",
       "    <tr>\n",
       "      <th>13</th>\n",
       "      <td>99.0%</td>\n",
       "      <td>(0.336 , 0.601)</td>\n",
       "      <td>0.265</td>\n",
       "    </tr>\n",
       "    <tr>\n",
       "      <th>1</th>\n",
       "      <td>90.0%</td>\n",
       "      <td>(0.380 , 0.553)</td>\n",
       "      <td>0.173</td>\n",
       "    </tr>\n",
       "    <tr>\n",
       "      <th>6</th>\n",
       "      <td>95.0%</td>\n",
       "      <td>(0.364 , 0.570)</td>\n",
       "      <td>0.206</td>\n",
       "    </tr>\n",
       "    <tr>\n",
       "      <th>11</th>\n",
       "      <td>99.0%</td>\n",
       "      <td>(0.331 , 0.602)</td>\n",
       "      <td>0.271</td>\n",
       "    </tr>\n",
       "    <tr>\n",
       "      <th>0</th>\n",
       "      <td>90.0%</td>\n",
       "      <td>(0.399 , 0.534)</td>\n",
       "      <td>0.135</td>\n",
       "    </tr>\n",
       "    <tr>\n",
       "      <th>5</th>\n",
       "      <td>95.0%</td>\n",
       "      <td>(0.380 , 0.553)</td>\n",
       "      <td>0.173</td>\n",
       "    </tr>\n",
       "    <tr>\n",
       "      <th>10</th>\n",
       "      <td>99.0%</td>\n",
       "      <td>(0.344 , 0.589)</td>\n",
       "      <td>0.245</td>\n",
       "    </tr>\n",
       "  </tbody>\n",
       "</table>\n",
       "</div>"
      ],
      "text/plain": [
       "   Confi Level      Confi Inter  Width\n",
       "4        90.0%  (0.382 , 0.553)  0.171\n",
       "9        95.0%  (0.367 , 0.569)  0.202\n",
       "14       99.0%  (0.338 , 0.600)  0.262\n",
       "2        90.0%  (0.376 , 0.559)  0.183\n",
       "7        95.0%  (0.361 , 0.575)  0.214\n",
       "12       99.0%  (0.331 , 0.606)  0.275\n",
       "3        90.0%  (0.382 , 0.553)  0.171\n",
       "8        95.0%  (0.366 , 0.569)  0.203\n",
       "13       99.0%  (0.336 , 0.601)  0.265\n",
       "1        90.0%  (0.380 , 0.553)  0.173\n",
       "6        95.0%  (0.364 , 0.570)  0.206\n",
       "11       99.0%  (0.331 , 0.602)  0.271\n",
       "0        90.0%  (0.399 , 0.534)  0.135\n",
       "5        95.0%  (0.380 , 0.553)  0.173\n",
       "10       99.0%  (0.344 , 0.589)  0.245"
      ]
     },
     "execution_count": 19,
     "metadata": {},
     "output_type": "execute_result"
    }
   ],
   "source": [
    "alphaVal = [0.10, 0.05, 0.01]\n",
    "confiList = ['Normal Approximation','Clopper-Pearson','Jeffrey’s interval','Agresti-Coull interval']\n",
    "emptyList = []\n",
    "for val in alphaVal:\n",
    "    result_a = computeEstimate(arr, val)\n",
    "    emptyList.append(result_a)\n",
    "    for i in confiList:\n",
    "        result_b = computeConfiInt(arr, 42, val, i)\n",
    "        emptyList.append(result_b)\n",
    "dFrame = pd.DataFrame(emptyList)\n",
    "dFrame['Confi Inter'] = '(' + dFrame['Lower CI'] + ' , ' + dFrame['Upper CI'] + ')'\n",
    "dFrame['Confi Level'] = dFrame['Level'].astype(str) + '%'\n",
    "dFrame = dFrame.sort_values(by = 'Methods')\n",
    "dFrame['Width'] = dFrame['Upper CI'].astype(float) - dFrame['Lower CI'].astype(float)\n",
    "dFrame = dFrame.sort_values(by = ['Methods','Width'])\n",
    "dFrame_extracted = dFrame[['Confi Level', 'Confi Inter', 'Width']]\n",
    "dFrame_extracted"
   ]
  },
  {
   "cell_type": "markdown",
   "metadata": {},
   "source": [
    "#### Average width"
   ]
  },
  {
   "cell_type": "code",
   "execution_count": 20,
   "metadata": {},
   "outputs": [
    {
     "data": {
      "text/html": [
       "<div>\n",
       "<style scoped>\n",
       "    .dataframe tbody tr th:only-of-type {\n",
       "        vertical-align: middle;\n",
       "    }\n",
       "\n",
       "    .dataframe tbody tr th {\n",
       "        vertical-align: top;\n",
       "    }\n",
       "\n",
       "    .dataframe thead th {\n",
       "        text-align: right;\n",
       "    }\n",
       "</style>\n",
       "<table border=\"1\" class=\"dataframe\">\n",
       "  <thead>\n",
       "    <tr style=\"text-align: right;\">\n",
       "      <th></th>\n",
       "      <th></th>\n",
       "      <th>Width</th>\n",
       "    </tr>\n",
       "    <tr>\n",
       "      <th>Methods</th>\n",
       "      <th>Confi Level</th>\n",
       "      <th></th>\n",
       "    </tr>\n",
       "  </thead>\n",
       "  <tbody>\n",
       "    <tr>\n",
       "      <th rowspan=\"3\" valign=\"top\">Agresti-Coull interval</th>\n",
       "      <th>90.0%</th>\n",
       "      <td>0.171</td>\n",
       "    </tr>\n",
       "    <tr>\n",
       "      <th>95.0%</th>\n",
       "      <td>0.202</td>\n",
       "    </tr>\n",
       "    <tr>\n",
       "      <th>99.0%</th>\n",
       "      <td>0.262</td>\n",
       "    </tr>\n",
       "    <tr>\n",
       "      <th rowspan=\"3\" valign=\"top\">Clopper-Pearson</th>\n",
       "      <th>90.0%</th>\n",
       "      <td>0.183</td>\n",
       "    </tr>\n",
       "    <tr>\n",
       "      <th>95.0%</th>\n",
       "      <td>0.214</td>\n",
       "    </tr>\n",
       "    <tr>\n",
       "      <th>99.0%</th>\n",
       "      <td>0.275</td>\n",
       "    </tr>\n",
       "    <tr>\n",
       "      <th rowspan=\"3\" valign=\"top\">Jeffrey’s interval</th>\n",
       "      <th>90.0%</th>\n",
       "      <td>0.171</td>\n",
       "    </tr>\n",
       "    <tr>\n",
       "      <th>95.0%</th>\n",
       "      <td>0.203</td>\n",
       "    </tr>\n",
       "    <tr>\n",
       "      <th>99.0%</th>\n",
       "      <td>0.265</td>\n",
       "    </tr>\n",
       "    <tr>\n",
       "      <th rowspan=\"3\" valign=\"top\">Normal Approximation</th>\n",
       "      <th>90.0%</th>\n",
       "      <td>0.173</td>\n",
       "    </tr>\n",
       "    <tr>\n",
       "      <th>95.0%</th>\n",
       "      <td>0.206</td>\n",
       "    </tr>\n",
       "    <tr>\n",
       "      <th>99.0%</th>\n",
       "      <td>0.271</td>\n",
       "    </tr>\n",
       "    <tr>\n",
       "      <th rowspan=\"3\" valign=\"top\">Normal Theory</th>\n",
       "      <th>90.0%</th>\n",
       "      <td>0.135</td>\n",
       "    </tr>\n",
       "    <tr>\n",
       "      <th>95.0%</th>\n",
       "      <td>0.173</td>\n",
       "    </tr>\n",
       "    <tr>\n",
       "      <th>99.0%</th>\n",
       "      <td>0.245</td>\n",
       "    </tr>\n",
       "  </tbody>\n",
       "</table>\n",
       "</div>"
      ],
      "text/plain": [
       "                                    Width\n",
       "Methods                Confi Level       \n",
       "Agresti-Coull interval 90.0%        0.171\n",
       "                       95.0%        0.202\n",
       "                       99.0%        0.262\n",
       "Clopper-Pearson        90.0%        0.183\n",
       "                       95.0%        0.214\n",
       "                       99.0%        0.275\n",
       "Jeffrey’s interval     90.0%        0.171\n",
       "                       95.0%        0.203\n",
       "                       99.0%        0.265\n",
       "Normal Approximation   90.0%        0.173\n",
       "                       95.0%        0.206\n",
       "                       99.0%        0.271\n",
       "Normal Theory          90.0%        0.135\n",
       "                       95.0%        0.173\n",
       "                       99.0%        0.245"
      ]
     },
     "execution_count": 20,
     "metadata": {},
     "output_type": "execute_result"
    }
   ],
   "source": [
    "dFrame_pivot = pd.pivot_table(dFrame, index = ['Methods','Confi Level'], values = 'Width', aggfunc = np.mean)\n",
    "dFrame_pivot"
   ]
  },
  {
   "cell_type": "markdown",
   "metadata": {},
   "source": [
    "#### Table Display"
   ]
  },
  {
   "cell_type": "code",
   "execution_count": 21,
   "metadata": {},
   "outputs": [
    {
     "name": "stdout",
     "output_type": "stream",
     "text": [
      "    Confi Level    Confi Inter        Width\n",
      "--  -------------  ---------------  -------\n",
      " 4  90.0%          (0.382 , 0.553)    0.171\n",
      " 9  95.0%          (0.367 , 0.569)    0.202\n",
      "14  99.0%          (0.338 , 0.600)    0.262\n",
      " 2  90.0%          (0.376 , 0.559)    0.183\n",
      " 7  95.0%          (0.361 , 0.575)    0.214\n",
      "12  99.0%          (0.331 , 0.606)    0.275\n",
      " 3  90.0%          (0.382 , 0.553)    0.171\n",
      " 8  95.0%          (0.366 , 0.569)    0.203\n",
      "13  99.0%          (0.336 , 0.601)    0.265\n",
      " 1  90.0%          (0.380 , 0.553)    0.173\n",
      " 6  95.0%          (0.364 , 0.570)    0.206\n",
      "11  99.0%          (0.331 , 0.602)    0.271\n",
      " 0  90.0%          (0.399 , 0.534)    0.135\n",
      " 5  95.0%          (0.380 , 0.553)    0.173\n",
      "10  99.0%          (0.344 , 0.589)    0.245\n"
     ]
    }
   ],
   "source": [
    "table = tabulate(dFrame_extracted, headers = 'keys',floatfmt= (\".2f\",\".2f\"))\n",
    "print(table)"
   ]
  }
 ],
 "metadata": {
  "jupytext": {
   "encoding": "# -*- coding: utf-8 -*-",
   "formats": "ipynb,py:light"
  },
  "kernelspec": {
   "display_name": "Python 3",
   "language": "python",
   "name": "python3"
  },
  "language_info": {
   "codemirror_mode": {
    "name": "ipython",
    "version": 3
   },
   "file_extension": ".py",
   "mimetype": "text/x-python",
   "name": "python",
   "nbconvert_exporter": "python",
   "pygments_lexer": "ipython3",
   "version": "3.8.3"
  }
 },
 "nbformat": 4,
 "nbformat_minor": 4
}
