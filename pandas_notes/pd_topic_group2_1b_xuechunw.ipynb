{
 "cells": [
  {
   "cell_type": "markdown",
   "metadata": {
    "slideshow": {
     "slide_type": "slide"
    }
   },
   "source": [
    "## **Name**  : *Xin Luo*\n",
    "## **EMAIL**  :  *luosanj@umich.edu*"
   ]
  },
  {
   "cell_type": "markdown",
   "metadata": {
    "slideshow": {
     "slide_type": "slide"
    }
   },
   "source": [
    "#  Question 0\n",
    "\n",
    "##  Pandas .interpolate() method\n",
    "\n",
    "* Method *interpolate* is very useful to fill NaN values.\n",
    "* By default, NaN values can be filled by other values with the same index for different methods.\n",
    "* Please note that NaN values in DataFrame/Series with MultiIndex can be filled by 'linear' method as\n",
    "<code>method = 'linear' </code>. "
   ]
  },
  {
   "cell_type": "code",
   "execution_count": null,
   "metadata": {
    "slideshow": {
     "slide_type": "subslide"
    }
   },
   "outputs": [],
   "source": [
    "import pandas as pd\n",
    "import numpy as np\n",
    "a = pd.DataFrame({'a' : [1, 2, np.nan, 5], 'b' : [4, np.nan, 6, 8]})\n",
    "a.interpolate(method = 'linear')"
   ]
  },
  {
   "cell_type": "markdown",
   "metadata": {
    "slideshow": {
     "slide_type": "slide"
    }
   },
   "source": [
    "### Parameters in .interpolate()\n",
    "##### *parameter **'method'** : *str*, default *'linear'\n",
    "\n",
    "\n",
    "* Most commonly used methods:\n",
    "    * 1. **'linear'** : linear regression mind to fit the missing ones.\n",
    "    * 2. **'pad', 'limit'** :  Fill in NaNs using existing values. Note:Interpolation through padding means copying the value just before a missing entry.While using padding interpolation, you need to specify a limit. The limit is the maximum number of nans the method can fill consecutively.\n",
    "    * 3. **'polynomial', 'order'** : Polynomial regression mind with a set order to fit the missing ones. Note : NaN of the first column remains, because there is no entry before it to use for interpolation."
   ]
  },
  {
   "cell_type": "code",
   "execution_count": null,
   "metadata": {
    "slideshow": {
     "slide_type": "subslide"
    }
   },
   "outputs": [],
   "source": [
    "m =  pd.Series([0, 1, np.nan, np.nan, 3, 5, 8])\n",
    "m.interpolate(method = 'pad', limit = 2)"
   ]
  },
  {
   "cell_type": "code",
   "execution_count": null,
   "metadata": {
    "slideshow": {
     "slide_type": "subslide"
    }
   },
   "outputs": [],
   "source": [
    "n = pd.Series([10, 2, np.nan, 4, np.nan, 3, 2, 6]) \n",
    "n.interpolate(method = 'polynomial', order = 2)"
   ]
  },
  {
   "cell_type": "markdown",
   "metadata": {
    "slideshow": {
     "slide_type": "slide"
    }
   },
   "source": [
    "##### parameter **'axis'** :  default *None*\n",
    "* 1. axis = 0 : Axis to interpolate along is index.\n",
    "* 2. axis = 1 : Axis to interpolate along is column.\n",
    "    "
   ]
  },
  {
   "cell_type": "code",
   "execution_count": null,
   "metadata": {
    "slideshow": {
     "slide_type": "subslide"
    }
   },
   "outputs": [],
   "source": [
    "k = pd.DataFrame({'a' : [1, 2, np.nan, 5], 'b' : [4, np.nan, 6, 8]})\n",
    "k.interpolate(method = 'linear', axis = 0)\n",
    "k.interpolate(method = 'linear', axis = 1)"
   ]
  },
  {
   "cell_type": "markdown",
   "metadata": {
    "slideshow": {
     "slide_type": "slide"
    }
   },
   "source": [
    "###  Returns\n",
    "* Series or DataFrame or None\n",
    "* Returns the same object type as the caller, interpolated at some or all NaN values or None if `inplace=True`."
   ]
  },
  {
   "cell_type": "markdown",
   "metadata": {},
   "source": [
    "---\n",
    "jupyter:\n",
    "  jupytext:\n",
    "    cell_metadata_json: true\n",
    "    notebook_metadata_filter: markdown\n",
    "    text_representation:\n",
    "      extension: .py\n",
    "      format_name: light\n",
    "      format_version: '1.5'\n",
    "      jupytext_version: 1.13.0\n",
    "  kernelspec:\n",
    "    display_name: Python 3\n",
    "    language: python\n",
    "    name: python3\n",
    "---"
   ]
  },
  {
   "cell_type": "markdown",
   "metadata": {},
   "source": [
    "## Topics in Pandas\n",
    "**Stats 507, Fall 2021** \n",
    "  "
   ]
  },
  {
   "cell_type": "markdown",
   "metadata": {},
   "source": [
    "## Contents\n",
    "\n",
    "+ [DateTime in Pandas](#DateTime-in-Pandas) \n",
    "+ [Create DatetimeIndex](#Create-DatetimeIndex) \n",
    "+ [Convert from other types](#Convert-from-other-types) \n",
    "+ [Indexing with DatetimeIndex](#Indexing-with-DatetimeIndex) \n",
    "+ [Date/time components in the DatetimeIndex](#Date/time-components-in-the-DatetimeIndex) \n",
    "+ [Operations on Datetime](#Operations-on-Datetime) "
   ]
  },
  {
   "cell_type": "markdown",
   "metadata": {},
   "source": [
    "## DateTime in Pandas\n",
    "\n",
    "*Qi, Bingnan*\n",
    "bingnanq@umich.edu\n",
    "\n",
    "- Pandas contains a collection of functions and features to deal with time series data. A most commonly used class is `DatetimeIndex`.\n"
   ]
  },
  {
   "cell_type": "markdown",
   "metadata": {},
   "source": [
    "## Create DatetimeIndex\n",
    "\n",
    "- A `DatetimeIndex` array can be created using `pd.date_range()` function. The `start` and `end` parameter can control the start and end of the range and `freq` can be `D` (day), `M` (month), `H` (hour) and other common frequencies."
   ]
  },
  {
   "cell_type": "code",
   "execution_count": null,
   "metadata": {},
   "outputs": [],
   "source": [
    "pd.date_range(start='2020-01-01', end='2020-01-05', freq='D')"
   ]
  },
  {
   "cell_type": "code",
   "execution_count": null,
   "metadata": {},
   "outputs": [],
   "source": [
    "pd.date_range(start='2020-01-01', end='2021-01-01', freq='2M')"
   ]
  },
  {
   "cell_type": "markdown",
   "metadata": {},
   "source": [
    "## Convert from other types\n",
    "\n",
    "- Other list-like objects like strings can also be easily converted to a pandas `DatetimeIndex` using `to_datetime` function. This function can infer the format of the string and convert automatically."
   ]
  },
  {
   "cell_type": "code",
   "execution_count": null,
   "metadata": {},
   "outputs": [],
   "source": [
    "pd.to_datetime([\"2020-01-01\", \"2020-01-03\", \"2020-01-05\"])"
   ]
  },
  {
   "cell_type": "markdown",
   "metadata": {},
   "source": [
    "- A `format` keyword argument can be passed to ensure specific parsing."
   ]
  },
  {
   "cell_type": "code",
   "execution_count": null,
   "metadata": {},
   "outputs": [],
   "source": [
    "pd.to_datetime([\"2020/01/01\", \"2020/01/03\", \"2020/01/05\"], format=\"%Y/%m/%d\")"
   ]
  },
  {
   "cell_type": "markdown",
   "metadata": {},
   "source": [
    "## Indexing with DatetimeIndex\n",
    "\n",
    "- One of the main advantage of using the `DatetimeIndex` is to make index a time series a lot easier. For example, we can use common date string to directly index a part of the time series."
   ]
  },
  {
   "cell_type": "code",
   "execution_count": null,
   "metadata": {},
   "outputs": [],
   "source": [
    "idx = pd.date_range('2000-01-01', '2021-12-31', freq=\"M\")\n",
    "ts = pd.Series(np.random.randn(len(idx)), index=idx)\n",
    "\n",
    "ts['2018-09':'2019-04']"
   ]
  },
  {
   "cell_type": "code",
   "execution_count": null,
   "metadata": {},
   "outputs": [],
   "source": [
    "ts['2021-6':]"
   ]
  },
  {
   "cell_type": "markdown",
   "metadata": {},
   "source": [
    "## Date/time components in the DatetimeIndex\n",
    "\n",
    "- The properties of a date, e.g. `year`, `month`, `day_of_week`, `is_month_end` can be easily obtained from the `DatetimeIndex`."
   ]
  },
  {
   "cell_type": "code",
   "execution_count": null,
   "metadata": {},
   "outputs": [],
   "source": [
    "idx.isocalendar()"
   ]
  },
  {
   "cell_type": "markdown",
   "metadata": {},
   "source": [
    "## Operations on Datetime\n",
    "\n",
    "- We can shift a DatetimeIndex by adding or substracting a `DateOffset`"
   ]
  },
  {
   "cell_type": "code",
   "execution_count": null,
   "metadata": {},
   "outputs": [],
   "source": [
    "idx[:5] + pd.offsets.Day(2)"
   ]
  },
  {
   "cell_type": "code",
   "execution_count": null,
   "metadata": {
    "lines_to_next_cell": 2
   },
   "outputs": [],
   "source": [
    "idx[:5] + pd.offsets.Minute(1)"
   ]
  },
  {
   "cell_type": "code",
   "execution_count": null,
   "metadata": {},
   "outputs": [],
   "source": [
    "!/usr/bin/env python\n",
    "# coding: utf-8"
   ]
  },
  {
   "cell_type": "markdown",
   "metadata": {},
   "source": [
    "### youngwoo Kwon\n",
    "\n",
    "kedwaty@umich.edu"
   ]
  },
  {
   "cell_type": "markdown",
   "metadata": {},
   "source": [
    "# Question 0 - Topics in Pandas"
   ]
  },
  {
   "cell_type": "markdown",
   "metadata": {
    "lines_to_next_cell": 2
   },
   "source": [
    "In[1]:"
   ]
  },
  {
   "cell_type": "code",
   "execution_count": null,
   "metadata": {
    "lines_to_next_cell": 2
   },
   "outputs": [],
   "source": [
    "import pandas as pd\n",
    "import numpy as np\n",
    "import scipy.stats as stats\n",
    "import matplotlib.cm as cm\n",
    "import matplotlib.pyplot as plt\n",
    "import time"
   ]
  },
  {
   "cell_type": "markdown",
   "metadata": {},
   "source": [
    "## Missing Data in Pandas \n",
    "\n",
    "Pandas is very __flexible__ to the missing values\n",
    "\n",
    "* NaN is the default missing value\n",
    "\n",
    "* However, we should deal with the different types such as integer, boolean, or general object.\n",
    "\n",
    "* We should also consider that \"missing\" or \"not available\" or \"NA\"."
   ]
  },
  {
   "cell_type": "markdown",
   "metadata": {},
   "source": [
    "## Detecting the Missing Values\n",
    "\n",
    "* Pandas provides `isna()` and `notna()` function to detect the missing values"
   ]
  },
  {
   "cell_type": "markdown",
   "metadata": {
    "lines_to_next_cell": 2
   },
   "source": [
    "In[2]:"
   ]
  },
  {
   "cell_type": "code",
   "execution_count": null,
   "metadata": {
    "lines_to_next_cell": 2
   },
   "outputs": [],
   "source": [
    "df = pd.DataFrame(\n",
    "    np.random.randn(4, 3),\n",
    "    index=[\"a\", \"c\", \"e\", \"f\"],\n",
    "    columns=[\"one\", \"two\", \"three\"],\n",
    ")\n",
    "df[\"five\"] = df[\"one\"] < 0\n",
    "df2 = df.reindex([\"a\", \"b\", \"c\", \"d\", \"e\"])\n",
    "df2"
   ]
  },
  {
   "cell_type": "markdown",
   "metadata": {
    "lines_to_next_cell": 2
   },
   "source": [
    "In[3]:"
   ]
  },
  {
   "cell_type": "code",
   "execution_count": null,
   "metadata": {
    "lines_to_next_cell": 2
   },
   "outputs": [],
   "source": [
    "df2.isna()"
   ]
  },
  {
   "cell_type": "markdown",
   "metadata": {
    "lines_to_next_cell": 2
   },
   "source": [
    "In[4]:"
   ]
  },
  {
   "cell_type": "code",
   "execution_count": null,
   "metadata": {
    "lines_to_next_cell": 2
   },
   "outputs": [],
   "source": [
    "df2.notna()"
   ]
  },
  {
   "cell_type": "markdown",
   "metadata": {},
   "source": [
    "## More about the Missing Values\n",
    "\n",
    "* In Python, nan's don't compare equal, but None's do.\n",
    "\n",
    "* NaN is a float, but pandas provides a nullable integer array"
   ]
  },
  {
   "cell_type": "markdown",
   "metadata": {
    "lines_to_next_cell": 2
   },
   "source": [
    "In[5]:"
   ]
  },
  {
   "cell_type": "code",
   "execution_count": null,
   "metadata": {
    "lines_to_next_cell": 2
   },
   "outputs": [],
   "source": [
    "None == None"
   ]
  },
  {
   "cell_type": "markdown",
   "metadata": {
    "lines_to_next_cell": 2
   },
   "source": [
    "In[6]:"
   ]
  },
  {
   "cell_type": "code",
   "execution_count": null,
   "metadata": {
    "lines_to_next_cell": 2
   },
   "outputs": [],
   "source": [
    "np.nan == np.nan"
   ]
  },
  {
   "cell_type": "markdown",
   "metadata": {
    "lines_to_next_cell": 2
   },
   "source": [
    "In[7]:"
   ]
  },
  {
   "cell_type": "code",
   "execution_count": null,
   "metadata": {
    "lines_to_next_cell": 2
   },
   "outputs": [],
   "source": [
    "print(df2.iloc[1,1])\n",
    "print(type(df2.iloc[1,1]))"
   ]
  },
  {
   "cell_type": "markdown",
   "metadata": {
    "lines_to_next_cell": 2
   },
   "source": [
    "In[8]:"
   ]
  },
  {
   "cell_type": "code",
   "execution_count": null,
   "metadata": {},
   "outputs": [],
   "source": [
    "pd.Series([1, 2, np.nan, 4], dtype=pd.Int64Dtype())"
   ]
  },
  {
   "cell_type": "markdown",
   "metadata": {},
   "source": [
    "## Topics in Pandas\n",
    "**Stats 507, Fall 2021** \n",
    "  "
   ]
  },
  {
   "cell_type": "markdown",
   "metadata": {},
   "source": [
    "## Contents\n",
    "Add a bullet for each topic and link to the level 2 title header using \n",
    "the exact title with spaces replaced by a dash. \n",
    "\n",
    "+ [Introduction to Python Idioms](https://github.com/boyazh/Stats507/blob/main/pandas_notes/pd_topic_boyazh.py) \n",
    "+ [Topic 2 Title](#Topic-2-Title)"
   ]
  },
  {
   "cell_type": "markdown",
   "metadata": {
    "lines_to_next_cell": 2
   },
   "source": [
    "## Topic Title\n",
    "Python Idioms\n",
    "**Boya Zhang**"
   ]
  },
  {
   "cell_type": "code",
   "execution_count": null,
   "metadata": {},
   "outputs": [],
   "source": [
    "!/usr/bin/env python\n",
    "# coding: utf-8"
   ]
  },
  {
   "cell_type": "code",
   "execution_count": null,
   "metadata": {},
   "outputs": [],
   "source": []
  },
  {
   "cell_type": "markdown",
   "metadata": {},
   "source": [
    "# Question 0"
   ]
  },
  {
   "cell_type": "markdown",
   "metadata": {},
   "source": [
    "## Introduction to Python Idioms  \n",
    "  \n",
    "Boya Zhang (boyazh@umich.edu)  \n",
    "\n",
    "10.16.21\n"
   ]
  },
  {
   "cell_type": "markdown",
   "metadata": {},
   "source": [
    "## Overview  \n",
    "  \n",
    "1. if-then/if-then-else\n",
    "2. splitting\n",
    "3. building criteria"
   ]
  },
  {
   "cell_type": "markdown",
   "metadata": {},
   "source": [
    "## 1. if-then/ if-then-else \n",
    "\n",
    "1.1 You can use if-then to select specific elements on one column, and add assignments to another one or more columns: \n",
    "        "
   ]
  },
  {
   "cell_type": "markdown",
   "metadata": {
    "lines_to_next_cell": 2
   },
   "source": [
    "In[21]:"
   ]
  },
  {
   "cell_type": "code",
   "execution_count": null,
   "metadata": {
    "lines_to_next_cell": 2
   },
   "outputs": [],
   "source": [
    "import pandas as pd\n",
    "df = pd.DataFrame({\"A\": [1, 3, 5, 7, 9], \"B\": [10, 20, 30, 40, 50], \"C\": [100, 200, 300, 400, 500]})\n",
    "df"
   ]
  },
  {
   "cell_type": "markdown",
   "metadata": {},
   "source": [
    "* To assign to one or more column:"
   ]
  },
  {
   "cell_type": "markdown",
   "metadata": {
    "lines_to_next_cell": 2
   },
   "source": [
    "In[22]:"
   ]
  },
  {
   "cell_type": "code",
   "execution_count": null,
   "metadata": {
    "lines_to_next_cell": 2
   },
   "outputs": [],
   "source": [
    "df.loc[df.A > 5, 'B'] = '> 5'\n",
    "df"
   ]
  },
  {
   "cell_type": "markdown",
   "metadata": {},
   "source": [
    "* or"
   ]
  },
  {
   "cell_type": "markdown",
   "metadata": {
    "lines_to_next_cell": 2
   },
   "source": [
    "In[23]:"
   ]
  },
  {
   "cell_type": "code",
   "execution_count": null,
   "metadata": {
    "lines_to_next_cell": 2
   },
   "outputs": [],
   "source": [
    "df.loc[df.A > 5, ['B','C']] = '> 5'\n",
    "df"
   ]
  },
  {
   "cell_type": "markdown",
   "metadata": {},
   "source": [
    "* You can add another line with different logic, to do the ”-else“"
   ]
  },
  {
   "cell_type": "markdown",
   "metadata": {
    "lines_to_next_cell": 2
   },
   "source": [
    "In[25]:"
   ]
  },
  {
   "cell_type": "code",
   "execution_count": null,
   "metadata": {
    "lines_to_next_cell": 2
   },
   "outputs": [],
   "source": [
    "df.loc[df.A <= 5, ['B','C']] = '< 5'\n",
    "df"
   ]
  },
  {
   "cell_type": "markdown",
   "metadata": {},
   "source": [
    "1.2 You can also apply \"if-then-else\" using Numpy's where( ) function"
   ]
  },
  {
   "cell_type": "markdown",
   "metadata": {
    "lines_to_next_cell": 2
   },
   "source": [
    "In[28]:"
   ]
  },
  {
   "cell_type": "code",
   "execution_count": null,
   "metadata": {},
   "outputs": [],
   "source": [
    "import numpy as np\n",
    "import pandas as pd"
   ]
  },
  {
   "cell_type": "code",
   "execution_count": null,
   "metadata": {
    "lines_to_next_cell": 2
   },
   "outputs": [],
   "source": [
    "df = pd.DataFrame({\"A\": [1, 3, 5, 7, 9], \"B\": [10, 20, 30, 40, 50], \"C\": [100, 200, 300, 400, 500]})\n",
    "df['new'] = np.where(df['A'] > 5, '> 5', '< 5')\n",
    "df"
   ]
  },
  {
   "cell_type": "markdown",
   "metadata": {},
   "source": [
    "## 2. Splitting a frame with a boolean criterion"
   ]
  },
  {
   "cell_type": "markdown",
   "metadata": {},
   "source": [
    "You can split a data frame with a boolean criterion"
   ]
  },
  {
   "cell_type": "markdown",
   "metadata": {
    "lines_to_next_cell": 2
   },
   "source": [
    "In[38]:"
   ]
  },
  {
   "cell_type": "code",
   "execution_count": null,
   "metadata": {},
   "outputs": [],
   "source": [
    "import numpy as np\n",
    "import pandas as pd"
   ]
  },
  {
   "cell_type": "code",
   "execution_count": null,
   "metadata": {
    "lines_to_next_cell": 2
   },
   "outputs": [],
   "source": [
    "df = pd.DataFrame({\"A\": [1, 3, 5, 7, 9], \"B\": [10, 20, 30, 40, 50], \"C\": [100, 200, 300, 400, 500]})\n",
    "df"
   ]
  },
  {
   "cell_type": "markdown",
   "metadata": {
    "lines_to_next_cell": 2
   },
   "source": [
    "In[39]:"
   ]
  },
  {
   "cell_type": "code",
   "execution_count": null,
   "metadata": {
    "lines_to_next_cell": 2
   },
   "outputs": [],
   "source": [
    "df[df['A'] > 5]"
   ]
  },
  {
   "cell_type": "markdown",
   "metadata": {
    "lines_to_next_cell": 2
   },
   "source": [
    "In[40]:"
   ]
  },
  {
   "cell_type": "code",
   "execution_count": null,
   "metadata": {
    "lines_to_next_cell": 2
   },
   "outputs": [],
   "source": [
    "df[df['A'] <= 5]"
   ]
  },
  {
   "cell_type": "markdown",
   "metadata": {},
   "source": [
    "## 3. Building criteria \n",
    "You can build your own selection criteria using \"**and**\" or \"**or**\".  \n",
    "\n",
    "3.1 \"... and\""
   ]
  },
  {
   "cell_type": "markdown",
   "metadata": {
    "lines_to_next_cell": 2
   },
   "source": [
    "In[49]:"
   ]
  },
  {
   "cell_type": "code",
   "execution_count": null,
   "metadata": {},
   "outputs": [],
   "source": [
    "import numpy as np\n",
    "import pandas as pd"
   ]
  },
  {
   "cell_type": "code",
   "execution_count": null,
   "metadata": {
    "lines_to_next_cell": 2
   },
   "outputs": [],
   "source": [
    "df = pd.DataFrame({\"A\": [1, 3, 5, 7, 9], \"B\": [10, 20, 30, 40, 50], \"C\": [100, 200, 300, 400, 500]})\n",
    "df"
   ]
  },
  {
   "cell_type": "markdown",
   "metadata": {},
   "source": [
    "* ...and"
   ]
  },
  {
   "cell_type": "markdown",
   "metadata": {
    "lines_to_next_cell": 2
   },
   "source": [
    "In[50]:"
   ]
  },
  {
   "cell_type": "code",
   "execution_count": null,
   "metadata": {
    "lines_to_next_cell": 2
   },
   "outputs": [],
   "source": [
    "df.loc[(df[\"B\"] < 25) & (df[\"C\"] >= 20), \"A\"]"
   ]
  },
  {
   "cell_type": "markdown",
   "metadata": {},
   "source": [
    "* ...or"
   ]
  },
  {
   "cell_type": "markdown",
   "metadata": {
    "lines_to_next_cell": 2
   },
   "source": [
    "In[51]:"
   ]
  },
  {
   "cell_type": "code",
   "execution_count": null,
   "metadata": {
    "lines_to_next_cell": 2
   },
   "outputs": [],
   "source": [
    "df.loc[(df[\"B\"] < 25) | (df[\"C\"] >= 40), \"A\"]"
   ]
  },
  {
   "cell_type": "markdown",
   "metadata": {},
   "source": [
    "* you can also assign new value to a existing column using this method"
   ]
  },
  {
   "cell_type": "markdown",
   "metadata": {
    "lines_to_next_cell": 2
   },
   "source": [
    "In[52]:"
   ]
  },
  {
   "cell_type": "code",
   "execution_count": null,
   "metadata": {
    "lines_to_next_cell": 2
   },
   "outputs": [],
   "source": [
    "df.loc[(df[\"B\"] > 40) | (df[\"C\"] >= 300), \"A\"] = 'new'\n",
    "df"
   ]
  },
  {
   "cell_type": "markdown",
   "metadata": {},
   "source": [
    "## Takeaways  \n",
    "There are a few python idioms that can help speeding up your data managemet.  \n",
    "* \"if-then-else\" allows you easily change the current column or add additional new columns based on the value of a specific column\n",
    "* \"Splitting\" allows you quickly select specific rows based on the value of a specific column\n",
    "* \"Building criteria\" allows you select specific data from one column or assign new values to one column based on the criteria you set up on other columns"
   ]
  },
  {
   "cell_type": "markdown",
   "metadata": {},
   "source": [
    "In[ ]:"
   ]
  },
  {
   "cell_type": "markdown",
   "metadata": {},
   "source": [
    "## Topic Title\n",
    "Python Idioms\n",
    "**Xi Zheng**"
   ]
  },
  {
   "cell_type": "markdown",
   "metadata": {},
   "source": [
    "## 1. pandas.Series.ne\n",
    " * Return Not equal to of series and other, element-wise (binary operator ne).\n",
    " * `Series.ne(other, level=None, fill_value=None, axis=0)`\n",
    " - Parameters:  \n",
    "     - otherSeries or scalar value\n",
    "     - fill_valueNone or float value, default None (NaN)\n",
    "     - levelint or name\n",
    "     - Returns: series\n",
    "\n",
    "## 2. Code Example\n",
    "```python\n",
    "a = pd.Series([1, 1, 1, np.nan], index=['a', 'b', 'c', 'd'])\n",
    "b = pd.Series([1, np.nan, 1, np.nan], index=['a', 'b', 'd', 'e'])\n",
    "a.ne(b, fill_value=0)\n",
    "```\n",
    "## 3. Ouput and Explanation\n",
    "```\n",
    "a :\n",
    "\n",
    "a    1.0\n",
    "b    1.0\n",
    "c    1.0\n",
    "d    NaN\n",
    "```\n",
    "\n",
    "```\n",
    "b: \n",
    "\n",
    "a    1.0\n",
    "b    NaN\n",
    "d    1.0\n",
    "e    NaN\n",
    "```\n",
    "\n",
    "```\n",
    "a    False\n",
    "b     True\n",
    "c     True\n",
    "d     True\n",
    "e     True\n",
    "```\n",
    "## Takeaways\n",
    "The function tells the equivalence of corresponding elements in a and b, where the 'True' means 'not equal', and 'False' means 'equal'."
   ]
  },
  {
   "cell_type": "markdown",
   "metadata": {},
   "source": [
    "# Topics in Pandas\n",
    "\n",
    "## Sparse Data Structures\n",
    "\n",
    "#### Author: Chittaranjan (chitt@umich.edu)"
   ]
  },
  {
   "cell_type": "code",
   "execution_count": null,
   "metadata": {},
   "outputs": [],
   "source": [
    "# imports\n",
    "import pandas as pd\n",
    "import numpy as np"
   ]
  },
  {
   "cell_type": "markdown",
   "metadata": {},
   "source": [
    "### Sparse Data Structures\n",
    "- Pandas provides a way of efficiently storing \"sparse\" data structures\n",
    "- A sparse data structure is one in which a majority of the values are\n",
    "omitted (to be interpreted as 0, or NaN, or any other value)\n",
    "- It can be thought of as a \"compressed\" representation, as all values are\n",
    "not explicitly stored in the data structure"
   ]
  },
  {
   "cell_type": "markdown",
   "metadata": {},
   "source": [
    "### Creating a Sparse Data Frame\n",
    "- Sparse data frames can be created using `pd.arrays.SparseArray`\n",
    "- Has a dtype of `Sparse` which has two values associated with it,\n",
    "    - Type of non-omitted values (Eg: float, int etc)\n",
    "    - Value of the elements in the array that aren't actually stored\n",
    "(Eg: 0, nan)\n"
   ]
  },
  {
   "cell_type": "code",
   "execution_count": null,
   "metadata": {},
   "outputs": [],
   "source": [
    "s = pd.Series(pd.arrays.SparseArray([1] * 2 + [np.nan] * 8))\n",
    "s"
   ]
  },
  {
   "cell_type": "markdown",
   "metadata": {},
   "source": [
    "`Sparse[float64, nan]` indicates that all values apart from `nan` are stored,\n",
    " and they are of type float."
   ]
  },
  {
   "cell_type": "markdown",
   "metadata": {},
   "source": [
    "### Memory Efficiency\n",
    "- The `memory_usage` function can be used to inspect the number of bytes\n",
    "being consumed by the Series/DataFrame\n",
    "- Comparing memory usage between a SparseArray and a regular python list\n",
    "represented as a Series depicts the memory efficiency of SparseArrays"
   ]
  },
  {
   "cell_type": "code",
   "execution_count": null,
   "metadata": {},
   "outputs": [],
   "source": [
    "N = 1000  # number of elements to be represented\n",
    "\n",
    "proportions = list(range(100, N+1, 100))\n",
    "sparse_mems = []\n",
    "non_sparse_mems = []\n",
    "for proportion in proportions:\n",
    "    sample_list = [14] * proportion + [np.nan] * (N - proportion)\n",
    "    sparse_arr = pd.Series(\n",
    "        pd.arrays.SparseArray(sample_list)\n",
    "    )\n",
    "    sparse_mem = sparse_arr.memory_usage()\n",
    "    sparse_mems.append(sparse_mem)\n",
    "\n",
    "    non_sparse_arr = pd.Series(sample_list)\n",
    "    non_sparse_mem = non_sparse_arr.memory_usage()\n",
    "    non_sparse_mems.append(non_sparse_mem)\n",
    "\n",
    "x = list(map(lambda p: p / N, proportions))\n",
    "_ = plt.plot(x, non_sparse_mems)\n",
    "_ = plt.plot(x, sparse_mems)\n",
    "_ = plt.ylabel(\"Memory Usage (bytes)\")\n",
    "_ = plt.xlabel(\"Proportion of values\")\n",
    "_ = plt.legend([\"Non-Sparse\", \"Sparse\"])\n",
    "_ = plt.title(\"Comparison of Memory Usage (Size=1000)\")"
   ]
  },
  {
   "cell_type": "markdown",
   "metadata": {},
   "source": [
    "### Memory Efficiency (Continued)\n",
    "- The Sparse Arrays consume much less memory when the density is low\n",
    "(sparse-ness is high)\n",
    "- As the density increases to where 50-60% of the values are not nan\n",
    "(i.e ommittable), memory efficiency is worse"
   ]
  },
  {
   "cell_type": "markdown",
   "metadata": {},
   "source": [
    "## Pivot Table"
   ]
  },
  {
   "cell_type": "markdown",
   "metadata": {},
   "source": [
    "**Stats 507, Fall 2021**"
   ]
  },
  {
   "cell_type": "markdown",
   "metadata": {},
   "source": [
    "**Xuechun Wang** <br>\n",
    "**24107190** <br>\n",
    "**xuechunw@umich.edu** <br>"
   ]
  },
  {
   "cell_type": "markdown",
   "metadata": {},
   "source": [
    "## How Pivot table works"
   ]
  },
  {
   "cell_type": "markdown",
   "metadata": {},
   "source": [
    "- Pivot table is a table of grouped value that aggregates individual items of a more extensive table.\n",
    " - The aggregations can be count, sum, mean, stats tool etc.\n",
    " - Levels can be stored as multiIndex objects and columns of the result DataFrame.\n",
    " - It arrange or rearrange data to provide a more direct insight into datasets\n",
    " - **pd.pivot_table(data, values = None, index = None, aggfunc = 'mean'...)** can take more parameters\n",
    " - Requires data and index parameter, data is the dataFrame passed into the function, index allow us to group the data "
   ]
  },
  {
   "cell_type": "code",
   "execution_count": 2,
   "metadata": {},
   "outputs": [
    {
     "data": {
      "text/html": [
       "<div>\n",
       "<style scoped>\n",
       "    .dataframe tbody tr th:only-of-type {\n",
       "        vertical-align: middle;\n",
       "    }\n",
       "\n",
       "    .dataframe tbody tr th {\n",
       "        vertical-align: top;\n",
       "    }\n",
       "\n",
       "    .dataframe thead th {\n",
       "        text-align: right;\n",
       "    }\n",
       "</style>\n",
       "<table border=\"1\" class=\"dataframe\">\n",
       "  <thead>\n",
       "    <tr style=\"text-align: right;\">\n",
       "      <th></th>\n",
       "      <th></th>\n",
       "      <th>ADQINSUL</th>\n",
       "      <th>AGECDRYER</th>\n",
       "      <th>AGECENAC</th>\n",
       "      <th>AGECWASH</th>\n",
       "      <th>AGEDW</th>\n",
       "      <th>AGEFRZR</th>\n",
       "      <th>AGERFRI1</th>\n",
       "      <th>AGERFRI2</th>\n",
       "      <th>AIRCOND</th>\n",
       "      <th>ALTFUELPEV</th>\n",
       "      <th>...</th>\n",
       "      <th>ZWASHTEMP</th>\n",
       "      <th>ZWDPELLET</th>\n",
       "      <th>ZWHEATAGE</th>\n",
       "      <th>ZWHEATSIZ</th>\n",
       "      <th>ZWINDOWS</th>\n",
       "      <th>ZWINFRAME</th>\n",
       "      <th>ZWOODAMT</th>\n",
       "      <th>ZWOODLOGS</th>\n",
       "      <th>ZWWACAGE</th>\n",
       "      <th>ZYEARMADERANGE</th>\n",
       "    </tr>\n",
       "    <tr>\n",
       "      <th>REGIONC</th>\n",
       "      <th>DOEID</th>\n",
       "      <th></th>\n",
       "      <th></th>\n",
       "      <th></th>\n",
       "      <th></th>\n",
       "      <th></th>\n",
       "      <th></th>\n",
       "      <th></th>\n",
       "      <th></th>\n",
       "      <th></th>\n",
       "      <th></th>\n",
       "      <th></th>\n",
       "      <th></th>\n",
       "      <th></th>\n",
       "      <th></th>\n",
       "      <th></th>\n",
       "      <th></th>\n",
       "      <th></th>\n",
       "      <th></th>\n",
       "      <th></th>\n",
       "      <th></th>\n",
       "      <th></th>\n",
       "    </tr>\n",
       "  </thead>\n",
       "  <tbody>\n",
       "    <tr>\n",
       "      <th rowspan=\"5\" valign=\"top\">1</th>\n",
       "      <th>10005</th>\n",
       "      <td>2</td>\n",
       "      <td>3</td>\n",
       "      <td>3</td>\n",
       "      <td>3</td>\n",
       "      <td>-2</td>\n",
       "      <td>-2</td>\n",
       "      <td>1</td>\n",
       "      <td>2</td>\n",
       "      <td>1</td>\n",
       "      <td>0</td>\n",
       "      <td>...</td>\n",
       "      <td>0</td>\n",
       "      <td>-2</td>\n",
       "      <td>0</td>\n",
       "      <td>0</td>\n",
       "      <td>0</td>\n",
       "      <td>0</td>\n",
       "      <td>-2</td>\n",
       "      <td>-2</td>\n",
       "      <td>-2</td>\n",
       "      <td>0</td>\n",
       "    </tr>\n",
       "    <tr>\n",
       "      <th>10006</th>\n",
       "      <td>1</td>\n",
       "      <td>-2</td>\n",
       "      <td>-2</td>\n",
       "      <td>-2</td>\n",
       "      <td>-2</td>\n",
       "      <td>-2</td>\n",
       "      <td>1</td>\n",
       "      <td>-2</td>\n",
       "      <td>1</td>\n",
       "      <td>0</td>\n",
       "      <td>...</td>\n",
       "      <td>-2</td>\n",
       "      <td>-2</td>\n",
       "      <td>0</td>\n",
       "      <td>-2</td>\n",
       "      <td>0</td>\n",
       "      <td>0</td>\n",
       "      <td>-2</td>\n",
       "      <td>-2</td>\n",
       "      <td>0</td>\n",
       "      <td>0</td>\n",
       "    </tr>\n",
       "    <tr>\n",
       "      <th>10009</th>\n",
       "      <td>2</td>\n",
       "      <td>2</td>\n",
       "      <td>3</td>\n",
       "      <td>2</td>\n",
       "      <td>3</td>\n",
       "      <td>3</td>\n",
       "      <td>3</td>\n",
       "      <td>3</td>\n",
       "      <td>1</td>\n",
       "      <td>0</td>\n",
       "      <td>...</td>\n",
       "      <td>0</td>\n",
       "      <td>-2</td>\n",
       "      <td>0</td>\n",
       "      <td>0</td>\n",
       "      <td>0</td>\n",
       "      <td>0</td>\n",
       "      <td>-2</td>\n",
       "      <td>-2</td>\n",
       "      <td>-2</td>\n",
       "      <td>0</td>\n",
       "    </tr>\n",
       "    <tr>\n",
       "      <th>10011</th>\n",
       "      <td>2</td>\n",
       "      <td>3</td>\n",
       "      <td>-2</td>\n",
       "      <td>3</td>\n",
       "      <td>-2</td>\n",
       "      <td>-2</td>\n",
       "      <td>2</td>\n",
       "      <td>3</td>\n",
       "      <td>1</td>\n",
       "      <td>0</td>\n",
       "      <td>...</td>\n",
       "      <td>0</td>\n",
       "      <td>-2</td>\n",
       "      <td>0</td>\n",
       "      <td>0</td>\n",
       "      <td>0</td>\n",
       "      <td>0</td>\n",
       "      <td>-2</td>\n",
       "      <td>-2</td>\n",
       "      <td>0</td>\n",
       "      <td>0</td>\n",
       "    </tr>\n",
       "    <tr>\n",
       "      <th>10018</th>\n",
       "      <td>2</td>\n",
       "      <td>41</td>\n",
       "      <td>-2</td>\n",
       "      <td>41</td>\n",
       "      <td>41</td>\n",
       "      <td>-2</td>\n",
       "      <td>41</td>\n",
       "      <td>41</td>\n",
       "      <td>0</td>\n",
       "      <td>0</td>\n",
       "      <td>...</td>\n",
       "      <td>0</td>\n",
       "      <td>-2</td>\n",
       "      <td>0</td>\n",
       "      <td>1</td>\n",
       "      <td>0</td>\n",
       "      <td>0</td>\n",
       "      <td>-2</td>\n",
       "      <td>-2</td>\n",
       "      <td>-2</td>\n",
       "      <td>0</td>\n",
       "    </tr>\n",
       "    <tr>\n",
       "      <th>...</th>\n",
       "      <th>...</th>\n",
       "      <td>...</td>\n",
       "      <td>...</td>\n",
       "      <td>...</td>\n",
       "      <td>...</td>\n",
       "      <td>...</td>\n",
       "      <td>...</td>\n",
       "      <td>...</td>\n",
       "      <td>...</td>\n",
       "      <td>...</td>\n",
       "      <td>...</td>\n",
       "      <td>...</td>\n",
       "      <td>...</td>\n",
       "      <td>...</td>\n",
       "      <td>...</td>\n",
       "      <td>...</td>\n",
       "      <td>...</td>\n",
       "      <td>...</td>\n",
       "      <td>...</td>\n",
       "      <td>...</td>\n",
       "      <td>...</td>\n",
       "      <td>...</td>\n",
       "    </tr>\n",
       "    <tr>\n",
       "      <th rowspan=\"5\" valign=\"top\">4</th>\n",
       "      <th>15658</th>\n",
       "      <td>3</td>\n",
       "      <td>1</td>\n",
       "      <td>-2</td>\n",
       "      <td>2</td>\n",
       "      <td>-2</td>\n",
       "      <td>-2</td>\n",
       "      <td>2</td>\n",
       "      <td>1</td>\n",
       "      <td>0</td>\n",
       "      <td>0</td>\n",
       "      <td>...</td>\n",
       "      <td>0</td>\n",
       "      <td>0</td>\n",
       "      <td>0</td>\n",
       "      <td>0</td>\n",
       "      <td>0</td>\n",
       "      <td>0</td>\n",
       "      <td>0</td>\n",
       "      <td>0</td>\n",
       "      <td>-2</td>\n",
       "      <td>0</td>\n",
       "    </tr>\n",
       "    <tr>\n",
       "      <th>15660</th>\n",
       "      <td>1</td>\n",
       "      <td>-2</td>\n",
       "      <td>41</td>\n",
       "      <td>-2</td>\n",
       "      <td>2</td>\n",
       "      <td>-2</td>\n",
       "      <td>3</td>\n",
       "      <td>-2</td>\n",
       "      <td>1</td>\n",
       "      <td>0</td>\n",
       "      <td>...</td>\n",
       "      <td>-2</td>\n",
       "      <td>-2</td>\n",
       "      <td>0</td>\n",
       "      <td>0</td>\n",
       "      <td>0</td>\n",
       "      <td>0</td>\n",
       "      <td>-2</td>\n",
       "      <td>-2</td>\n",
       "      <td>-2</td>\n",
       "      <td>0</td>\n",
       "    </tr>\n",
       "    <tr>\n",
       "      <th>15661</th>\n",
       "      <td>2</td>\n",
       "      <td>1</td>\n",
       "      <td>41</td>\n",
       "      <td>1</td>\n",
       "      <td>-2</td>\n",
       "      <td>42</td>\n",
       "      <td>3</td>\n",
       "      <td>-2</td>\n",
       "      <td>1</td>\n",
       "      <td>0</td>\n",
       "      <td>...</td>\n",
       "      <td>0</td>\n",
       "      <td>-2</td>\n",
       "      <td>0</td>\n",
       "      <td>0</td>\n",
       "      <td>0</td>\n",
       "      <td>0</td>\n",
       "      <td>-2</td>\n",
       "      <td>-2</td>\n",
       "      <td>-2</td>\n",
       "      <td>0</td>\n",
       "    </tr>\n",
       "    <tr>\n",
       "      <th>15675</th>\n",
       "      <td>1</td>\n",
       "      <td>3</td>\n",
       "      <td>2</td>\n",
       "      <td>3</td>\n",
       "      <td>1</td>\n",
       "      <td>-2</td>\n",
       "      <td>1</td>\n",
       "      <td>-2</td>\n",
       "      <td>1</td>\n",
       "      <td>0</td>\n",
       "      <td>...</td>\n",
       "      <td>0</td>\n",
       "      <td>-2</td>\n",
       "      <td>0</td>\n",
       "      <td>0</td>\n",
       "      <td>0</td>\n",
       "      <td>0</td>\n",
       "      <td>-2</td>\n",
       "      <td>-2</td>\n",
       "      <td>-2</td>\n",
       "      <td>0</td>\n",
       "    </tr>\n",
       "    <tr>\n",
       "      <th>15680</th>\n",
       "      <td>1</td>\n",
       "      <td>2</td>\n",
       "      <td>1</td>\n",
       "      <td>2</td>\n",
       "      <td>3</td>\n",
       "      <td>-2</td>\n",
       "      <td>3</td>\n",
       "      <td>2</td>\n",
       "      <td>1</td>\n",
       "      <td>0</td>\n",
       "      <td>...</td>\n",
       "      <td>0</td>\n",
       "      <td>-2</td>\n",
       "      <td>0</td>\n",
       "      <td>0</td>\n",
       "      <td>0</td>\n",
       "      <td>0</td>\n",
       "      <td>-2</td>\n",
       "      <td>-2</td>\n",
       "      <td>-2</td>\n",
       "      <td>0</td>\n",
       "    </tr>\n",
       "  </tbody>\n",
       "</table>\n",
       "<p>5686 rows × 753 columns</p>\n",
       "</div>"
      ],
      "text/plain": [
       "               ADQINSUL  AGECDRYER  AGECENAC  AGECWASH  AGEDW  AGEFRZR  \\\n",
       "REGIONC DOEID                                                            \n",
       "1       10005         2          3         3         3     -2       -2   \n",
       "        10006         1         -2        -2        -2     -2       -2   \n",
       "        10009         2          2         3         2      3        3   \n",
       "        10011         2          3        -2         3     -2       -2   \n",
       "        10018         2         41        -2        41     41       -2   \n",
       "...                 ...        ...       ...       ...    ...      ...   \n",
       "4       15658         3          1        -2         2     -2       -2   \n",
       "        15660         1         -2        41        -2      2       -2   \n",
       "        15661         2          1        41         1     -2       42   \n",
       "        15675         1          3         2         3      1       -2   \n",
       "        15680         1          2         1         2      3       -2   \n",
       "\n",
       "               AGERFRI1  AGERFRI2  AIRCOND  ALTFUELPEV  ...  ZWASHTEMP  \\\n",
       "REGIONC DOEID                                           ...              \n",
       "1       10005         1         2        1           0  ...          0   \n",
       "        10006         1        -2        1           0  ...         -2   \n",
       "        10009         3         3        1           0  ...          0   \n",
       "        10011         2         3        1           0  ...          0   \n",
       "        10018        41        41        0           0  ...          0   \n",
       "...                 ...       ...      ...         ...  ...        ...   \n",
       "4       15658         2         1        0           0  ...          0   \n",
       "        15660         3        -2        1           0  ...         -2   \n",
       "        15661         3        -2        1           0  ...          0   \n",
       "        15675         1        -2        1           0  ...          0   \n",
       "        15680         3         2        1           0  ...          0   \n",
       "\n",
       "               ZWDPELLET  ZWHEATAGE  ZWHEATSIZ  ZWINDOWS  ZWINFRAME  ZWOODAMT  \\\n",
       "REGIONC DOEID                                                                   \n",
       "1       10005         -2          0          0         0          0        -2   \n",
       "        10006         -2          0         -2         0          0        -2   \n",
       "        10009         -2          0          0         0          0        -2   \n",
       "        10011         -2          0          0         0          0        -2   \n",
       "        10018         -2          0          1         0          0        -2   \n",
       "...                  ...        ...        ...       ...        ...       ...   \n",
       "4       15658          0          0          0         0          0         0   \n",
       "        15660         -2          0          0         0          0        -2   \n",
       "        15661         -2          0          0         0          0        -2   \n",
       "        15675         -2          0          0         0          0        -2   \n",
       "        15680         -2          0          0         0          0        -2   \n",
       "\n",
       "               ZWOODLOGS  ZWWACAGE  ZYEARMADERANGE  \n",
       "REGIONC DOEID                                       \n",
       "1       10005         -2        -2               0  \n",
       "        10006         -2         0               0  \n",
       "        10009         -2        -2               0  \n",
       "        10011         -2         0               0  \n",
       "        10018         -2        -2               0  \n",
       "...                  ...       ...             ...  \n",
       "4       15658          0        -2               0  \n",
       "        15660         -2        -2               0  \n",
       "        15661         -2        -2               0  \n",
       "        15675         -2        -2               0  \n",
       "        15680         -2        -2               0  \n",
       "\n",
       "[5686 rows x 753 columns]"
      ]
     },
     "execution_count": 2,
     "metadata": {},
     "output_type": "execute_result"
    }
   ],
   "source": [
    "#import packages\n",
    "import pandas as pd\n",
    "import numpy as np\n",
    "\n",
    "#import used dataset as example\n",
    "recs2015 = pd.read_csv(\"https://www.eia.gov/consumption/residential/data/2015/csv/recs2015_public_v4.csv\")\n",
    "\n",
    "#Pivot table can take single or multiple indexes via a list to see how data is grouped by\n",
    "pd.pivot_table(recs2015, index = ['REGIONC','DOEID'])"
   ]
  },
  {
   "cell_type": "markdown",
   "metadata": {},
   "source": [
    "### Pivot table: mean and sum calculation\n",
    " - Apply different aggregation function for different feature\n",
    " - We can calculate mean of NWEIGHT and sum of CDD65 after groupbying regions"
   ]
  },
  {
   "cell_type": "code",
   "execution_count": 3,
   "metadata": {},
   "outputs": [
    {
     "data": {
      "text/html": [
       "<div>\n",
       "<style scoped>\n",
       "    .dataframe tbody tr th:only-of-type {\n",
       "        vertical-align: middle;\n",
       "    }\n",
       "\n",
       "    .dataframe tbody tr th {\n",
       "        vertical-align: top;\n",
       "    }\n",
       "\n",
       "    .dataframe thead th {\n",
       "        text-align: right;\n",
       "    }\n",
       "</style>\n",
       "<table border=\"1\" class=\"dataframe\">\n",
       "  <thead>\n",
       "    <tr style=\"text-align: right;\">\n",
       "      <th></th>\n",
       "      <th>CDD65</th>\n",
       "      <th>HDD65</th>\n",
       "      <th>NWEIGHT</th>\n",
       "    </tr>\n",
       "    <tr>\n",
       "      <th>REGIONC</th>\n",
       "      <th></th>\n",
       "      <th></th>\n",
       "      <th></th>\n",
       "    </tr>\n",
       "  </thead>\n",
       "  <tbody>\n",
       "    <tr>\n",
       "      <th>1</th>\n",
       "      <td>748275</td>\n",
       "      <td>4589542</td>\n",
       "      <td>26456.596977</td>\n",
       "    </tr>\n",
       "    <tr>\n",
       "      <th>2</th>\n",
       "      <td>1252839</td>\n",
       "      <td>7760126</td>\n",
       "      <td>19873.198945</td>\n",
       "    </tr>\n",
       "    <tr>\n",
       "      <th>3</th>\n",
       "      <td>5306622</td>\n",
       "      <td>4419083</td>\n",
       "      <td>22110.434826</td>\n",
       "    </tr>\n",
       "    <tr>\n",
       "      <th>4</th>\n",
       "      <td>2467670</td>\n",
       "      <td>4314077</td>\n",
       "      <td>16969.776849</td>\n",
       "    </tr>\n",
       "  </tbody>\n",
       "</table>\n",
       "</div>"
      ],
      "text/plain": [
       "           CDD65    HDD65       NWEIGHT\n",
       "REGIONC                                \n",
       "1         748275  4589542  26456.596977\n",
       "2        1252839  7760126  19873.198945\n",
       "3        5306622  4419083  22110.434826\n",
       "4        2467670  4314077  16969.776849"
      ]
     },
     "execution_count": 3,
     "metadata": {},
     "output_type": "execute_result"
    }
   ],
   "source": [
    "pd.pivot_table(recs2015, index = 'REGIONC',aggfunc={'NWEIGHT':np.mean,'CDD65':np.sum, 'HDD65':np.sum})"
   ]
  },
  {
   "cell_type": "markdown",
   "metadata": {},
   "source": [
    "### Pivot table: aggfunc functionality\n",
    " - Aggregate on specific features with values parameter\n",
    " - Meanwhile, can use mulitple aggfunc via a list"
   ]
  },
  {
   "cell_type": "code",
   "execution_count": 4,
   "metadata": {},
   "outputs": [
    {
     "data": {
      "text/html": [
       "<div>\n",
       "<style scoped>\n",
       "    .dataframe tbody tr th:only-of-type {\n",
       "        vertical-align: middle;\n",
       "    }\n",
       "\n",
       "    .dataframe tbody tr th {\n",
       "        vertical-align: top;\n",
       "    }\n",
       "\n",
       "    .dataframe thead tr th {\n",
       "        text-align: left;\n",
       "    }\n",
       "\n",
       "    .dataframe thead tr:last-of-type th {\n",
       "        text-align: right;\n",
       "    }\n",
       "</style>\n",
       "<table border=\"1\" class=\"dataframe\">\n",
       "  <thead>\n",
       "    <tr>\n",
       "      <th></th>\n",
       "      <th>mean</th>\n",
       "      <th>len</th>\n",
       "    </tr>\n",
       "    <tr>\n",
       "      <th></th>\n",
       "      <th>NWEIGHT</th>\n",
       "      <th>NWEIGHT</th>\n",
       "    </tr>\n",
       "    <tr>\n",
       "      <th>REGIONC</th>\n",
       "      <th></th>\n",
       "      <th></th>\n",
       "    </tr>\n",
       "  </thead>\n",
       "  <tbody>\n",
       "    <tr>\n",
       "      <th>1</th>\n",
       "      <td>26456.596977</td>\n",
       "      <td>794.0</td>\n",
       "    </tr>\n",
       "    <tr>\n",
       "      <th>2</th>\n",
       "      <td>19873.198945</td>\n",
       "      <td>1327.0</td>\n",
       "    </tr>\n",
       "    <tr>\n",
       "      <th>3</th>\n",
       "      <td>22110.434826</td>\n",
       "      <td>2010.0</td>\n",
       "    </tr>\n",
       "    <tr>\n",
       "      <th>4</th>\n",
       "      <td>16969.776849</td>\n",
       "      <td>1555.0</td>\n",
       "    </tr>\n",
       "  </tbody>\n",
       "</table>\n",
       "</div>"
      ],
      "text/plain": [
       "                 mean     len\n",
       "              NWEIGHT NWEIGHT\n",
       "REGIONC                      \n",
       "1        26456.596977   794.0\n",
       "2        19873.198945  1327.0\n",
       "3        22110.434826  2010.0\n",
       "4        16969.776849  1555.0"
      ]
     },
     "execution_count": 4,
     "metadata": {},
     "output_type": "execute_result"
    }
   ],
   "source": [
    "pd.pivot_table(recs2015, index = 'REGIONC', values = 'NWEIGHT', aggfunc = [np.mean, len])"
   ]
  },
  {
   "cell_type": "markdown",
   "metadata": {},
   "source": [
    "### Pivot table: find how data is correlated\n",
    " - Find relationship between feature with columns parameter\n",
    " - UATYP10 - A categorical data type representing census 2010 urban type\n",
    " -         U: Urban Area; R: Rural; C: Urban Cluster"
   ]
  },
  {
   "cell_type": "code",
   "execution_count": 5,
   "metadata": {},
   "outputs": [
    {
     "data": {
      "text/html": [
       "<div>\n",
       "<style scoped>\n",
       "    .dataframe tbody tr th:only-of-type {\n",
       "        vertical-align: middle;\n",
       "    }\n",
       "\n",
       "    .dataframe tbody tr th {\n",
       "        vertical-align: top;\n",
       "    }\n",
       "\n",
       "    .dataframe thead th {\n",
       "        text-align: right;\n",
       "    }\n",
       "</style>\n",
       "<table border=\"1\" class=\"dataframe\">\n",
       "  <thead>\n",
       "    <tr style=\"text-align: right;\">\n",
       "      <th>UATYP10</th>\n",
       "      <th>C</th>\n",
       "      <th>R</th>\n",
       "      <th>U</th>\n",
       "    </tr>\n",
       "    <tr>\n",
       "      <th>REGIONC</th>\n",
       "      <th></th>\n",
       "      <th></th>\n",
       "      <th></th>\n",
       "    </tr>\n",
       "  </thead>\n",
       "  <tbody>\n",
       "    <tr>\n",
       "      <th>1</th>\n",
       "      <td>2.153686e+06</td>\n",
       "      <td>3.257375e+06</td>\n",
       "      <td>1.559548e+07</td>\n",
       "    </tr>\n",
       "    <tr>\n",
       "      <th>2</th>\n",
       "      <td>3.549498e+06</td>\n",
       "      <td>5.624221e+06</td>\n",
       "      <td>1.719802e+07</td>\n",
       "    </tr>\n",
       "    <tr>\n",
       "      <th>3</th>\n",
       "      <td>5.350796e+06</td>\n",
       "      <td>1.102680e+07</td>\n",
       "      <td>2.806438e+07</td>\n",
       "    </tr>\n",
       "    <tr>\n",
       "      <th>4</th>\n",
       "      <td>1.460669e+06</td>\n",
       "      <td>3.550944e+06</td>\n",
       "      <td>2.137639e+07</td>\n",
       "    </tr>\n",
       "  </tbody>\n",
       "</table>\n",
       "</div>"
      ],
      "text/plain": [
       "UATYP10             C             R             U\n",
       "REGIONC                                          \n",
       "1        2.153686e+06  3.257375e+06  1.559548e+07\n",
       "2        3.549498e+06  5.624221e+06  1.719802e+07\n",
       "3        5.350796e+06  1.102680e+07  2.806438e+07\n",
       "4        1.460669e+06  3.550944e+06  2.137639e+07"
      ]
     },
     "execution_count": 5,
     "metadata": {},
     "output_type": "execute_result"
    }
   ],
   "source": [
    "pd.pivot_table(recs2015,index='REGIONC',columns='UATYP10',values='NWEIGHT',aggfunc=np.sum)"
   ]
  },
  {
   "cell_type": "markdown",
   "metadata": {},
   "source": [
    "## Takeaways"
   ]
  },
  {
   "cell_type": "markdown",
   "metadata": {},
   "source": [
    " - Pivot Table is beneficial when we want to have a deep investigation on the dataset. <br>\n",
    " - Especially when we want to find out where we can explore more from the dataset. <br>\n",
    " - Meanwhile, the aggfunc it involves effectively minimizes our work. <br>"
   ]
  }
 ],
 "metadata": {
  "jupytext": {
   "encoding": "# -*- coding: utf-8 -*-",
   "formats": "ipynb,py:light"
  },
  "kernelspec": {
   "display_name": "Python 3",
   "language": "python",
   "name": "python3"
  },
  "language_info": {
   "codemirror_mode": {
    "name": "ipython",
    "version": 3
   },
   "file_extension": ".py",
   "mimetype": "text/x-python",
   "name": "python",
   "nbconvert_exporter": "python",
   "pygments_lexer": "ipython3",
   "version": "3.8.3"
  }
 },
 "nbformat": 4,
 "nbformat_minor": 4
}
