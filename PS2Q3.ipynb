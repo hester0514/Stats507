{
 "cells": [
  {
   "cell_type": "code",
   "execution_count": 1,
   "metadata": {},
   "outputs": [],
   "source": [
    "import pandas as pd\n",
    "import numpy as np\n",
    "from collections import defaultdict\n",
    "from operator import itemgetter\n",
    "from timeit import Timer\n",
    "import pickle\n",
    "import random\n",
    "from itertools import chain\n",
    "from IPython.core.display import display, HTML"
   ]
  },
  {
   "cell_type": "code",
   "execution_count": null,
   "metadata": {},
   "outputs": [],
   "source": [
    "demo11_12 = pd.read_sas('/Users/Sylvia/Desktop/DEMO_G.XPT', encoding = 'utf-8')\n",
    "demo13_14 = pd.read_sas('/Users/Sylvia/Desktop/DEMO_H.XPT', encoding = 'utf-8')\n",
    "demo15_16 = pd.read_sas('/Users/Sylvia/Desktop/DEMO_I.XPT', encoding = 'utf-8')\n",
    "demo17_18 = pd.read_sas('/Users/Sylvia/Desktop/DEMO_J.XPT', encoding = 'utf-8')"
   ]
  },
  {
   "cell_type": "code",
   "execution_count": null,
   "metadata": {},
   "outputs": [],
   "source": [
    "updateddemo11_12 = demo11_12[['SEQN','RIDAGEYR','RIDRETH3','DMDEDUC2','DMDMARTL','RIDSTATR','SDMVPSU','SDMVSTRA',\n",
    "                             'WTMEC2YR','WTINT2YR']]\n",
    "updateddemo13_14 = demo13_14[['SEQN','RIDAGEYR','RIDRETH3','DMDEDUC2','DMDMARTL','RIDSTATR','SDMVPSU','SDMVSTRA',\n",
    "                             'WTMEC2YR','WTINT2YR']]\n",
    "updateddemo15_16 = demo15_16[['SEQN','RIDAGEYR','RIDRETH3','DMDEDUC2','DMDMARTL','RIDSTATR','SDMVPSU','SDMVSTRA',\n",
    "                             'WTMEC2YR','WTINT2YR']]\n",
    "updateddemo17_18 = demo17_18[['SEQN','RIDAGEYR','RIDRETH3','DMDEDUC2','DMDMARTL','RIDSTATR','SDMVPSU','SDMVSTRA',\n",
    "                             'WTMEC2YR','WTINT2YR']]"
   ]
  },
  {
   "cell_type": "code",
   "execution_count": null,
   "metadata": {},
   "outputs": [],
   "source": [
    "updateddemo11_12['cohort'] = '2011-2012'\n",
    "updateddemo13_14['cohort'] = '2013-2014'\n",
    "updateddemo15_16['cohort'] = '2015-2016'\n",
    "updateddemo17_18['cohort'] = '2017-2018'"
   ]
  },
  {
   "cell_type": "code",
   "execution_count": null,
   "metadata": {},
   "outputs": [],
   "source": [
    "demo = pd.concat([updateddemo11_12, updateddemo13_14, updateddemo15_16, updateddemo17_18], axis = 0)\n",
    "demo = demo.rename(columns ={'SEQN':'id','RIDAGEYR':'age','RIDRETH3':'race','DMDEDUC2':'education',\n",
    "                            'DMDMARTL':'martial_status','RIDSTATR':'interview_status','SDMVPSU':'maskedvar-psu',\n",
    "                            'SDMVSTRA':'maskedvar-stra','WTMEC2YR':'fullsample2yr_mec',\n",
    "                            'WTINT2YR':'fullsample2yr_int'})\n",
    "demo[['id','age','race']] = demo[['id','age','race']].astype(int)\n",
    "demo[['education', 'martial_status', 'interview_status']] = demo[['education', 'martial_status', 'interview_status']].astype('category')\n",
    "demo[['fullsample2yr_mec','fullsample2yr_int']] = demo[['fullsample2yr_mec','fullsample2yr_int']].round(2)\n",
    "demo['fullsample2yr_mec'] = pd.to_numeric(demo['fullsample2yr_mec'], errors='coerce')\n",
    "demo['maskedvar-psu'] = pd.to_numeric(demo['maskedvar-psu'], errors='coerce')\n",
    "demo['maskedvar-stra'] = pd.to_numeric(demo['maskedvar-stra'], errors='coerce')\n",
    "demo['cohort'] = demo['cohort'].astype('category')"
   ]
  },
  {
   "cell_type": "code",
   "execution_count": null,
   "metadata": {},
   "outputs": [],
   "source": [
    "pickle_out_demo = open(\"demo.pickle\",\"wb\")\n",
    "pickle.dump(demo, pickle_out_demo)\n",
    "pickle_out_demo.close()"
   ]
  },
  {
   "cell_type": "code",
   "execution_count": null,
   "metadata": {},
   "outputs": [],
   "source": [
    "pickle_in_demo = open(\"demo.pickle\",\"rb\")\n",
    "example_demo = pickle.load(pickle_in_demo)\n",
    "print(example_demo)"
   ]
  },
  {
   "cell_type": "code",
   "execution_count": null,
   "metadata": {},
   "outputs": [],
   "source": [
    "oral11_12 = pd.read_sas('/Users/Sylvia/Desktop/OHXDEN_G.XPT', encoding = 'utf-8')\n",
    "oral13_14 = pd.read_sas('/Users/Sylvia/Desktop/OHXDEN_H.XPT', encoding = 'utf-8')\n",
    "oral15_16 = pd.read_sas('/Users/Sylvia/Desktop/OHXDEN_I.XPT', encoding = 'utf-8')\n",
    "oral17_18 = pd.read_sas('/Users/Sylvia/Desktop/OHXDEN_J.XPT', encoding = 'utf-8')"
   ]
  },
  {
   "cell_type": "code",
   "execution_count": null,
   "metadata": {},
   "outputs": [],
   "source": [
    "oral11_12CTC = oral11_12.loc[:, oral11_12.columns.str.endswith('TC')]\n",
    "updatedoral11_12 = oral11_12[['SEQN','OHDDESTS']]\n",
    "updatedoral11_12 = pd.concat([updatedoral11_12, oral11_12CTC], axis = 1)\n",
    "oral13_14CTC = oral13_14.loc[:, oral13_14.columns.str.endswith('TC')]\n",
    "updatedoral13_14 = oral13_14[['SEQN','OHDDESTS']]\n",
    "updatedoral13_14 = pd.concat([updatedoral13_14, oral13_14CTC], axis = 1)\n",
    "oral15_16CTC = oral15_16.loc[:, oral15_16.columns.str.endswith('TC')]\n",
    "oral15_16CTC = oral15_16CTC.loc[:, [not o.endswith('RTC') for o in oral15_16CTC.columns]]\n",
    "updatedoral15_16 = oral15_16[['SEQN','OHDDESTS']]\n",
    "updatedoral15_16 = pd.concat([updatedoral15_16, oral15_16CTC], axis = 1)\n",
    "oral17_18CTC = oral17_18.loc[:, oral17_18.columns.str.endswith('TC')]\n",
    "oral17_18CTC = oral17_18CTC.loc[:, [not o.endswith('RTC') for o in oral17_18CTC.columns]]\n",
    "updatedoral17_18 = oral17_18[['SEQN','OHDDESTS']]\n",
    "updatedoral17_18 = pd.concat([updatedoral17_18, oral17_18CTC], axis = 1)"
   ]
  },
  {
   "cell_type": "code",
   "execution_count": null,
   "metadata": {},
   "outputs": [],
   "source": [
    "updatedoral11_12['cohort'] = '2011-2012'\n",
    "updatedoral13_14['cohort'] = '2013-2014'\n",
    "updatedoral15_16['cohort'] = '2015-2016'\n",
    "updatedoral17_18['cohort'] = '2017-2018'"
   ]
  },
  {
   "cell_type": "code",
   "execution_count": null,
   "metadata": {},
   "outputs": [],
   "source": [
    "oral = pd.concat([updatedoral11_12, updatedoral13_14, updatedoral15_16, updatedoral17_18], axis = 0)"
   ]
  },
  {
   "cell_type": "code",
   "execution_count": null,
   "metadata": {},
   "outputs": [],
   "source": [
    "oral = oral.rename(columns = {'SEQN':'id', 'OHDDESTS':'dent_code'})\n",
    "oral[['id','dent_code']] = oral[['id','dent_code']].astype(int)\n",
    "oral.iloc[:,2:] = oral.iloc[:,2:].astype('category')"
   ]
  },
  {
   "cell_type": "code",
   "execution_count": null,
   "metadata": {},
   "outputs": [],
   "source": [
    "pickle_out_oral = open(\"oral.pickle\",\"wb\")\n",
    "pickle.dump(oral, pickle_out_oral)\n",
    "pickle_out_oral.close()"
   ]
  },
  {
   "cell_type": "code",
   "execution_count": null,
   "metadata": {},
   "outputs": [],
   "source": [
    "pickle_in_oral = open(\"oral.pickle\",\"rb\")\n",
    "example_oral = pickle.load(pickle_in_oral)\n",
    "print(example_oral)"
   ]
  },
  {
   "cell_type": "code",
   "execution_count": null,
   "metadata": {},
   "outputs": [],
   "source": [
    "demo.shape[0]\n",
    "oral.shape[0]"
   ]
  }
 ],
 "metadata": {
  "kernelspec": {
   "display_name": "Python 3",
   "language": "python",
   "name": "python3"
  },
  "language_info": {
   "codemirror_mode": {
    "name": "ipython",
    "version": 3
   },
   "file_extension": ".py",
   "mimetype": "text/x-python",
   "name": "python",
   "nbconvert_exporter": "python",
   "pygments_lexer": "ipython3",
   "version": "3.8.3"
  }
 },
 "nbformat": 4,
 "nbformat_minor": 4
}
