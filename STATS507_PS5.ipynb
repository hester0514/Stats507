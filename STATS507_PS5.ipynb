{
 "cells": [
  {
   "cell_type": "markdown",
   "metadata": {},
   "source": [
    "#### Xuechun Wang\n",
    "#### STATS 507 PS5\n",
    "#### 24107190"
   ]
  },
  {
   "cell_type": "code",
   "execution_count": 1,
   "metadata": {},
   "outputs": [],
   "source": [
    "import pandas as pd\n",
    "import numpy as np\n",
    "from os.path import exists\n",
    "import statsmodels.api as sm\n",
    "import statsmodels.formula.api as smf\n",
    "import matplotlib.pyplot as plt\n",
    "import seaborn as sns"
   ]
  },
  {
   "cell_type": "markdown",
   "metadata": {},
   "source": [
    "## Question 0 - R-Squared Warmup"
   ]
  },
  {
   "cell_type": "code",
   "execution_count": 2,
   "metadata": {},
   "outputs": [],
   "source": [
    "#read in datafile\n",
    "file = 'tooth_growth.feather'\n",
    "if exists(file):\n",
    "    tg_data = pd.read_feather(file)\n",
    "else: \n",
    "    tooth_growth = sm.datasets.get_rdataset('ToothGrowth')\n",
    "    tg_data = tooth_growth.data\n",
    "    tg_data.to_feather(file)"
   ]
  },
  {
   "cell_type": "code",
   "execution_count": 3,
   "metadata": {},
   "outputs": [
    {
     "data": {
      "text/html": [
       "<table class=\"simpletable\">\n",
       "<tr>\n",
       "        <td>Model:</td>               <td>OLS</td>         <td>Adj. R-squared:</td>     <td>0.738</td> \n",
       "</tr>\n",
       "<tr>\n",
       "  <td>Dependent Variable:</td>         <td>Y</td>               <td>AIC:</td>          <td>10.9133</td>\n",
       "</tr>\n",
       "<tr>\n",
       "         <td>Date:</td>        <td>2021-11-06 00:54</td>        <td>BIC:</td>          <td>19.2907</td>\n",
       "</tr>\n",
       "<tr>\n",
       "   <td>No. Observations:</td>         <td>60</td>          <td>Log-Likelihood:</td>    <td>-1.4567</td>\n",
       "</tr>\n",
       "<tr>\n",
       "       <td>Df Model:</td>              <td>3</td>           <td>F-statistic:</td>       <td>56.31</td> \n",
       "</tr>\n",
       "<tr>\n",
       "     <td>Df Residuals:</td>           <td>56</td>        <td>Prob (F-statistic):</td> <td>6.51e-17</td>\n",
       "</tr>\n",
       "<tr>\n",
       "      <td>R-squared:</td>            <td>0.751</td>            <td>Scale:</td>        <td>0.065853</td>\n",
       "</tr>\n",
       "</table>\n",
       "<table class=\"simpletable\">\n",
       "<tr>\n",
       "         <td></td>          <th>Coef.</th> <th>Std.Err.</th>    <th>t</th>     <th>P>|t|</th> <th>[0.025</th> <th>0.975]</th>\n",
       "</tr>\n",
       "<tr>\n",
       "  <th>Intercept</th>       <td>2.1407</td>  <td>0.0663</td>  <td>32.3077</td> <td>0.0000</td> <td>2.0079</td> <td>2.2734</td>\n",
       "</tr>\n",
       "<tr>\n",
       "  <th>dose_cat[T.1.0]</th> <td>0.6819</td>  <td>0.0811</td>  <td>8.4034</td>  <td>0.0000</td> <td>0.5194</td> <td>0.8445</td>\n",
       "</tr>\n",
       "<tr>\n",
       "  <th>dose_cat[T.2.0]</th> <td>0.9752</td>  <td>0.0811</td>  <td>12.0176</td> <td>0.0000</td> <td>0.8127</td> <td>1.1378</td>\n",
       "</tr>\n",
       "<tr>\n",
       "  <th>X</th>               <td>0.2722</td>  <td>0.0663</td>  <td>4.1075</td>  <td>0.0001</td> <td>0.1394</td> <td>0.4049</td>\n",
       "</tr>\n",
       "</table>\n",
       "<table class=\"simpletable\">\n",
       "<tr>\n",
       "     <td>Omnibus:</td>     <td>0.725</td>  <td>Durbin-Watson:</td>   <td>1.568</td>\n",
       "</tr>\n",
       "<tr>\n",
       "  <td>Prob(Omnibus):</td>  <td>0.696</td> <td>Jarque-Bera (JB):</td> <td>0.204</td>\n",
       "</tr>\n",
       "<tr>\n",
       "       <td>Skew:</td>     <td>-0.009</td>     <td>Prob(JB):</td>     <td>0.903</td>\n",
       "</tr>\n",
       "<tr>\n",
       "     <td>Kurtosis:</td>    <td>3.285</td>  <td>Condition No.:</td>     <td>4</td>  \n",
       "</tr>\n",
       "</table>"
      ],
      "text/plain": [
       "<class 'statsmodels.iolib.summary2.Summary'>\n",
       "\"\"\"\n",
       "                 Results: Ordinary least squares\n",
       "=================================================================\n",
       "Model:              OLS              Adj. R-squared:     0.738   \n",
       "Dependent Variable: Y                AIC:                10.9133 \n",
       "Date:               2021-11-06 00:54 BIC:                19.2907 \n",
       "No. Observations:   60               Log-Likelihood:     -1.4567 \n",
       "Df Model:           3                F-statistic:        56.31   \n",
       "Df Residuals:       56               Prob (F-statistic): 6.51e-17\n",
       "R-squared:          0.751            Scale:              0.065853\n",
       "------------------------------------------------------------------\n",
       "                 Coef.   Std.Err.     t     P>|t|   [0.025  0.975]\n",
       "------------------------------------------------------------------\n",
       "Intercept        2.1407    0.0663  32.3077  0.0000  2.0079  2.2734\n",
       "dose_cat[T.1.0]  0.6819    0.0811   8.4034  0.0000  0.5194  0.8445\n",
       "dose_cat[T.2.0]  0.9752    0.0811  12.0176  0.0000  0.8127  1.1378\n",
       "X                0.2722    0.0663   4.1075  0.0001  0.1394  0.4049\n",
       "-----------------------------------------------------------------\n",
       "Omnibus:               0.725        Durbin-Watson:          1.568\n",
       "Prob(Omnibus):         0.696        Jarque-Bera (JB):       0.204\n",
       "Skew:                  -0.009       Prob(JB):               0.903\n",
       "Kurtosis:              3.285        Condition No.:          4    \n",
       "=================================================================\n",
       "\n",
       "\"\"\""
      ]
     },
     "execution_count": 3,
     "metadata": {},
     "output_type": "execute_result"
    }
   ],
   "source": [
    "#transform dataset and get dummy categorical variable\n",
    "tg_data['log_len'] = tg_data[['len']].transform(np.log)\n",
    "tg_data['dose_cat'] = pd.Categorical(tg_data['dose'])\n",
    "Y = tg_data['log_len']\n",
    "X = pd.get_dummies(tg_data['supp'])['OJ']\n",
    "\n",
    "#buile linear regression model for independent variables\n",
    "mod1 = sm.OLS.from_formula('Y ~ X + dose_cat', data=tg_data)\n",
    "res1 = mod1.fit()\n",
    "res1.summary2()"
   ]
  },
  {
   "cell_type": "code",
   "execution_count": 4,
   "metadata": {},
   "outputs": [
    {
     "data": {
      "text/html": [
       "<table class=\"simpletable\">\n",
       "<tr>\n",
       "        <td>Model:</td>               <td>OLS</td>         <td>Adj. R-squared:</td>     <td>0.775</td> \n",
       "</tr>\n",
       "<tr>\n",
       "  <td>Dependent Variable:</td>         <td>Y</td>               <td>AIC:</td>          <td>3.4775</td> \n",
       "</tr>\n",
       "<tr>\n",
       "         <td>Date:</td>        <td>2021-11-06 00:54</td>        <td>BIC:</td>          <td>16.0436</td>\n",
       "</tr>\n",
       "<tr>\n",
       "   <td>No. Observations:</td>         <td>60</td>          <td>Log-Likelihood:</td>    <td>4.2612</td> \n",
       "</tr>\n",
       "<tr>\n",
       "       <td>Df Model:</td>              <td>5</td>           <td>F-statistic:</td>       <td>41.69</td> \n",
       "</tr>\n",
       "<tr>\n",
       "     <td>Df Residuals:</td>           <td>54</td>        <td>Prob (F-statistic):</td> <td>2.34e-17</td>\n",
       "</tr>\n",
       "<tr>\n",
       "      <td>R-squared:</td>            <td>0.794</td>            <td>Scale:</td>        <td>0.056441</td>\n",
       "</tr>\n",
       "</table>\n",
       "<table class=\"simpletable\">\n",
       "<tr>\n",
       "          <td></td>           <th>Coef.</th>  <th>Std.Err.</th>    <th>t</th>     <th>P>|t|</th> <th>[0.025</th>  <th>0.975]</th> \n",
       "</tr>\n",
       "<tr>\n",
       "  <th>Intercept</th>         <td>2.0208</td>   <td>0.0751</td>  <td>26.8989</td> <td>0.0000</td> <td>1.8702</td>  <td>2.1715</td> \n",
       "</tr>\n",
       "<tr>\n",
       "  <th>dose_cat[T.1.0]</th>   <td>0.7893</td>   <td>0.1062</td>  <td>7.4294</td>  <td>0.0000</td> <td>0.5763</td>  <td>1.0024</td> \n",
       "</tr>\n",
       "<tr>\n",
       "  <th>dose_cat[T.2.0]</th>   <td>1.2273</td>   <td>0.1062</td>  <td>11.5513</td> <td>0.0000</td> <td>1.0143</td>  <td>1.4403</td> \n",
       "</tr>\n",
       "<tr>\n",
       "  <th>X</th>                 <td>0.5118</td>   <td>0.1062</td>  <td>4.8171</td>  <td>0.0000</td> <td>0.2988</td>  <td>0.7248</td> \n",
       "</tr>\n",
       "<tr>\n",
       "  <th>X:dose_cat[T.1.0]</th> <td>-0.2148</td>  <td>0.1503</td>  <td>-1.4297</td> <td>0.1586</td> <td>-0.5161</td> <td>0.0864</td> \n",
       "</tr>\n",
       "<tr>\n",
       "  <th>X:dose_cat[T.2.0]</th> <td>-0.5041</td>  <td>0.1503</td>  <td>-3.3551</td> <td>0.0015</td> <td>-0.8054</td> <td>-0.2029</td>\n",
       "</tr>\n",
       "</table>\n",
       "<table class=\"simpletable\">\n",
       "<tr>\n",
       "     <td>Omnibus:</td>     <td>0.136</td>  <td>Durbin-Watson:</td>   <td>1.862</td>\n",
       "</tr>\n",
       "<tr>\n",
       "  <td>Prob(Omnibus):</td>  <td>0.934</td> <td>Jarque-Bera (JB):</td> <td>0.039</td>\n",
       "</tr>\n",
       "<tr>\n",
       "       <td>Skew:</td>     <td>-0.058</td>     <td>Prob(JB):</td>     <td>0.981</td>\n",
       "</tr>\n",
       "<tr>\n",
       "     <td>Kurtosis:</td>    <td>2.953</td>  <td>Condition No.:</td>    <td>10</td>  \n",
       "</tr>\n",
       "</table>"
      ],
      "text/plain": [
       "<class 'statsmodels.iolib.summary2.Summary'>\n",
       "\"\"\"\n",
       "                 Results: Ordinary least squares\n",
       "=================================================================\n",
       "Model:              OLS              Adj. R-squared:     0.775   \n",
       "Dependent Variable: Y                AIC:                3.4775  \n",
       "Date:               2021-11-06 00:54 BIC:                16.0436 \n",
       "No. Observations:   60               Log-Likelihood:     4.2612  \n",
       "Df Model:           5                F-statistic:        41.69   \n",
       "Df Residuals:       54               Prob (F-statistic): 2.34e-17\n",
       "R-squared:          0.794            Scale:              0.056441\n",
       "-----------------------------------------------------------------\n",
       "                   Coef.  Std.Err.    t    P>|t|   [0.025  0.975]\n",
       "-----------------------------------------------------------------\n",
       "Intercept          2.0208   0.0751 26.8989 0.0000  1.8702  2.1715\n",
       "dose_cat[T.1.0]    0.7893   0.1062  7.4294 0.0000  0.5763  1.0024\n",
       "dose_cat[T.2.0]    1.2273   0.1062 11.5513 0.0000  1.0143  1.4403\n",
       "X                  0.5118   0.1062  4.8171 0.0000  0.2988  0.7248\n",
       "X:dose_cat[T.1.0] -0.2148   0.1503 -1.4297 0.1586 -0.5161  0.0864\n",
       "X:dose_cat[T.2.0] -0.5041   0.1503 -3.3551 0.0015 -0.8054 -0.2029\n",
       "-----------------------------------------------------------------\n",
       "Omnibus:               0.136        Durbin-Watson:          1.862\n",
       "Prob(Omnibus):         0.934        Jarque-Bera (JB):       0.039\n",
       "Skew:                  -0.058       Prob(JB):               0.981\n",
       "Kurtosis:              2.953        Condition No.:          10   \n",
       "=================================================================\n",
       "\n",
       "\"\"\""
      ]
     },
     "execution_count": 4,
     "metadata": {},
     "output_type": "execute_result"
    }
   ],
   "source": [
    "#build linear regression model for interaction term\n",
    "mod3 = smf.ols('Y ~ X*dose_cat', data=tg_data)\n",
    "res3 = mod3.fit()\n",
    "res3.summary2()"
   ]
  },
  {
   "cell_type": "markdown",
   "metadata": {},
   "source": [
    "We applied OLS to fit a linear regression model for response variable (with transformation) and independent variables of supplement types and categroical variable, doses (model 1), and another model for interaction terms (model 2). From the summary table, we see R squared and Adjusted R are 0.751 and 0.738 for model 1 respectively, and for model 2 is 0.794 and 0.775 respectively. It indicates about 75% variation in Y is explained by the independent variables and the model 2 has a higher R-squared compared to model 1, which may suggest model 2 is more reliable in covering the variations."
   ]
  },
  {
   "cell_type": "markdown",
   "metadata": {},
   "source": [
    "## Question 1 - NHANES Dentition"
   ]
  },
  {
   "cell_type": "markdown",
   "metadata": {},
   "source": [
    "##### part a"
   ]
  },
  {
   "cell_type": "code",
   "execution_count": 5,
   "metadata": {},
   "outputs": [],
   "source": [
    "#read in data file\n",
    "ohx = pd.read_feather(\"ohx.feather\")\n",
    "demo = pd.read_pickle(\"demo_updated.pickle\")"
   ]
  },
  {
   "cell_type": "code",
   "execution_count": 6,
   "metadata": {},
   "outputs": [],
   "source": [
    "#levels for categorical variables\n",
    "demo_cat = {\n",
    "    'gender': {1: 'Male', 2: 'Female'},\n",
    "    'race': {1: 'Mexican American',\n",
    "             2: 'Other Hispanic',\n",
    "             3: 'Non-Hispanic White',\n",
    "             4: 'Non-Hispanic Black',\n",
    "             6: 'Non-Hispanic Asian',\n",
    "             7: 'Other/Multiracial'\n",
    "             },\n",
    "    'education': {1: 'Less than 9th grade',\n",
    "                  2: '9-11th grade (Includes 12th grade with no diploma)',\n",
    "                  3: 'High school graduate/GED or equivalent',\n",
    "                  4: 'Some college or AA degree',\n",
    "                  5: 'College graduate or above',\n",
    "                  7: 'Refused',\n",
    "                  9: \"Don't know\"\n",
    "                  },\n",
    "    'martial_status': {1.0: 'Married',\n",
    "                       2.0: 'Widowed',\n",
    "                       3.0: 'Divorced',\n",
    "                       4.0: 'Separated',\n",
    "                       5.0: 'Never married',\n",
    "                       6.0: 'Living with partner',\n",
    "                       77.0: 'Refused',\n",
    "                       99.0: \"Don't know\"\n",
    "                       },\n",
    "    'exam_status': {1.0: 'Interviewed only',\n",
    "                    2.0: 'Both interviewed and MEC examined'\n",
    "                    }\n",
    "    }"
   ]
  },
  {
   "cell_type": "code",
   "execution_count": 7,
   "metadata": {},
   "outputs": [],
   "source": [
    "#replace dataset\n",
    "demo = demo.replace(demo_cat)"
   ]
  },
  {
   "cell_type": "code",
   "execution_count": 8,
   "metadata": {
    "scrolled": true
   },
   "outputs": [],
   "source": [
    "#merge and clean dataset\n",
    "result = pd.merge(ohx, demo, on = \"id\", how = \"left\")\n",
    "result['tc_07'] = result['tc_07'].dropna()\n",
    "X = result['age']"
   ]
  },
  {
   "cell_type": "code",
   "execution_count": 9,
   "metadata": {},
   "outputs": [],
   "source": [
    "#get dummy for all the categorical variables\n",
    "tc = ['tc_' + str(i).zfill(2) for i in range(1,33)]\n",
    "response = ['y_' + str(i).zfill(2) for i in range(1,33)]\n",
    "y = {column: None for column in response}\n",
    "for i in range(32):\n",
    "    y.update({response[i]: 1 * (result[tc[i]] == \"Permanent tooth present\")})\n",
    "df = pd.DataFrame(y).reset_index()\n",
    "df = pd.concat([df, result], axis = 1)\n",
    "table = df.groupby('age')['y_07'].mean().reset_index(name = \"probability\")"
   ]
  },
  {
   "cell_type": "code",
   "execution_count": 10,
   "metadata": {},
   "outputs": [
    {
     "data": {
      "text/plain": [
       "[<matplotlib.lines.Line2D at 0x7fe25aac48e0>]"
      ]
     },
     "execution_count": 10,
     "metadata": {},
     "output_type": "execute_result"
    },
    {
     "data": {
      "image/png": "[encoded data removed]",
      "text/plain": [
       "<Figure size 432x288 with 1 Axes>"
      ]
     },
     "metadata": {
      "needs_background": "light"
     },
     "output_type": "display_data"
    }
   ],
   "source": [
    "#plot the graph for the selected tooth\n",
    "plt.title(\"B-spline basis (degree=3)\")\n",
    "plt.plot(table['age'], table['probability'])"
   ]
  },
  {
   "cell_type": "code",
   "execution_count": 13,
   "metadata": {},
   "outputs": [
    {
     "name": "stdout",
     "output_type": "stream",
     "text": [
      "Optimization terminated successfully.\n",
      "         Current function value: 0.356174\n",
      "         Iterations 15\n"
     ]
    },
    {
     "data": {
      "text/plain": [
       "25607.701039428008"
      ]
     },
     "execution_count": 13,
     "metadata": {},
     "output_type": "execute_result"
    }
   ],
   "source": [
    "#use knots to generate bspline and use aic to diagonoise it\n",
    "Y = df['y_07']\n",
    "knots1 = (12, 13, 40, 60)\n",
    "knots2 = (11, 15, 23, 35)\n",
    "knots3 = (9, 10, 12, 15)\n",
    "teeth_mod = smf.logit(\n",
    "    'Y~bs(age, knots=knots3, degree=3)+gender+'+'race', data=df)\n",
    "fit_result = teeth_mod.fit()\n",
    "fit_result.aic"
   ]
  },
  {
   "cell_type": "markdown",
   "metadata": {},
   "source": [
    "knots3 has the best performance, therefore, in this case, we apply knot3 to fit the data."
   ]
  },
  {
   "cell_type": "markdown",
   "metadata": {},
   "source": [
    "##### part b"
   ]
  },
  {
   "cell_type": "code",
   "execution_count": 16,
   "metadata": {},
   "outputs": [],
   "source": [
    "#select all the tooth variables\n",
    "result_age = df.loc[:,'age']\n",
    "tclist = df.loc[:, 'y_01':'y_32']\n",
    "tclist = pd.concat([result_age, tclist], axis = 1)"
   ]
  },
  {
   "cell_type": "code",
   "execution_count": 34,
   "metadata": {
    "scrolled": true
   },
   "outputs": [
    {
     "name": "stdout",
     "output_type": "stream",
     "text": [
      "Warning: Maximum number of iterations has been exceeded.\n",
      "         Current function value: 0.339186\n",
      "         Iterations: 35\n",
      "         Function evaluations: 36\n",
      "         Gradient evaluations: 36\n",
      "Warning: Maximum number of iterations has been exceeded.\n",
      "         Current function value: 0.396396\n",
      "         Iterations: 35\n",
      "         Function evaluations: 37\n",
      "         Gradient evaluations: 37\n"
     ]
    },
    {
     "name": "stderr",
     "output_type": "stream",
     "text": [
      "/opt/anaconda3/lib/python3.8/site-packages/statsmodels/base/model.py:567: ConvergenceWarning: Maximum Likelihood optimization failed to converge. Check mle_retvals\n",
      "  warn(\"Maximum Likelihood optimization failed to converge. \"\n",
      "/opt/anaconda3/lib/python3.8/site-packages/statsmodels/base/model.py:567: ConvergenceWarning: Maximum Likelihood optimization failed to converge. Check mle_retvals\n",
      "  warn(\"Maximum Likelihood optimization failed to converge. \"\n"
     ]
    },
    {
     "name": "stdout",
     "output_type": "stream",
     "text": [
      "Warning: Maximum number of iterations has been exceeded.\n",
      "         Current function value: 0.398605\n",
      "         Iterations: 35\n",
      "         Function evaluations: 36\n",
      "         Gradient evaluations: 36\n"
     ]
    },
    {
     "name": "stderr",
     "output_type": "stream",
     "text": [
      "/opt/anaconda3/lib/python3.8/site-packages/statsmodels/base/model.py:567: ConvergenceWarning: Maximum Likelihood optimization failed to converge. Check mle_retvals\n",
      "  warn(\"Maximum Likelihood optimization failed to converge. \"\n"
     ]
    },
    {
     "name": "stdout",
     "output_type": "stream",
     "text": [
      "Warning: Maximum number of iterations has been exceeded.\n",
      "         Current function value: 0.392894\n",
      "         Iterations: 35\n",
      "         Function evaluations: 36\n",
      "         Gradient evaluations: 36\n"
     ]
    },
    {
     "name": "stderr",
     "output_type": "stream",
     "text": [
      "/opt/anaconda3/lib/python3.8/site-packages/statsmodels/base/model.py:567: ConvergenceWarning: Maximum Likelihood optimization failed to converge. Check mle_retvals\n",
      "  warn(\"Maximum Likelihood optimization failed to converge. \"\n"
     ]
    },
    {
     "name": "stdout",
     "output_type": "stream",
     "text": [
      "Warning: Maximum number of iterations has been exceeded.\n",
      "         Current function value: 0.431537\n",
      "         Iterations: 35\n",
      "         Function evaluations: 36\n",
      "         Gradient evaluations: 36\n",
      "Warning: Maximum number of iterations has been exceeded.\n",
      "         Current function value: 0.350891\n",
      "         Iterations: 35\n",
      "         Function evaluations: 36\n",
      "         Gradient evaluations: 36\n"
     ]
    },
    {
     "name": "stderr",
     "output_type": "stream",
     "text": [
      "/opt/anaconda3/lib/python3.8/site-packages/statsmodels/base/model.py:567: ConvergenceWarning: Maximum Likelihood optimization failed to converge. Check mle_retvals\n",
      "  warn(\"Maximum Likelihood optimization failed to converge. \"\n",
      "/opt/anaconda3/lib/python3.8/site-packages/statsmodels/base/model.py:567: ConvergenceWarning: Maximum Likelihood optimization failed to converge. Check mle_retvals\n",
      "  warn(\"Maximum Likelihood optimization failed to converge. \"\n"
     ]
    },
    {
     "name": "stdout",
     "output_type": "stream",
     "text": [
      "Warning: Maximum number of iterations has been exceeded.\n",
      "         Current function value: 0.365029\n",
      "         Iterations: 35\n",
      "         Function evaluations: 36\n",
      "         Gradient evaluations: 36\n",
      "Warning: Maximum number of iterations has been exceeded.\n",
      "         Current function value: 0.356322\n",
      "         Iterations: 35\n",
      "         Function evaluations: 36\n",
      "         Gradient evaluations: 36\n"
     ]
    },
    {
     "name": "stderr",
     "output_type": "stream",
     "text": [
      "/opt/anaconda3/lib/python3.8/site-packages/statsmodels/base/model.py:567: ConvergenceWarning: Maximum Likelihood optimization failed to converge. Check mle_retvals\n",
      "  warn(\"Maximum Likelihood optimization failed to converge. \"\n",
      "/opt/anaconda3/lib/python3.8/site-packages/statsmodels/base/model.py:567: ConvergenceWarning: Maximum Likelihood optimization failed to converge. Check mle_retvals\n",
      "  warn(\"Maximum Likelihood optimization failed to converge. \"\n"
     ]
    },
    {
     "name": "stdout",
     "output_type": "stream",
     "text": [
      "Warning: Maximum number of iterations has been exceeded.\n",
      "         Current function value: 0.354766\n",
      "         Iterations: 35\n",
      "         Function evaluations: 36\n",
      "         Gradient evaluations: 36\n"
     ]
    },
    {
     "name": "stderr",
     "output_type": "stream",
     "text": [
      "/opt/anaconda3/lib/python3.8/site-packages/statsmodels/base/model.py:567: ConvergenceWarning: Maximum Likelihood optimization failed to converge. Check mle_retvals\n",
      "  warn(\"Maximum Likelihood optimization failed to converge. \"\n"
     ]
    },
    {
     "name": "stdout",
     "output_type": "stream",
     "text": [
      "Warning: Maximum number of iterations has been exceeded.\n",
      "         Current function value: 0.364394\n",
      "         Iterations: 35\n",
      "         Function evaluations: 36\n",
      "         Gradient evaluations: 36\n",
      "Warning: Maximum number of iterations has been exceeded.\n",
      "         Current function value: 0.348780\n",
      "         Iterations: 35\n",
      "         Function evaluations: 36\n",
      "         Gradient evaluations: 36\n"
     ]
    },
    {
     "name": "stderr",
     "output_type": "stream",
     "text": [
      "/opt/anaconda3/lib/python3.8/site-packages/statsmodels/base/model.py:567: ConvergenceWarning: Maximum Likelihood optimization failed to converge. Check mle_retvals\n",
      "  warn(\"Maximum Likelihood optimization failed to converge. \"\n",
      "/opt/anaconda3/lib/python3.8/site-packages/statsmodels/base/model.py:567: ConvergenceWarning: Maximum Likelihood optimization failed to converge. Check mle_retvals\n",
      "  warn(\"Maximum Likelihood optimization failed to converge. \"\n"
     ]
    },
    {
     "name": "stdout",
     "output_type": "stream",
     "text": [
      "Warning: Maximum number of iterations has been exceeded.\n",
      "         Current function value: 0.432957\n",
      "         Iterations: 35\n",
      "         Function evaluations: 36\n",
      "         Gradient evaluations: 36\n",
      "Warning: Maximum number of iterations has been exceeded.\n",
      "         Current function value: 0.392107\n",
      "         Iterations: 35\n",
      "         Function evaluations: 36\n",
      "         Gradient evaluations: 36\n"
     ]
    },
    {
     "name": "stderr",
     "output_type": "stream",
     "text": [
      "/opt/anaconda3/lib/python3.8/site-packages/statsmodels/base/model.py:567: ConvergenceWarning: Maximum Likelihood optimization failed to converge. Check mle_retvals\n",
      "  warn(\"Maximum Likelihood optimization failed to converge. \"\n",
      "/opt/anaconda3/lib/python3.8/site-packages/statsmodels/base/model.py:567: ConvergenceWarning: Maximum Likelihood optimization failed to converge. Check mle_retvals\n",
      "  warn(\"Maximum Likelihood optimization failed to converge. \"\n"
     ]
    },
    {
     "name": "stdout",
     "output_type": "stream",
     "text": [
      "Warning: Maximum number of iterations has been exceeded.\n",
      "         Current function value: 0.401373\n",
      "         Iterations: 35\n",
      "         Function evaluations: 36\n",
      "         Gradient evaluations: 36\n",
      "Warning: Maximum number of iterations has been exceeded.\n",
      "         Current function value: 0.397665\n",
      "         Iterations: 35\n",
      "         Function evaluations: 37\n",
      "         Gradient evaluations: 37\n"
     ]
    },
    {
     "name": "stderr",
     "output_type": "stream",
     "text": [
      "/opt/anaconda3/lib/python3.8/site-packages/statsmodels/base/model.py:567: ConvergenceWarning: Maximum Likelihood optimization failed to converge. Check mle_retvals\n",
      "  warn(\"Maximum Likelihood optimization failed to converge. \"\n",
      "/opt/anaconda3/lib/python3.8/site-packages/statsmodels/base/model.py:567: ConvergenceWarning: Maximum Likelihood optimization failed to converge. Check mle_retvals\n",
      "  warn(\"Maximum Likelihood optimization failed to converge. \"\n"
     ]
    },
    {
     "name": "stdout",
     "output_type": "stream",
     "text": [
      "Warning: Maximum number of iterations has been exceeded.\n",
      "         Current function value: 0.341957\n",
      "         Iterations: 35\n",
      "         Function evaluations: 36\n",
      "         Gradient evaluations: 36\n"
     ]
    },
    {
     "name": "stderr",
     "output_type": "stream",
     "text": [
      "/opt/anaconda3/lib/python3.8/site-packages/statsmodels/base/model.py:567: ConvergenceWarning: Maximum Likelihood optimization failed to converge. Check mle_retvals\n",
      "  warn(\"Maximum Likelihood optimization failed to converge. \"\n"
     ]
    },
    {
     "name": "stdout",
     "output_type": "stream",
     "text": [
      "Warning: Maximum number of iterations has been exceeded.\n",
      "         Current function value: 0.371828\n",
      "         Iterations: 35\n",
      "         Function evaluations: 37\n",
      "         Gradient evaluations: 37\n",
      "Warning: Maximum number of iterations has been exceeded.\n",
      "         Current function value: 0.410318\n",
      "         Iterations: 35\n",
      "         Function evaluations: 37\n",
      "         Gradient evaluations: 37\n"
     ]
    },
    {
     "name": "stderr",
     "output_type": "stream",
     "text": [
      "/opt/anaconda3/lib/python3.8/site-packages/statsmodels/base/model.py:567: ConvergenceWarning: Maximum Likelihood optimization failed to converge. Check mle_retvals\n",
      "  warn(\"Maximum Likelihood optimization failed to converge. \"\n",
      "/opt/anaconda3/lib/python3.8/site-packages/statsmodels/base/model.py:567: ConvergenceWarning: Maximum Likelihood optimization failed to converge. Check mle_retvals\n",
      "  warn(\"Maximum Likelihood optimization failed to converge. \"\n"
     ]
    },
    {
     "name": "stdout",
     "output_type": "stream",
     "text": [
      "Warning: Maximum number of iterations has been exceeded.\n",
      "         Current function value: 0.425665\n",
      "         Iterations: 35\n",
      "         Function evaluations: 36\n",
      "         Gradient evaluations: 36\n",
      "Warning: Maximum number of iterations has been exceeded.\n",
      "         Current function value: 0.374756\n",
      "         Iterations: 35\n",
      "         Function evaluations: 36\n",
      "         Gradient evaluations: 36\n"
     ]
    },
    {
     "name": "stderr",
     "output_type": "stream",
     "text": [
      "/opt/anaconda3/lib/python3.8/site-packages/statsmodels/base/model.py:567: ConvergenceWarning: Maximum Likelihood optimization failed to converge. Check mle_retvals\n",
      "  warn(\"Maximum Likelihood optimization failed to converge. \"\n",
      "/opt/anaconda3/lib/python3.8/site-packages/statsmodels/base/model.py:567: ConvergenceWarning: Maximum Likelihood optimization failed to converge. Check mle_retvals\n",
      "  warn(\"Maximum Likelihood optimization failed to converge. \"\n"
     ]
    },
    {
     "name": "stdout",
     "output_type": "stream",
     "text": [
      "Warning: Maximum number of iterations has been exceeded.\n",
      "         Current function value: 0.378141\n",
      "         Iterations: 35\n",
      "         Function evaluations: 36\n",
      "         Gradient evaluations: 36\n"
     ]
    },
    {
     "name": "stderr",
     "output_type": "stream",
     "text": [
      "/opt/anaconda3/lib/python3.8/site-packages/statsmodels/base/model.py:567: ConvergenceWarning: Maximum Likelihood optimization failed to converge. Check mle_retvals\n",
      "  warn(\"Maximum Likelihood optimization failed to converge. \"\n"
     ]
    },
    {
     "name": "stdout",
     "output_type": "stream",
     "text": [
      "Warning: Maximum number of iterations has been exceeded.\n",
      "         Current function value: 0.302857\n",
      "         Iterations: 35\n",
      "         Function evaluations: 36\n",
      "         Gradient evaluations: 36\n"
     ]
    },
    {
     "name": "stderr",
     "output_type": "stream",
     "text": [
      "/opt/anaconda3/lib/python3.8/site-packages/statsmodels/base/model.py:567: ConvergenceWarning: Maximum Likelihood optimization failed to converge. Check mle_retvals\n",
      "  warn(\"Maximum Likelihood optimization failed to converge. \"\n"
     ]
    },
    {
     "name": "stdout",
     "output_type": "stream",
     "text": [
      "Warning: Maximum number of iterations has been exceeded.\n",
      "         Current function value: 0.317801\n",
      "         Iterations: 35\n",
      "         Function evaluations: 36\n",
      "         Gradient evaluations: 36\n"
     ]
    },
    {
     "name": "stderr",
     "output_type": "stream",
     "text": [
      "/opt/anaconda3/lib/python3.8/site-packages/statsmodels/base/model.py:567: ConvergenceWarning: Maximum Likelihood optimization failed to converge. Check mle_retvals\n",
      "  warn(\"Maximum Likelihood optimization failed to converge. \"\n"
     ]
    },
    {
     "name": "stdout",
     "output_type": "stream",
     "text": [
      "Warning: Maximum number of iterations has been exceeded.\n",
      "         Current function value: 0.321433\n",
      "         Iterations: 35\n",
      "         Function evaluations: 36\n",
      "         Gradient evaluations: 36\n",
      "Warning: Maximum number of iterations has been exceeded.\n",
      "         Current function value: 0.322027\n",
      "         Iterations: 35\n",
      "         Function evaluations: 36\n",
      "         Gradient evaluations: 36\n"
     ]
    },
    {
     "name": "stderr",
     "output_type": "stream",
     "text": [
      "/opt/anaconda3/lib/python3.8/site-packages/statsmodels/base/model.py:567: ConvergenceWarning: Maximum Likelihood optimization failed to converge. Check mle_retvals\n",
      "  warn(\"Maximum Likelihood optimization failed to converge. \"\n",
      "/opt/anaconda3/lib/python3.8/site-packages/statsmodels/base/model.py:567: ConvergenceWarning: Maximum Likelihood optimization failed to converge. Check mle_retvals\n",
      "  warn(\"Maximum Likelihood optimization failed to converge. \"\n"
     ]
    },
    {
     "name": "stdout",
     "output_type": "stream",
     "text": [
      "Warning: Maximum number of iterations has been exceeded.\n",
      "         Current function value: 0.320060\n",
      "         Iterations: 35\n",
      "         Function evaluations: 36\n",
      "         Gradient evaluations: 36\n"
     ]
    },
    {
     "name": "stderr",
     "output_type": "stream",
     "text": [
      "/opt/anaconda3/lib/python3.8/site-packages/statsmodels/base/model.py:567: ConvergenceWarning: Maximum Likelihood optimization failed to converge. Check mle_retvals\n",
      "  warn(\"Maximum Likelihood optimization failed to converge. \"\n"
     ]
    },
    {
     "name": "stdout",
     "output_type": "stream",
     "text": [
      "Warning: Maximum number of iterations has been exceeded.\n",
      "         Current function value: 0.303706\n",
      "         Iterations: 35\n",
      "         Function evaluations: 36\n",
      "         Gradient evaluations: 36\n",
      "Warning: Maximum number of iterations has been exceeded.\n",
      "         Current function value: 0.381005\n",
      "         Iterations: 35\n",
      "         Function evaluations: 36\n",
      "         Gradient evaluations: 36\n"
     ]
    },
    {
     "name": "stderr",
     "output_type": "stream",
     "text": [
      "/opt/anaconda3/lib/python3.8/site-packages/statsmodels/base/model.py:567: ConvergenceWarning: Maximum Likelihood optimization failed to converge. Check mle_retvals\n",
      "  warn(\"Maximum Likelihood optimization failed to converge. \"\n",
      "/opt/anaconda3/lib/python3.8/site-packages/statsmodels/base/model.py:567: ConvergenceWarning: Maximum Likelihood optimization failed to converge. Check mle_retvals\n",
      "  warn(\"Maximum Likelihood optimization failed to converge. \"\n"
     ]
    },
    {
     "name": "stdout",
     "output_type": "stream",
     "text": [
      "Warning: Maximum number of iterations has been exceeded.\n",
      "         Current function value: 0.375211\n",
      "         Iterations: 35\n",
      "         Function evaluations: 36\n",
      "         Gradient evaluations: 36\n"
     ]
    },
    {
     "name": "stderr",
     "output_type": "stream",
     "text": [
      "/opt/anaconda3/lib/python3.8/site-packages/statsmodels/base/model.py:567: ConvergenceWarning: Maximum Likelihood optimization failed to converge. Check mle_retvals\n",
      "  warn(\"Maximum Likelihood optimization failed to converge. \"\n"
     ]
    },
    {
     "name": "stdout",
     "output_type": "stream",
     "text": [
      "Warning: Maximum number of iterations has been exceeded.\n",
      "         Current function value: 0.422766\n",
      "         Iterations: 35\n",
      "         Function evaluations: 36\n",
      "         Gradient evaluations: 36\n",
      "Warning: Maximum number of iterations has been exceeded.\n",
      "         Current function value: 0.408393\n",
      "         Iterations: 35\n",
      "         Function evaluations: 37\n",
      "         Gradient evaluations: 37\n"
     ]
    },
    {
     "name": "stderr",
     "output_type": "stream",
     "text": [
      "/opt/anaconda3/lib/python3.8/site-packages/statsmodels/base/model.py:567: ConvergenceWarning: Maximum Likelihood optimization failed to converge. Check mle_retvals\n",
      "  warn(\"Maximum Likelihood optimization failed to converge. \"\n"
     ]
    },
    {
     "name": "stdout",
     "output_type": "stream",
     "text": [
      "Warning: Maximum number of iterations has been exceeded.\n",
      "         Current function value: 0.376478\n",
      "         Iterations: 35\n",
      "         Function evaluations: 37\n",
      "         Gradient evaluations: 37\n"
     ]
    },
    {
     "name": "stderr",
     "output_type": "stream",
     "text": [
      "/opt/anaconda3/lib/python3.8/site-packages/statsmodels/base/model.py:567: ConvergenceWarning: Maximum Likelihood optimization failed to converge. Check mle_retvals\n",
      "  warn(\"Maximum Likelihood optimization failed to converge. \"\n",
      "/opt/anaconda3/lib/python3.8/site-packages/statsmodels/base/model.py:567: ConvergenceWarning: Maximum Likelihood optimization failed to converge. Check mle_retvals\n",
      "  warn(\"Maximum Likelihood optimization failed to converge. \"\n"
     ]
    }
   ],
   "source": [
    "#apply logistic regression on all the teeth variables\n",
    "temp_list = []\n",
    "for i in range(1, 33):\n",
    "    knots3 = (9, 10, 12, 15)\n",
    "    y_ = response[i-1]\n",
    "    reg = smf.logit(y_+'~bs(age, knots=knots3, degree=3)', data=tclist)\n",
    "    fit = reg.fit(method='bfgs')\n",
    "    temp_list.append((reg, fit))\n",
    "    num = str(i).zfill(2)\n",
    "    yhat = 'yhat_'+ num\n",
    "    tclist[yhat] = reg.predict(fit.params)"
   ]
  },
  {
   "cell_type": "code",
   "execution_count": 36,
   "metadata": {},
   "outputs": [
    {
     "data": {
      "text/html": [
       "<div>\n",
       "<style scoped>\n",
       "    .dataframe tbody tr th:only-of-type {\n",
       "        vertical-align: middle;\n",
       "    }\n",
       "\n",
       "    .dataframe tbody tr th {\n",
       "        vertical-align: top;\n",
       "    }\n",
       "\n",
       "    .dataframe thead th {\n",
       "        text-align: right;\n",
       "    }\n",
       "</style>\n",
       "<table border=\"1\" class=\"dataframe\">\n",
       "  <thead>\n",
       "    <tr style=\"text-align: right;\">\n",
       "      <th></th>\n",
       "      <th>age</th>\n",
       "      <th>y_01</th>\n",
       "      <th>y_02</th>\n",
       "      <th>y_03</th>\n",
       "      <th>y_04</th>\n",
       "      <th>y_05</th>\n",
       "      <th>y_06</th>\n",
       "      <th>y_07</th>\n",
       "      <th>y_08</th>\n",
       "      <th>y_09</th>\n",
       "      <th>...</th>\n",
       "      <th>yhat_23</th>\n",
       "      <th>yhat_24</th>\n",
       "      <th>yhat_25</th>\n",
       "      <th>yhat_26</th>\n",
       "      <th>yhat_27</th>\n",
       "      <th>yhat_28</th>\n",
       "      <th>yhat_29</th>\n",
       "      <th>yhat_30</th>\n",
       "      <th>yhat_31</th>\n",
       "      <th>yhat_32</th>\n",
       "    </tr>\n",
       "  </thead>\n",
       "  <tbody>\n",
       "    <tr>\n",
       "      <th>0</th>\n",
       "      <td>1</td>\n",
       "      <td>0.000000</td>\n",
       "      <td>0.000000</td>\n",
       "      <td>0.000000</td>\n",
       "      <td>0.000000</td>\n",
       "      <td>0.000000</td>\n",
       "      <td>0.000000</td>\n",
       "      <td>0.000000</td>\n",
       "      <td>0.000000</td>\n",
       "      <td>0.000000</td>\n",
       "      <td>...</td>\n",
       "      <td>0.136869</td>\n",
       "      <td>0.123900</td>\n",
       "      <td>0.120572</td>\n",
       "      <td>0.134355</td>\n",
       "      <td>0.072784</td>\n",
       "      <td>0.084897</td>\n",
       "      <td>0.078867</td>\n",
       "      <td>0.128969</td>\n",
       "      <td>0.058400</td>\n",
       "      <td>0.005070</td>\n",
       "    </tr>\n",
       "    <tr>\n",
       "      <th>1</th>\n",
       "      <td>2</td>\n",
       "      <td>0.000000</td>\n",
       "      <td>0.000000</td>\n",
       "      <td>0.000943</td>\n",
       "      <td>0.000000</td>\n",
       "      <td>0.000000</td>\n",
       "      <td>0.000000</td>\n",
       "      <td>0.000000</td>\n",
       "      <td>0.000000</td>\n",
       "      <td>0.000000</td>\n",
       "      <td>...</td>\n",
       "      <td>0.017710</td>\n",
       "      <td>0.023156</td>\n",
       "      <td>0.021966</td>\n",
       "      <td>0.017257</td>\n",
       "      <td>0.009873</td>\n",
       "      <td>0.013787</td>\n",
       "      <td>0.015628</td>\n",
       "      <td>0.026563</td>\n",
       "      <td>0.013298</td>\n",
       "      <td>0.001258</td>\n",
       "    </tr>\n",
       "    <tr>\n",
       "      <th>2</th>\n",
       "      <td>3</td>\n",
       "      <td>0.000000</td>\n",
       "      <td>0.000000</td>\n",
       "      <td>0.000000</td>\n",
       "      <td>0.000000</td>\n",
       "      <td>0.000000</td>\n",
       "      <td>0.000000</td>\n",
       "      <td>0.000000</td>\n",
       "      <td>0.000000</td>\n",
       "      <td>0.000000</td>\n",
       "      <td>...</td>\n",
       "      <td>0.008054</td>\n",
       "      <td>0.017742</td>\n",
       "      <td>0.016751</td>\n",
       "      <td>0.007874</td>\n",
       "      <td>0.002704</td>\n",
       "      <td>0.004084</td>\n",
       "      <td>0.005098</td>\n",
       "      <td>0.018896</td>\n",
       "      <td>0.004650</td>\n",
       "      <td>0.000423</td>\n",
       "    </tr>\n",
       "    <tr>\n",
       "      <th>3</th>\n",
       "      <td>4</td>\n",
       "      <td>0.000000</td>\n",
       "      <td>0.000000</td>\n",
       "      <td>0.011043</td>\n",
       "      <td>0.000000</td>\n",
       "      <td>0.000000</td>\n",
       "      <td>0.000000</td>\n",
       "      <td>0.000000</td>\n",
       "      <td>0.000000</td>\n",
       "      <td>0.000000</td>\n",
       "      <td>...</td>\n",
       "      <td>0.011123</td>\n",
       "      <td>0.042539</td>\n",
       "      <td>0.040610</td>\n",
       "      <td>0.010977</td>\n",
       "      <td>0.001478</td>\n",
       "      <td>0.002238</td>\n",
       "      <td>0.002770</td>\n",
       "      <td>0.037641</td>\n",
       "      <td>0.002508</td>\n",
       "      <td>0.000184</td>\n",
       "    </tr>\n",
       "    <tr>\n",
       "      <th>4</th>\n",
       "      <td>5</td>\n",
       "      <td>0.000000</td>\n",
       "      <td>0.000000</td>\n",
       "      <td>0.144022</td>\n",
       "      <td>0.000000</td>\n",
       "      <td>0.000000</td>\n",
       "      <td>0.000000</td>\n",
       "      <td>0.005435</td>\n",
       "      <td>0.040761</td>\n",
       "      <td>0.032609</td>\n",
       "      <td>...</td>\n",
       "      <td>0.035893</td>\n",
       "      <td>0.200343</td>\n",
       "      <td>0.195927</td>\n",
       "      <td>0.035873</td>\n",
       "      <td>0.001523</td>\n",
       "      <td>0.002187</td>\n",
       "      <td>0.002434</td>\n",
       "      <td>0.146553</td>\n",
       "      <td>0.002040</td>\n",
       "      <td>0.000099</td>\n",
       "    </tr>\n",
       "    <tr>\n",
       "      <th>...</th>\n",
       "      <td>...</td>\n",
       "      <td>...</td>\n",
       "      <td>...</td>\n",
       "      <td>...</td>\n",
       "      <td>...</td>\n",
       "      <td>...</td>\n",
       "      <td>...</td>\n",
       "      <td>...</td>\n",
       "      <td>...</td>\n",
       "      <td>...</td>\n",
       "      <td>...</td>\n",
       "      <td>...</td>\n",
       "      <td>...</td>\n",
       "      <td>...</td>\n",
       "      <td>...</td>\n",
       "      <td>...</td>\n",
       "      <td>...</td>\n",
       "      <td>...</td>\n",
       "      <td>...</td>\n",
       "      <td>...</td>\n",
       "      <td>...</td>\n",
       "    </tr>\n",
       "    <tr>\n",
       "      <th>75</th>\n",
       "      <td>76</td>\n",
       "      <td>0.094972</td>\n",
       "      <td>0.363128</td>\n",
       "      <td>0.351955</td>\n",
       "      <td>0.446927</td>\n",
       "      <td>0.435754</td>\n",
       "      <td>0.553073</td>\n",
       "      <td>0.491620</td>\n",
       "      <td>0.502793</td>\n",
       "      <td>0.508380</td>\n",
       "      <td>...</td>\n",
       "      <td>0.643390</td>\n",
       "      <td>0.658954</td>\n",
       "      <td>0.653354</td>\n",
       "      <td>0.641001</td>\n",
       "      <td>0.707261</td>\n",
       "      <td>0.591587</td>\n",
       "      <td>0.491424</td>\n",
       "      <td>0.353443</td>\n",
       "      <td>0.345067</td>\n",
       "      <td>0.121935</td>\n",
       "    </tr>\n",
       "    <tr>\n",
       "      <th>76</th>\n",
       "      <td>77</td>\n",
       "      <td>0.080745</td>\n",
       "      <td>0.304348</td>\n",
       "      <td>0.322981</td>\n",
       "      <td>0.391304</td>\n",
       "      <td>0.372671</td>\n",
       "      <td>0.496894</td>\n",
       "      <td>0.472050</td>\n",
       "      <td>0.503106</td>\n",
       "      <td>0.490683</td>\n",
       "      <td>...</td>\n",
       "      <td>0.636191</td>\n",
       "      <td>0.654674</td>\n",
       "      <td>0.648504</td>\n",
       "      <td>0.633393</td>\n",
       "      <td>0.697022</td>\n",
       "      <td>0.581153</td>\n",
       "      <td>0.482428</td>\n",
       "      <td>0.350347</td>\n",
       "      <td>0.336303</td>\n",
       "      <td>0.122056</td>\n",
       "    </tr>\n",
       "    <tr>\n",
       "      <th>77</th>\n",
       "      <td>78</td>\n",
       "      <td>0.036145</td>\n",
       "      <td>0.295181</td>\n",
       "      <td>0.361446</td>\n",
       "      <td>0.361446</td>\n",
       "      <td>0.409639</td>\n",
       "      <td>0.530120</td>\n",
       "      <td>0.445783</td>\n",
       "      <td>0.493976</td>\n",
       "      <td>0.506024</td>\n",
       "      <td>...</td>\n",
       "      <td>0.629028</td>\n",
       "      <td>0.650567</td>\n",
       "      <td>0.643809</td>\n",
       "      <td>0.625783</td>\n",
       "      <td>0.686292</td>\n",
       "      <td>0.570345</td>\n",
       "      <td>0.473531</td>\n",
       "      <td>0.347395</td>\n",
       "      <td>0.327656</td>\n",
       "      <td>0.122771</td>\n",
       "    </tr>\n",
       "    <tr>\n",
       "      <th>78</th>\n",
       "      <td>79</td>\n",
       "      <td>0.093960</td>\n",
       "      <td>0.322148</td>\n",
       "      <td>0.369128</td>\n",
       "      <td>0.362416</td>\n",
       "      <td>0.422819</td>\n",
       "      <td>0.483221</td>\n",
       "      <td>0.463087</td>\n",
       "      <td>0.489933</td>\n",
       "      <td>0.469799</td>\n",
       "      <td>...</td>\n",
       "      <td>0.621900</td>\n",
       "      <td>0.646632</td>\n",
       "      <td>0.639268</td>\n",
       "      <td>0.618170</td>\n",
       "      <td>0.675051</td>\n",
       "      <td>0.559151</td>\n",
       "      <td>0.464732</td>\n",
       "      <td>0.344571</td>\n",
       "      <td>0.319122</td>\n",
       "      <td>0.124117</td>\n",
       "    </tr>\n",
       "    <tr>\n",
       "      <th>79</th>\n",
       "      <td>80</td>\n",
       "      <td>0.049892</td>\n",
       "      <td>0.316703</td>\n",
       "      <td>0.334056</td>\n",
       "      <td>0.364425</td>\n",
       "      <td>0.391179</td>\n",
       "      <td>0.486623</td>\n",
       "      <td>0.446855</td>\n",
       "      <td>0.455531</td>\n",
       "      <td>0.457701</td>\n",
       "      <td>...</td>\n",
       "      <td>0.614808</td>\n",
       "      <td>0.642869</td>\n",
       "      <td>0.634882</td>\n",
       "      <td>0.610554</td>\n",
       "      <td>0.663279</td>\n",
       "      <td>0.547562</td>\n",
       "      <td>0.456033</td>\n",
       "      <td>0.341860</td>\n",
       "      <td>0.310698</td>\n",
       "      <td>0.126141</td>\n",
       "    </tr>\n",
       "  </tbody>\n",
       "</table>\n",
       "<p>80 rows × 65 columns</p>\n",
       "</div>"
      ],
      "text/plain": [
       "    age      y_01      y_02      y_03      y_04      y_05      y_06      y_07  \\\n",
       "0     1  0.000000  0.000000  0.000000  0.000000  0.000000  0.000000  0.000000   \n",
       "1     2  0.000000  0.000000  0.000943  0.000000  0.000000  0.000000  0.000000   \n",
       "2     3  0.000000  0.000000  0.000000  0.000000  0.000000  0.000000  0.000000   \n",
       "3     4  0.000000  0.000000  0.011043  0.000000  0.000000  0.000000  0.000000   \n",
       "4     5  0.000000  0.000000  0.144022  0.000000  0.000000  0.000000  0.005435   \n",
       "..  ...       ...       ...       ...       ...       ...       ...       ...   \n",
       "75   76  0.094972  0.363128  0.351955  0.446927  0.435754  0.553073  0.491620   \n",
       "76   77  0.080745  0.304348  0.322981  0.391304  0.372671  0.496894  0.472050   \n",
       "77   78  0.036145  0.295181  0.361446  0.361446  0.409639  0.530120  0.445783   \n",
       "78   79  0.093960  0.322148  0.369128  0.362416  0.422819  0.483221  0.463087   \n",
       "79   80  0.049892  0.316703  0.334056  0.364425  0.391179  0.486623  0.446855   \n",
       "\n",
       "        y_08      y_09  ...   yhat_23   yhat_24   yhat_25   yhat_26   yhat_27  \\\n",
       "0   0.000000  0.000000  ...  0.136869  0.123900  0.120572  0.134355  0.072784   \n",
       "1   0.000000  0.000000  ...  0.017710  0.023156  0.021966  0.017257  0.009873   \n",
       "2   0.000000  0.000000  ...  0.008054  0.017742  0.016751  0.007874  0.002704   \n",
       "3   0.000000  0.000000  ...  0.011123  0.042539  0.040610  0.010977  0.001478   \n",
       "4   0.040761  0.032609  ...  0.035893  0.200343  0.195927  0.035873  0.001523   \n",
       "..       ...       ...  ...       ...       ...       ...       ...       ...   \n",
       "75  0.502793  0.508380  ...  0.643390  0.658954  0.653354  0.641001  0.707261   \n",
       "76  0.503106  0.490683  ...  0.636191  0.654674  0.648504  0.633393  0.697022   \n",
       "77  0.493976  0.506024  ...  0.629028  0.650567  0.643809  0.625783  0.686292   \n",
       "78  0.489933  0.469799  ...  0.621900  0.646632  0.639268  0.618170  0.675051   \n",
       "79  0.455531  0.457701  ...  0.614808  0.642869  0.634882  0.610554  0.663279   \n",
       "\n",
       "     yhat_28   yhat_29   yhat_30   yhat_31   yhat_32  \n",
       "0   0.084897  0.078867  0.128969  0.058400  0.005070  \n",
       "1   0.013787  0.015628  0.026563  0.013298  0.001258  \n",
       "2   0.004084  0.005098  0.018896  0.004650  0.000423  \n",
       "3   0.002238  0.002770  0.037641  0.002508  0.000184  \n",
       "4   0.002187  0.002434  0.146553  0.002040  0.000099  \n",
       "..       ...       ...       ...       ...       ...  \n",
       "75  0.591587  0.491424  0.353443  0.345067  0.121935  \n",
       "76  0.581153  0.482428  0.350347  0.336303  0.122056  \n",
       "77  0.570345  0.473531  0.347395  0.327656  0.122771  \n",
       "78  0.559151  0.464732  0.344571  0.319122  0.124117  \n",
       "79  0.547562  0.456033  0.341860  0.310698  0.126141  \n",
       "\n",
       "[80 rows x 65 columns]"
      ]
     },
     "execution_count": 36,
     "metadata": {},
     "output_type": "execute_result"
    }
   ],
   "source": [
    "#group by the dataset based on age factor\n",
    "tc_prob = tclist.groupby('age').mean().reset_index()\n",
    "tc_prob"
   ]
  },
  {
   "cell_type": "markdown",
   "metadata": {},
   "source": [
    "##### part c"
   ]
  },
  {
   "cell_type": "code",
   "execution_count": 37,
   "metadata": {
    "scrolled": true
   },
   "outputs": [
    {
     "data": {
      "image/png": "[encoded data removed]",
      "text/plain": [
       "<Figure size 1440x1800 with 32 Axes>"
      ]
     },
     "metadata": {
      "needs_background": "light"
     },
     "output_type": "display_data"
    }
   ],
   "source": [
    "#plot the predicted variable for all the teeth variables\n",
    "age = [i for i in range(80)]\n",
    "_tc_ = tc_prob.loc[:, \"yhat_01\":]\n",
    "\n",
    "fig, axes = plt.subplots(8,4)\n",
    "fig.set_size_inches(20, 25)\n",
    "count = 0\n",
    "for i in range(8):\n",
    "    for j in range(4):\n",
    "        axes[i, j].plot(age, _tc_.iloc[:,count])\n",
    "        count += 1"
   ]
  },
  {
   "cell_type": "markdown",
   "metadata": {},
   "source": [
    "## Question 2 - Hosmer-Lemeshow Calibration Plot"
   ]
  },
  {
   "cell_type": "markdown",
   "metadata": {},
   "source": [
    "##### part a"
   ]
  },
  {
   "cell_type": "code",
   "execution_count": 39,
   "metadata": {},
   "outputs": [],
   "source": [
    "#divide the dataset into 10 percentiles\n",
    "tc_selected = tclist[['y_07', 'yhat_07']]\n",
    "tc_selected['Decile'] = pd.qcut(tc_selected['yhat_07'], 10, labels=False)"
   ]
  },
  {
   "cell_type": "markdown",
   "metadata": {},
   "source": [
    "##### part b"
   ]
  },
  {
   "cell_type": "code",
   "execution_count": 51,
   "metadata": {},
   "outputs": [
    {
     "name": "stderr",
     "output_type": "stream",
     "text": [
      "<ipython-input-51-3893006811ac>:1: SettingWithCopyWarning: \n",
      "A value is trying to be set on a copy of a slice from a DataFrame.\n",
      "Try using .loc[row_indexer,col_indexer] = value instead\n",
      "\n",
      "See the caveats in the documentation: https://pandas.pydata.org/pandas-docs/stable/user_guide/indexing.html#returning-a-view-versus-a-copy\n",
      "  tc_selected['Decile'] = pd.qcut(tc_selected['yhat_07'], 10, labels=False)\n"
     ]
    },
    {
     "data": {
      "text/html": [
       "<div>\n",
       "<style scoped>\n",
       "    .dataframe tbody tr th:only-of-type {\n",
       "        vertical-align: middle;\n",
       "    }\n",
       "\n",
       "    .dataframe tbody tr th {\n",
       "        vertical-align: top;\n",
       "    }\n",
       "\n",
       "    .dataframe thead th {\n",
       "        text-align: right;\n",
       "    }\n",
       "</style>\n",
       "<table border=\"1\" class=\"dataframe\">\n",
       "  <thead>\n",
       "    <tr style=\"text-align: right;\">\n",
       "      <th></th>\n",
       "      <th>y_07</th>\n",
       "      <th>yhat_07</th>\n",
       "    </tr>\n",
       "    <tr>\n",
       "      <th>Decile</th>\n",
       "      <th></th>\n",
       "      <th></th>\n",
       "    </tr>\n",
       "  </thead>\n",
       "  <tbody>\n",
       "    <tr>\n",
       "      <th>0</th>\n",
       "      <td>0.009946</td>\n",
       "      <td>0.022211</td>\n",
       "    </tr>\n",
       "    <tr>\n",
       "      <th>1</th>\n",
       "      <td>0.277372</td>\n",
       "      <td>0.302979</td>\n",
       "    </tr>\n",
       "    <tr>\n",
       "      <th>2</th>\n",
       "      <td>0.549706</td>\n",
       "      <td>0.542785</td>\n",
       "    </tr>\n",
       "    <tr>\n",
       "      <th>3</th>\n",
       "      <td>0.687845</td>\n",
       "      <td>0.659830</td>\n",
       "    </tr>\n",
       "    <tr>\n",
       "      <th>4</th>\n",
       "      <td>0.763285</td>\n",
       "      <td>0.734819</td>\n",
       "    </tr>\n",
       "    <tr>\n",
       "      <th>5</th>\n",
       "      <td>0.847029</td>\n",
       "      <td>0.821592</td>\n",
       "    </tr>\n",
       "    <tr>\n",
       "      <th>6</th>\n",
       "      <td>0.899918</td>\n",
       "      <td>0.900020</td>\n",
       "    </tr>\n",
       "    <tr>\n",
       "      <th>7</th>\n",
       "      <td>0.932987</td>\n",
       "      <td>0.949117</td>\n",
       "    </tr>\n",
       "    <tr>\n",
       "      <th>8</th>\n",
       "      <td>0.966167</td>\n",
       "      <td>0.973597</td>\n",
       "    </tr>\n",
       "    <tr>\n",
       "      <th>9</th>\n",
       "      <td>0.971023</td>\n",
       "      <td>0.988650</td>\n",
       "    </tr>\n",
       "  </tbody>\n",
       "</table>\n",
       "</div>"
      ],
      "text/plain": [
       "            y_07   yhat_07\n",
       "Decile                    \n",
       "0       0.009946  0.022211\n",
       "1       0.277372  0.302979\n",
       "2       0.549706  0.542785\n",
       "3       0.687845  0.659830\n",
       "4       0.763285  0.734819\n",
       "5       0.847029  0.821592\n",
       "6       0.899918  0.900020\n",
       "7       0.932987  0.949117\n",
       "8       0.966167  0.973597\n",
       "9       0.971023  0.988650"
      ]
     },
     "execution_count": 51,
     "metadata": {},
     "output_type": "execute_result"
    }
   ],
   "source": [
    "#obtain the mean for predicted data and observed data\n",
    "tc_mean = tc_selected.groupby('Decile').mean()\n",
    "tc_mean"
   ]
  },
  {
   "cell_type": "markdown",
   "metadata": {},
   "source": [
    "##### part c"
   ]
  },
  {
   "cell_type": "code",
   "execution_count": 76,
   "metadata": {},
   "outputs": [
    {
     "data": {
      "text/plain": [
       "[<matplotlib.lines.Line2D at 0x7fe25a8a84c0>]"
      ]
     },
     "execution_count": 76,
     "metadata": {},
     "output_type": "execute_result"
    },
    {
     "data": {
      "image/png": "[encoded data removed]",
      "text/plain": [
       "<Figure size 432x288 with 1 Axes>"
      ]
     },
     "metadata": {
      "needs_background": "light"
     },
     "output_type": "display_data"
    }
   ],
   "source": [
    "#plot the calibration with slope = 1\n",
    "fig2, ax2 = plt.subplots(nrows=1, ncols=1)\n",
    "_ = plt.scatter(\n",
    "    data=tc_mean,\n",
    "    x='y_07',\n",
    "    y='yhat_07',\n",
    "    marker='s',\n",
    "    color='black'\n",
    "    )\n",
    "point1 = [0, 0]\n",
    "point2 = [1, 1]\n",
    "x_values = [point1[0], point2[0]]\n",
    "y_values = [point1[1], point2[1]]\n",
    "plt.plot(x_values, y_values, color = 'red')"
   ]
  },
  {
   "cell_type": "markdown",
   "metadata": {},
   "source": [
    "##### part d"
   ]
  },
  {
   "cell_type": "markdown",
   "metadata": {},
   "source": [
    "The plot looks great with the data. The data points follow the slope of 1 and show a well-calibrated graph. Therefore, we can conclude that the calibration plot is suffciently conclude all the datapoints and show a great linear trend."
   ]
  }
 ],
 "metadata": {
  "jupytext": {
   "formats": "ipynb,py:light"
  },
  "kernelspec": {
   "display_name": "Python 3",
   "language": "python",
   "name": "python3"
  },
  "language_info": {
   "codemirror_mode": {
    "name": "ipython",
    "version": 3
   },
   "file_extension": ".py",
   "mimetype": "text/x-python",
   "name": "python",
   "nbconvert_exporter": "python",
   "pygments_lexer": "ipython3",
   "version": "3.8.3"
  }
 },
 "nbformat": 4,
 "nbformat_minor": 4
}
