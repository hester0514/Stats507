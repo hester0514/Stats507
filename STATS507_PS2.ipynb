{
 "cells": [
  {
   "cell_type": "markdown",
   "metadata": {},
   "source": [
    "### Xuechun Wang\n",
    "#### STATS 507 Problem Set 2\n",
    "#### 24107190"
   ]
  },
  {
   "cell_type": "code",
   "execution_count": 1,
   "metadata": {},
   "outputs": [],
   "source": [
    "import pandas as pd\n",
    "import numpy as np\n",
    "from collections import defaultdict\n",
    "from operator import itemgetter\n",
    "from timeit import Timer\n",
    "import pickle\n",
    "import random\n",
    "from itertools import chain\n",
    "from IPython.core.display import display, HTML"
   ]
  },
  {
   "cell_type": "markdown",
   "metadata": {},
   "source": [
    "### Q0"
   ]
  },
  {
   "cell_type": "markdown",
   "metadata": {},
   "source": [
    "#### a.) \n",
    " - After revising part of the code(by indenting the 2nd nested for loop and replacing 3 to 2 in the position index), the code snippet can successfully run. The entire program is about comparing the element in the list and conclude a new list. The second element (0,1,2) fails to compare with the rest two and automatically join into the new list op. The first and third element hold the same initial number and distinct last number, therefore, they went to the second for loop, and after sorting, (1,9,8) remains in the op."
   ]
  },
  {
   "cell_type": "markdown",
   "metadata": {},
   "source": [
    "#### b.)\n",
    "\n",
    " - The indention and position index is important when we go over an entire list, incorrect indentation will mislead the entire meaning of the loop, and similarly, inappropriate position index will lead to a different number, and cause the entire program goes wrong or stop the running.<br>\n",
    " \n",
    "\n",
    " - For the second nested for loop, start comparison at the second tuple. Therefore, it can save the running time for repeatly compare the first tuple with the rest again. Use m+1 to refer to the next tuple from the last for loop. <br>\n",
    " \n",
    " \n",
    " - A clear variable name will help recalling what it is used for.<br>\n",
    " "
   ]
  },
  {
   "cell_type": "code",
   "execution_count": 66,
   "metadata": {},
   "outputs": [
    {
     "name": "stdout",
     "output_type": "stream",
     "text": [
      "res= [(0, 1, 2), (1, 9, 8)]\n"
     ]
    }
   ],
   "source": [
    "sample_list = [(1, 3, 5), (0, 1, 2), (1, 9, 8)]\n",
    "op = []\n",
    "for m in range(len(sample_list)):\n",
    "    li = [sample_list[m]]\n",
    "    for n in range(len(sample_list)):\n",
    "        if (sample_list[m][0] == sample_list[n][0] and\n",
    "                sample_list[m][2] != sample_list[n][2]):\n",
    "            li.append(sample_list[n])\n",
    "            \n",
    "    op.append(sorted(li, key=lambda dd: dd[2], reverse=True)[0])  \n",
    "res = list(set(op))\n",
    "print(\"res=\",res)"
   ]
  },
  {
   "cell_type": "markdown",
   "metadata": {},
   "source": [
    "### Q1"
   ]
  },
  {
   "cell_type": "code",
   "execution_count": 67,
   "metadata": {},
   "outputs": [],
   "source": [
    "def generateTuples(n, k, tmin, tmax):   \n",
    "    '''\n",
    "    \n",
    "\n",
    "    Parameters\n",
    "    ----------\n",
    "    n : integer\n",
    "        size of the array - describe how many tuples will be in the array.\n",
    "    k : integer\n",
    "        size of the tuple - descrieb how many integers will be in the tuple.\n",
    "    tmin : integer\n",
    "        minimum number of initiating a random tuple.\n",
    "    tmax : integer\n",
    "        maximum number of initaiting a random tuple.\n",
    "\n",
    "    Returns\n",
    "    -------\n",
    "    li_output : a list of tuple\n",
    "        the output will be a randomized list of array with maximum number, minimum number and range has been set.\n",
    "\n",
    "    '''\n",
    "        \n",
    "    output = np.random.randint(tmin, tmax, size = (n, k), dtype = int)\n",
    "    tu_output = tuple(map(tuple, output))\n",
    "    li_output = []\n",
    "    for m in tu_output:\n",
    "        li_output.append(m)\n",
    "    assert isinstance(li_output, list)\n",
    "    assert isinstance(tu_output, tuple)\n",
    "    return li_output"
   ]
  },
  {
   "cell_type": "code",
   "execution_count": 68,
   "metadata": {},
   "outputs": [
    {
     "data": {
      "text/plain": [
       "[(13, 72, 75, 66, 23, 29),\n",
       " (82, 25, 44, 67, 40, 85),\n",
       " (33, 55, 65, 81, 53, 36),\n",
       " (21, 62, 48, 98, 68, 59),\n",
       " (95, 95, 29, 12, 58, 60)]"
      ]
     },
     "execution_count": 68,
     "metadata": {},
     "output_type": "execute_result"
    }
   ],
   "source": [
    "generateTuples(5,6,9,100)"
   ]
  },
  {
   "cell_type": "markdown",
   "metadata": {},
   "source": [
    "### Q2"
   ]
  },
  {
   "cell_type": "markdown",
   "metadata": {},
   "source": [
    "#### a."
   ]
  },
  {
   "cell_type": "code",
   "execution_count": 69,
   "metadata": {},
   "outputs": [],
   "source": [
    "def computeSnippet(sample_list, ini, last):\n",
    "    '''\n",
    "    \n",
    "\n",
    "    Parameters\n",
    "    ----------\n",
    "    sample_list : a list of tuple. \n",
    "        It has been given in this scenario: [(1, 3, 5), (0, 1, 2), (1, 9, 8)].\n",
    "    ini : integer\n",
    "        The first number in the tuple, refers to index 0.\n",
    "    last : integer\n",
    "        The last number in the tuple, refers to index -1.\n",
    "\n",
    "    Returns\n",
    "    -------\n",
    "    res : a list of tuple\n",
    "        The output is a compared result under the situation if the first element in the tuple are the same, pick \n",
    "        the tuple with the biggest last figure. If there's no common first element, then return the tuple.\n",
    "\n",
    "    '''\n",
    "    op = []\n",
    "    for m in range(len(sample_list)):\n",
    "        li = [sample_list[m]]\n",
    "        for n in range(len(sample_list)):\n",
    "            if (sample_list[m][ini] == sample_list[n][ini] \n",
    "                and sample_list[m][last] != sample_list[n][last]):\n",
    "                li.append(sample_list[n])\n",
    "            \n",
    "        op.append(sorted(li, key=lambda dd: dd[last], reverse=True)[ini])\n",
    "    res = list(set(op))\n",
    "    return res"
   ]
  },
  {
   "cell_type": "code",
   "execution_count": 70,
   "metadata": {},
   "outputs": [
    {
     "data": {
      "text/plain": [
       "[(0, 1, 2), (1, 9, 8)]"
      ]
     },
     "execution_count": 70,
     "metadata": {},
     "output_type": "execute_result"
    }
   ],
   "source": [
    "computeSnippet([(1, 3, 5), (0, 1, 2), (1, 9, 8)], 0, 2)"
   ]
  },
  {
   "cell_type": "markdown",
   "metadata": {},
   "source": [
    "#### b."
   ]
  },
  {
   "cell_type": "code",
   "execution_count": 199,
   "metadata": {},
   "outputs": [],
   "source": [
    "def updatedSnippet(sample_list, ini, last):\n",
    "    '''\n",
    "    \n",
    "\n",
    "    Parameters\n",
    "    ----------\n",
    "    sample_list : a list of tuple. \n",
    "        It has been given in this scenario: [(1, 3, 5), (0, 1, 2), (1, 9, 8)].\n",
    "    ini : integer\n",
    "        The first number in the tuple, refers to index 0.\n",
    "    last : integer\n",
    "        The last number in the tuple, refers to index -1.\n",
    "\n",
    "    Returns\n",
    "    -------\n",
    "    res : a list of tuple\n",
    "        The output is a compared result under the situation if the first element in the tuple are the same, pick \n",
    "        the tuple with the biggest last figure. If there's no common first element, then return the tuple.\n",
    "\n",
    "    '''\n",
    "    tuple_list = []\n",
    "    for m in range(len(sample_list)):\n",
    "        temp_list = [sample_list[m]]\n",
    "        for n in range(m+1, len(sample_list)):\n",
    "            if (sample_list[m][ini] == sample_list[n][ini] and sample_list[m][last] != sample_list[n][last]):\n",
    "                temp_list.append(sample_list[m])\n",
    "                   \n",
    "        tuple_list.append(sorted(temp_list, key=lambda dd: dd[last], reverse=True)[ini]) \n",
    "    res = list(set(tuple_list))\n",
    "    return res"
   ]
  },
  {
   "cell_type": "code",
   "execution_count": 200,
   "metadata": {},
   "outputs": [
    {
     "data": {
      "text/plain": [
       "[(0, 1, 2), (1, 9, 8), (1, 3, 5)]"
      ]
     },
     "execution_count": 200,
     "metadata": {},
     "output_type": "execute_result"
    }
   ],
   "source": [
    "updatedSnippet([(1, 3, 5), (0, 1, 2), (1, 9, 8)], 0, 2)"
   ]
  },
  {
   "cell_type": "markdown",
   "metadata": {},
   "source": [
    "#### c."
   ]
  },
  {
   "cell_type": "code",
   "execution_count": 74,
   "metadata": {},
   "outputs": [],
   "source": [
    "def dicSnippet(sample_list, ini, last):\n",
    "    '''\n",
    "    \n",
    "\n",
    "    Parameters\n",
    "    ----------\n",
    "    sample_list : a list of tuple. \n",
    "        It has been given in this scenario: [(1, 3, 5), (0, 1, 2), (1, 9, 8)].\n",
    "    ini : integer\n",
    "        The first number in the tuple, refers to index 0.\n",
    "    last : integer\n",
    "        The last number in the tuple, refers to index -1.\n",
    "\n",
    "    Returns\n",
    "    -------\n",
    "    res : a list of tuple\n",
    "        The output is a compared result under the situation if the first element in the tuple are the same, pick \n",
    "        the tuple with the biggest last figure. If there's no common first element, then return the tuple.\n",
    "\n",
    "    '''\n",
    "    sample_list.sort(key=lambda dd: dd[last], reverse=True)\n",
    "    sample_list = set(sample_list)\n",
    "    de = defaultdict(list)\n",
    "    for t in sample_list:\n",
    "        de[t[0]].append(t[1:])\n",
    "    for key, value in de.items():\n",
    "        de[key] = value[ini]\n",
    "    se = de.items()\n",
    "    se = list(se)\n",
    "    return se"
   ]
  },
  {
   "cell_type": "code",
   "execution_count": 75,
   "metadata": {},
   "outputs": [
    {
     "data": {
      "text/plain": [
       "[(0, (1, 2)), (1, (9, 8))]"
      ]
     },
     "execution_count": 75,
     "metadata": {},
     "output_type": "execute_result"
    }
   ],
   "source": [
    "dicSnippet([(1, 3, 5), (0, 1, 2), (1, 9, 8)], 0, 2)"
   ]
  },
  {
   "cell_type": "markdown",
   "metadata": {},
   "source": [
    "#### d."
   ]
  },
  {
   "cell_type": "code",
   "execution_count": 76,
   "metadata": {},
   "outputs": [],
   "source": [
    "def computeSnippet(sample_list, ini, last):\n",
    "    '''\n",
    "    \n",
    "\n",
    "    Parameters\n",
    "    ----------\n",
    "    sample_list : a list of tuple. \n",
    "        It has been given in this scenario: generateTuples(n, k, tmin, tmax).\n",
    "    ini : integer\n",
    "        The first number in the tuple, refers to index 0.\n",
    "    last : integer\n",
    "        The last number in the tuple, refers to index -1.\n",
    "\n",
    "    Returns\n",
    "    -------\n",
    "    res : a list of tuple\n",
    "        The output is a compared result under the situation if the first element in the tuple are the same, pick \n",
    "        the tuple with the biggest last figure. If there's no common first element, then return the tuple.\n",
    "\n",
    "    '''\n",
    "    op = []\n",
    "    for m in range(len(sample_list)):\n",
    "        li = [sample_list[m]]\n",
    "        for n in range(len(sample_list)):\n",
    "            if (sample_list[m][ini] == sample_list[n][ini] \n",
    "                and sample_list[m][last] != sample_list[n][last]):\n",
    "                li.append(sample_list[n])\n",
    "            \n",
    "        op.append(sorted(li, key=lambda dd: dd[last], reverse=True)[ini])\n",
    "    res = list(set(op))\n",
    "    return res"
   ]
  },
  {
   "cell_type": "code",
   "execution_count": 77,
   "metadata": {},
   "outputs": [
    {
     "data": {
      "text/plain": [
       "[(72, 86, 65, 32, 70, 31),\n",
       " (79, 44, 73, 66, 9, 71),\n",
       " (64, 65, 71, 51, 14, 17),\n",
       " (28, 53, 32, 41, 38, 74),\n",
       " (40, 44, 52, 91, 59, 27)]"
      ]
     },
     "execution_count": 77,
     "metadata": {},
     "output_type": "execute_result"
    }
   ],
   "source": [
    "computeSnippet(generateTuples(5,6,9,100),0, 5)"
   ]
  },
  {
   "cell_type": "code",
   "execution_count": 78,
   "metadata": {},
   "outputs": [],
   "source": [
    "def updatedSnippet(sample_list, ini, last):\n",
    "    '''\n",
    "    \n",
    "\n",
    "    Parameters\n",
    "    ----------\n",
    "    sample_list : a list of tuple. \n",
    "        It has been given in this scenario: generateTuples(n, k, tmin, tmax).\n",
    "    ini : integer\n",
    "        The first number in the tuple, refers to index 0.\n",
    "    last : integer\n",
    "        The last number in the tuple, refers to index -1.\n",
    "\n",
    "    Returns\n",
    "    -------\n",
    "    res : a list of tuple\n",
    "        The output is a compared result under the situation if the first element in the tuple are the same, pick \n",
    "        the tuple with the biggest last figure. If there's no common first element, then return the tuple.\n",
    "\n",
    "    '''\n",
    "    tuple_list = []\n",
    "    for m in range(len(sample_list)):\n",
    "        temp_list = [sample_list[m]]\n",
    "        for n in range(m+1, len(sample_list)):\n",
    "            if (sample_list[m][ini] == sample_list[n][ini] and sample_list[m][last] != sample_list[n][last]):\n",
    "                temp_list.append(sample_list[m])\n",
    "                   \n",
    "        tuple_list.append(sorted(temp_list, key=lambda dd: dd[last], reverse=True)[ini]) \n",
    "    res = list(set(tuple_list))\n",
    "    return res"
   ]
  },
  {
   "cell_type": "code",
   "execution_count": 79,
   "metadata": {},
   "outputs": [
    {
     "data": {
      "text/plain": [
       "[(96, 95, 55, 98, 40, 21),\n",
       " (23, 21, 97, 21, 70, 90),\n",
       " (46, 47, 17, 91, 76, 50),\n",
       " (23, 69, 66, 60, 96, 26),\n",
       " (60, 43, 35, 90, 81, 31)]"
      ]
     },
     "execution_count": 79,
     "metadata": {},
     "output_type": "execute_result"
    }
   ],
   "source": [
    "updatedSnippet(generateTuples(5,6,9,100), 0, 5)"
   ]
  },
  {
   "cell_type": "code",
   "execution_count": 80,
   "metadata": {},
   "outputs": [],
   "source": [
    "def dicSnippet(sample_list, ini, last):\n",
    "    '''\n",
    "    \n",
    "\n",
    "    Parameters\n",
    "    ----------\n",
    "    sample_list : a list of tuple. \n",
    "        It has been given in this scenario: generateTuples(n, k, tmin, tmax).\n",
    "    ini : integer\n",
    "        The first number in the tuple, refers to index 0.\n",
    "    last : integer\n",
    "        The last number in the tuple, refers to index -1.\n",
    "\n",
    "    Returns\n",
    "    -------\n",
    "    res : a list of tuple\n",
    "        The output is a compared result under the situation if the first element in the tuple are the same, pick \n",
    "        the tuple with the biggest last figure. If there's no common first element, then return the tuple.\n",
    "\n",
    "    '''\n",
    "    sample_list.sort(key=lambda dd: dd[last], reverse=True)\n",
    "    sample_list = set(sample_list)\n",
    "    de = defaultdict(list)\n",
    "    for t in sample_list:\n",
    "        de[t[0]].append(t[1:])\n",
    "    for key, value in de.items():\n",
    "        de[key] = value[ini]\n",
    "    se = de.items()\n",
    "    se = list(se)\n",
    "    return se"
   ]
  },
  {
   "cell_type": "code",
   "execution_count": 81,
   "metadata": {},
   "outputs": [
    {
     "data": {
      "text/plain": [
       "[(32, (32, 36, 82, 44, 27)),\n",
       " (13, (47, 77, 20, 31, 53)),\n",
       " (75, (45, 34, 40, 27, 94)),\n",
       " (24, (51, 48, 90, 20, 59)),\n",
       " (98, (92, 38, 43, 41, 93))]"
      ]
     },
     "execution_count": 81,
     "metadata": {},
     "output_type": "execute_result"
    }
   ],
   "source": [
    "dicSnippet(generateTuples(5,6,9,100), 0, 5)"
   ]
  },
  {
   "cell_type": "markdown",
   "metadata": {},
   "source": [
    " - each m is corresponding to three different functions and the output will be the mean time for running each function 1000 times."
   ]
  },
  {
   "cell_type": "code",
   "execution_count": 104,
   "metadata": {},
   "outputs": [
    {
     "name": "stdout",
     "output_type": "stream",
     "text": [
      "[0.15037, 0.14203, 0.14491]\n"
     ]
    }
   ],
   "source": [
    "n_mc = 1000\n",
    "output = generateTuples(5,6,9,100)\n",
    "ini = 0\n",
    "m_list = []\n",
    "for f in (computeSnippet(output, ini, 5), updatedSnippet(output, ini, 5), dicSnippet(output, ini, 5)):\n",
    "    t = Timer(\"f\", globals={\"f\": f})\n",
    "    m = np.mean([t.timeit(1) for i in range(n_mc)]) \n",
    "    m = round(m * 1e6, 5)\n",
    "    m_list.append(m)\n",
    "print(m_list)"
   ]
  },
  {
   "cell_type": "code",
   "execution_count": 119,
   "metadata": {},
   "outputs": [
    {
     "name": "stdout",
     "output_type": "stream",
     "text": [
      "{'computeSnippet': 0.15037, 'updatedSnippet': 0.14203, 'dicSnippet(': 0.14491}\n"
     ]
    }
   ],
   "source": [
    "f_list = [\"computeSnippet\", \"updatedSnippet\", \"dicSnippet\"]\n",
    "res = {}\n",
    "for key in range(len(f_list)):\n",
    "    res[f_list[key]] = m_list[key]\n",
    "print(res)"
   ]
  },
  {
   "cell_type": "code",
   "execution_count": 125,
   "metadata": {},
   "outputs": [
    {
     "data": {
      "text/html": [
       "<div>\n",
       "<style scoped>\n",
       "    .dataframe tbody tr th:only-of-type {\n",
       "        vertical-align: middle;\n",
       "    }\n",
       "\n",
       "    .dataframe tbody tr th {\n",
       "        vertical-align: top;\n",
       "    }\n",
       "\n",
       "    .dataframe thead th {\n",
       "        text-align: right;\n",
       "    }\n",
       "</style>\n",
       "<table border=\"1\" class=\"dataframe\">\n",
       "  <thead>\n",
       "    <tr style=\"text-align: right;\">\n",
       "      <th></th>\n",
       "      <th>Function</th>\n",
       "      <th>Mean Time</th>\n",
       "    </tr>\n",
       "  </thead>\n",
       "  <tbody>\n",
       "    <tr>\n",
       "      <th>0</th>\n",
       "      <td>computeSnippet</td>\n",
       "      <td>0.15037</td>\n",
       "    </tr>\n",
       "    <tr>\n",
       "      <th>1</th>\n",
       "      <td>updatedSnippet</td>\n",
       "      <td>0.14203</td>\n",
       "    </tr>\n",
       "    <tr>\n",
       "      <th>2</th>\n",
       "      <td>dicSnippet(</td>\n",
       "      <td>0.14491</td>\n",
       "    </tr>\n",
       "  </tbody>\n",
       "</table>\n",
       "</div>"
      ],
      "text/plain": [
       "         Function  Mean Time\n",
       "0  computeSnippet    0.15037\n",
       "1  updatedSnippet    0.14203\n",
       "2     dicSnippet(    0.14491"
      ]
     },
     "execution_count": 125,
     "metadata": {},
     "output_type": "execute_result"
    }
   ],
   "source": [
    "dFrame = pd.DataFrame(res.items(), columns=['Function', 'Mean Time'])\n",
    "dFrame"
   ]
  },
  {
   "cell_type": "code",
   "execution_count": 133,
   "metadata": {},
   "outputs": [],
   "source": [
    "cap = \"\"\"\n",
    "<b> Table 1.</b> <em> Timing comparisons for Tuple-comparison Functions.</em>\n",
    "Calculating mean time from 1000 trials to see randomness in Marte Carlo.  \n",
    "The method within dictionary is faster than the other two. \n",
    "\"\"\"\n",
    "\n",
    "t1 = dFrame.to_html(index=False)\n",
    "t1 = t1.rsplit('\\n')\n",
    "t1.insert(1, cap)\n",
    "tab1 = ''\n",
    "for i, line in enumerate(t1):\n",
    "    tab1 += line\n",
    "    if i < (len(t1) - 1):\n",
    "        tab1 += '\\n'"
   ]
  },
  {
   "cell_type": "code",
   "execution_count": 134,
   "metadata": {},
   "outputs": [
    {
     "data": {
      "text/html": [
       "<table border=\"1\" class=\"dataframe\">\n",
       "\n",
       "<b> Table 1.</b> <em> Timing comparisons for Tuple-comparison Functions.</em>\n",
       "Calculating mean time from 1000 trials to see randomness in Marte Carlo.  \n",
       "The method within dictionary is faster than the other two. \n",
       "\n",
       "  <thead>\n",
       "    <tr style=\"text-align: right;\">\n",
       "      <th>Function</th>\n",
       "      <th>Mean Time</th>\n",
       "    </tr>\n",
       "  </thead>\n",
       "  <tbody>\n",
       "    <tr>\n",
       "      <td>computeSnippet</td>\n",
       "      <td>0.15037</td>\n",
       "    </tr>\n",
       "    <tr>\n",
       "      <td>updatedSnippet</td>\n",
       "      <td>0.14203</td>\n",
       "    </tr>\n",
       "    <tr>\n",
       "      <td>dicSnippet(</td>\n",
       "      <td>0.14491</td>\n",
       "    </tr>\n",
       "  </tbody>\n",
       "</table>"
      ],
      "text/plain": [
       "<IPython.core.display.HTML object>"
      ]
     },
     "metadata": {},
     "output_type": "display_data"
    }
   ],
   "source": [
    "display(HTML(tab1))"
   ]
  },
  {
   "cell_type": "markdown",
   "metadata": {},
   "source": [
    "### Q3"
   ]
  },
  {
   "cell_type": "markdown",
   "metadata": {},
   "source": [
    " - Import files from local directory"
   ]
  },
  {
   "cell_type": "code",
   "execution_count": 2,
   "metadata": {},
   "outputs": [],
   "source": [
    "demo11_12 = pd.read_sas('/Users/Sylvia/Desktop/DEMO_G.XPT', encoding = 'utf-8')\n",
    "demo13_14 = pd.read_sas('/Users/Sylvia/Desktop/DEMO_H.XPT', encoding = 'utf-8')\n",
    "demo15_16 = pd.read_sas('/Users/Sylvia/Desktop/DEMO_I.XPT', encoding = 'utf-8')\n",
    "demo17_18 = pd.read_sas('/Users/Sylvia/Desktop/DEMO_J.XPT', encoding = 'utf-8')"
   ]
  },
  {
   "cell_type": "code",
   "execution_count": 3,
   "metadata": {},
   "outputs": [],
   "source": [
    "updateddemo11_12 = demo11_12[['SEQN','RIDAGEYR','RIDRETH3','DMDEDUC2','DMDMARTL','RIDSTATR','SDMVPSU','SDMVSTRA',\n",
    "                             'WTMEC2YR','WTINT2YR']]\n",
    "updateddemo13_14 = demo13_14[['SEQN','RIDAGEYR','RIDRETH3','DMDEDUC2','DMDMARTL','RIDSTATR','SDMVPSU','SDMVSTRA',\n",
    "                             'WTMEC2YR','WTINT2YR']]\n",
    "updateddemo15_16 = demo15_16[['SEQN','RIDAGEYR','RIDRETH3','DMDEDUC2','DMDMARTL','RIDSTATR','SDMVPSU','SDMVSTRA',\n",
    "                             'WTMEC2YR','WTINT2YR']]\n",
    "updateddemo17_18 = demo17_18[['SEQN','RIDAGEYR','RIDRETH3','DMDEDUC2','DMDMARTL','RIDSTATR','SDMVPSU','SDMVSTRA',\n",
    "                             'WTMEC2YR','WTINT2YR']]"
   ]
  },
  {
   "cell_type": "code",
   "execution_count": 4,
   "metadata": {},
   "outputs": [
    {
     "name": "stderr",
     "output_type": "stream",
     "text": [
      "<ipython-input-4-49598ecf243c>:1: SettingWithCopyWarning: \n",
      "A value is trying to be set on a copy of a slice from a DataFrame.\n",
      "Try using .loc[row_indexer,col_indexer] = value instead\n",
      "\n",
      "See the caveats in the documentation: https://pandas.pydata.org/pandas-docs/stable/user_guide/indexing.html#returning-a-view-versus-a-copy\n",
      "  updateddemo11_12['cohort'] = '2011-2012'\n",
      "<ipython-input-4-49598ecf243c>:2: SettingWithCopyWarning: \n",
      "A value is trying to be set on a copy of a slice from a DataFrame.\n",
      "Try using .loc[row_indexer,col_indexer] = value instead\n",
      "\n",
      "See the caveats in the documentation: https://pandas.pydata.org/pandas-docs/stable/user_guide/indexing.html#returning-a-view-versus-a-copy\n",
      "  updateddemo13_14['cohort'] = '2013-2014'\n",
      "<ipython-input-4-49598ecf243c>:3: SettingWithCopyWarning: \n",
      "A value is trying to be set on a copy of a slice from a DataFrame.\n",
      "Try using .loc[row_indexer,col_indexer] = value instead\n",
      "\n",
      "See the caveats in the documentation: https://pandas.pydata.org/pandas-docs/stable/user_guide/indexing.html#returning-a-view-versus-a-copy\n",
      "  updateddemo15_16['cohort'] = '2015-2016'\n",
      "<ipython-input-4-49598ecf243c>:4: SettingWithCopyWarning: \n",
      "A value is trying to be set on a copy of a slice from a DataFrame.\n",
      "Try using .loc[row_indexer,col_indexer] = value instead\n",
      "\n",
      "See the caveats in the documentation: https://pandas.pydata.org/pandas-docs/stable/user_guide/indexing.html#returning-a-view-versus-a-copy\n",
      "  updateddemo17_18['cohort'] = '2017-2018'\n"
     ]
    }
   ],
   "source": [
    "updateddemo11_12['cohort'] = '2011-2012'\n",
    "updateddemo13_14['cohort'] = '2013-2014'\n",
    "updateddemo15_16['cohort'] = '2015-2016'\n",
    "updateddemo17_18['cohort'] = '2017-2018'"
   ]
  },
  {
   "cell_type": "code",
   "execution_count": 5,
   "metadata": {},
   "outputs": [
    {
     "data": {
      "text/html": [
       "<div>\n",
       "<style scoped>\n",
       "    .dataframe tbody tr th:only-of-type {\n",
       "        vertical-align: middle;\n",
       "    }\n",
       "\n",
       "    .dataframe tbody tr th {\n",
       "        vertical-align: top;\n",
       "    }\n",
       "\n",
       "    .dataframe thead th {\n",
       "        text-align: right;\n",
       "    }\n",
       "</style>\n",
       "<table border=\"1\" class=\"dataframe\">\n",
       "  <thead>\n",
       "    <tr style=\"text-align: right;\">\n",
       "      <th></th>\n",
       "      <th>id</th>\n",
       "      <th>age</th>\n",
       "      <th>race</th>\n",
       "      <th>education</th>\n",
       "      <th>martial_status</th>\n",
       "      <th>interview_status</th>\n",
       "      <th>maskedvar-psu</th>\n",
       "      <th>maskedvar-stra</th>\n",
       "      <th>fullsample2yr_mec</th>\n",
       "      <th>fullsample2yr_int</th>\n",
       "      <th>cohort</th>\n",
       "    </tr>\n",
       "  </thead>\n",
       "  <tbody>\n",
       "    <tr>\n",
       "      <th>0</th>\n",
       "      <td>62161.0</td>\n",
       "      <td>22.0</td>\n",
       "      <td>3.0</td>\n",
       "      <td>3.0</td>\n",
       "      <td>5.0</td>\n",
       "      <td>2.0</td>\n",
       "      <td>1.0</td>\n",
       "      <td>91.0</td>\n",
       "      <td>104236.582554</td>\n",
       "      <td>102641.406474</td>\n",
       "      <td>2011-2012</td>\n",
       "    </tr>\n",
       "    <tr>\n",
       "      <th>1</th>\n",
       "      <td>62162.0</td>\n",
       "      <td>3.0</td>\n",
       "      <td>1.0</td>\n",
       "      <td>NaN</td>\n",
       "      <td>NaN</td>\n",
       "      <td>2.0</td>\n",
       "      <td>3.0</td>\n",
       "      <td>92.0</td>\n",
       "      <td>16116.354010</td>\n",
       "      <td>15457.736897</td>\n",
       "      <td>2011-2012</td>\n",
       "    </tr>\n",
       "    <tr>\n",
       "      <th>2</th>\n",
       "      <td>62163.0</td>\n",
       "      <td>14.0</td>\n",
       "      <td>6.0</td>\n",
       "      <td>NaN</td>\n",
       "      <td>NaN</td>\n",
       "      <td>2.0</td>\n",
       "      <td>3.0</td>\n",
       "      <td>90.0</td>\n",
       "      <td>7869.485117</td>\n",
       "      <td>7397.684828</td>\n",
       "      <td>2011-2012</td>\n",
       "    </tr>\n",
       "    <tr>\n",
       "      <th>3</th>\n",
       "      <td>62164.0</td>\n",
       "      <td>44.0</td>\n",
       "      <td>3.0</td>\n",
       "      <td>4.0</td>\n",
       "      <td>1.0</td>\n",
       "      <td>2.0</td>\n",
       "      <td>1.0</td>\n",
       "      <td>94.0</td>\n",
       "      <td>127965.226204</td>\n",
       "      <td>127351.373299</td>\n",
       "      <td>2011-2012</td>\n",
       "    </tr>\n",
       "    <tr>\n",
       "      <th>4</th>\n",
       "      <td>62165.0</td>\n",
       "      <td>14.0</td>\n",
       "      <td>4.0</td>\n",
       "      <td>NaN</td>\n",
       "      <td>NaN</td>\n",
       "      <td>2.0</td>\n",
       "      <td>2.0</td>\n",
       "      <td>90.0</td>\n",
       "      <td>13384.042162</td>\n",
       "      <td>12209.744980</td>\n",
       "      <td>2011-2012</td>\n",
       "    </tr>\n",
       "  </tbody>\n",
       "</table>\n",
       "</div>"
      ],
      "text/plain": [
       "        id   age  race  education  martial_status  interview_status  \\\n",
       "0  62161.0  22.0   3.0        3.0             5.0               2.0   \n",
       "1  62162.0   3.0   1.0        NaN             NaN               2.0   \n",
       "2  62163.0  14.0   6.0        NaN             NaN               2.0   \n",
       "3  62164.0  44.0   3.0        4.0             1.0               2.0   \n",
       "4  62165.0  14.0   4.0        NaN             NaN               2.0   \n",
       "\n",
       "   maskedvar-psu  maskedvar-stra  fullsample2yr_mec  fullsample2yr_int  \\\n",
       "0            1.0            91.0      104236.582554      102641.406474   \n",
       "1            3.0            92.0       16116.354010       15457.736897   \n",
       "2            3.0            90.0        7869.485117        7397.684828   \n",
       "3            1.0            94.0      127965.226204      127351.373299   \n",
       "4            2.0            90.0       13384.042162       12209.744980   \n",
       "\n",
       "      cohort  \n",
       "0  2011-2012  \n",
       "1  2011-2012  \n",
       "2  2011-2012  \n",
       "3  2011-2012  \n",
       "4  2011-2012  "
      ]
     },
     "execution_count": 5,
     "metadata": {},
     "output_type": "execute_result"
    }
   ],
   "source": [
    "demo = pd.concat([updateddemo11_12, updateddemo13_14, updateddemo15_16, updateddemo17_18], axis = 0)\n",
    "demo = demo.rename(columns ={'SEQN':'id','RIDAGEYR':'age','RIDRETH3':'race','DMDEDUC2':'education',\n",
    "                            'DMDMARTL':'martial_status','RIDSTATR':'interview_status','SDMVPSU':'maskedvar-psu',\n",
    "                            'SDMVSTRA':'maskedvar-stra','WTMEC2YR':'fullsample2yr_mec',\n",
    "                            'WTINT2YR':'fullsample2yr_int'})\n",
    "demo.head()"
   ]
  },
  {
   "cell_type": "markdown",
   "metadata": {},
   "source": [
    " - Change non-categorical data into int"
   ]
  },
  {
   "cell_type": "code",
   "execution_count": 6,
   "metadata": {},
   "outputs": [
    {
     "data": {
      "text/html": [
       "<div>\n",
       "<style scoped>\n",
       "    .dataframe tbody tr th:only-of-type {\n",
       "        vertical-align: middle;\n",
       "    }\n",
       "\n",
       "    .dataframe tbody tr th {\n",
       "        vertical-align: top;\n",
       "    }\n",
       "\n",
       "    .dataframe thead th {\n",
       "        text-align: right;\n",
       "    }\n",
       "</style>\n",
       "<table border=\"1\" class=\"dataframe\">\n",
       "  <thead>\n",
       "    <tr style=\"text-align: right;\">\n",
       "      <th></th>\n",
       "      <th>id</th>\n",
       "      <th>age</th>\n",
       "      <th>race</th>\n",
       "      <th>education</th>\n",
       "      <th>martial_status</th>\n",
       "      <th>interview_status</th>\n",
       "      <th>maskedvar-psu</th>\n",
       "      <th>maskedvar-stra</th>\n",
       "      <th>fullsample2yr_mec</th>\n",
       "      <th>fullsample2yr_int</th>\n",
       "      <th>cohort</th>\n",
       "    </tr>\n",
       "  </thead>\n",
       "  <tbody>\n",
       "    <tr>\n",
       "      <th>0</th>\n",
       "      <td>62161</td>\n",
       "      <td>22</td>\n",
       "      <td>3</td>\n",
       "      <td>3.0</td>\n",
       "      <td>5.0</td>\n",
       "      <td>2.0</td>\n",
       "      <td>1.0</td>\n",
       "      <td>91.0</td>\n",
       "      <td>104236.582554</td>\n",
       "      <td>102641.406474</td>\n",
       "      <td>2011-2012</td>\n",
       "    </tr>\n",
       "    <tr>\n",
       "      <th>1</th>\n",
       "      <td>62162</td>\n",
       "      <td>3</td>\n",
       "      <td>1</td>\n",
       "      <td>NaN</td>\n",
       "      <td>NaN</td>\n",
       "      <td>2.0</td>\n",
       "      <td>3.0</td>\n",
       "      <td>92.0</td>\n",
       "      <td>16116.354010</td>\n",
       "      <td>15457.736897</td>\n",
       "      <td>2011-2012</td>\n",
       "    </tr>\n",
       "    <tr>\n",
       "      <th>2</th>\n",
       "      <td>62163</td>\n",
       "      <td>14</td>\n",
       "      <td>6</td>\n",
       "      <td>NaN</td>\n",
       "      <td>NaN</td>\n",
       "      <td>2.0</td>\n",
       "      <td>3.0</td>\n",
       "      <td>90.0</td>\n",
       "      <td>7869.485117</td>\n",
       "      <td>7397.684828</td>\n",
       "      <td>2011-2012</td>\n",
       "    </tr>\n",
       "    <tr>\n",
       "      <th>3</th>\n",
       "      <td>62164</td>\n",
       "      <td>44</td>\n",
       "      <td>3</td>\n",
       "      <td>4.0</td>\n",
       "      <td>1.0</td>\n",
       "      <td>2.0</td>\n",
       "      <td>1.0</td>\n",
       "      <td>94.0</td>\n",
       "      <td>127965.226204</td>\n",
       "      <td>127351.373299</td>\n",
       "      <td>2011-2012</td>\n",
       "    </tr>\n",
       "    <tr>\n",
       "      <th>4</th>\n",
       "      <td>62165</td>\n",
       "      <td>14</td>\n",
       "      <td>4</td>\n",
       "      <td>NaN</td>\n",
       "      <td>NaN</td>\n",
       "      <td>2.0</td>\n",
       "      <td>2.0</td>\n",
       "      <td>90.0</td>\n",
       "      <td>13384.042162</td>\n",
       "      <td>12209.744980</td>\n",
       "      <td>2011-2012</td>\n",
       "    </tr>\n",
       "  </tbody>\n",
       "</table>\n",
       "</div>"
      ],
      "text/plain": [
       "      id  age  race  education  martial_status  interview_status  \\\n",
       "0  62161   22     3        3.0             5.0               2.0   \n",
       "1  62162    3     1        NaN             NaN               2.0   \n",
       "2  62163   14     6        NaN             NaN               2.0   \n",
       "3  62164   44     3        4.0             1.0               2.0   \n",
       "4  62165   14     4        NaN             NaN               2.0   \n",
       "\n",
       "   maskedvar-psu  maskedvar-stra  fullsample2yr_mec  fullsample2yr_int  \\\n",
       "0            1.0            91.0      104236.582554      102641.406474   \n",
       "1            3.0            92.0       16116.354010       15457.736897   \n",
       "2            3.0            90.0        7869.485117        7397.684828   \n",
       "3            1.0            94.0      127965.226204      127351.373299   \n",
       "4            2.0            90.0       13384.042162       12209.744980   \n",
       "\n",
       "      cohort  \n",
       "0  2011-2012  \n",
       "1  2011-2012  \n",
       "2  2011-2012  \n",
       "3  2011-2012  \n",
       "4  2011-2012  "
      ]
     },
     "execution_count": 6,
     "metadata": {},
     "output_type": "execute_result"
    }
   ],
   "source": [
    "demo[['id','age','race']] = demo[['id','age','race']].astype(int)\n",
    "demo.head()"
   ]
  },
  {
   "cell_type": "markdown",
   "metadata": {},
   "source": [
    " - Change categorical data as category"
   ]
  },
  {
   "cell_type": "code",
   "execution_count": 7,
   "metadata": {},
   "outputs": [
    {
     "data": {
      "text/html": [
       "<div>\n",
       "<style scoped>\n",
       "    .dataframe tbody tr th:only-of-type {\n",
       "        vertical-align: middle;\n",
       "    }\n",
       "\n",
       "    .dataframe tbody tr th {\n",
       "        vertical-align: top;\n",
       "    }\n",
       "\n",
       "    .dataframe thead th {\n",
       "        text-align: right;\n",
       "    }\n",
       "</style>\n",
       "<table border=\"1\" class=\"dataframe\">\n",
       "  <thead>\n",
       "    <tr style=\"text-align: right;\">\n",
       "      <th></th>\n",
       "      <th>id</th>\n",
       "      <th>age</th>\n",
       "      <th>race</th>\n",
       "      <th>education</th>\n",
       "      <th>martial_status</th>\n",
       "      <th>interview_status</th>\n",
       "      <th>maskedvar-psu</th>\n",
       "      <th>maskedvar-stra</th>\n",
       "      <th>fullsample2yr_mec</th>\n",
       "      <th>fullsample2yr_int</th>\n",
       "      <th>cohort</th>\n",
       "    </tr>\n",
       "  </thead>\n",
       "  <tbody>\n",
       "    <tr>\n",
       "      <th>0</th>\n",
       "      <td>62161</td>\n",
       "      <td>22</td>\n",
       "      <td>3</td>\n",
       "      <td>3.0</td>\n",
       "      <td>5.0</td>\n",
       "      <td>2.0</td>\n",
       "      <td>1.0</td>\n",
       "      <td>91.0</td>\n",
       "      <td>104236.582554</td>\n",
       "      <td>102641.406474</td>\n",
       "      <td>2011-2012</td>\n",
       "    </tr>\n",
       "    <tr>\n",
       "      <th>1</th>\n",
       "      <td>62162</td>\n",
       "      <td>3</td>\n",
       "      <td>1</td>\n",
       "      <td>NaN</td>\n",
       "      <td>NaN</td>\n",
       "      <td>2.0</td>\n",
       "      <td>3.0</td>\n",
       "      <td>92.0</td>\n",
       "      <td>16116.354010</td>\n",
       "      <td>15457.736897</td>\n",
       "      <td>2011-2012</td>\n",
       "    </tr>\n",
       "    <tr>\n",
       "      <th>2</th>\n",
       "      <td>62163</td>\n",
       "      <td>14</td>\n",
       "      <td>6</td>\n",
       "      <td>NaN</td>\n",
       "      <td>NaN</td>\n",
       "      <td>2.0</td>\n",
       "      <td>3.0</td>\n",
       "      <td>90.0</td>\n",
       "      <td>7869.485117</td>\n",
       "      <td>7397.684828</td>\n",
       "      <td>2011-2012</td>\n",
       "    </tr>\n",
       "    <tr>\n",
       "      <th>3</th>\n",
       "      <td>62164</td>\n",
       "      <td>44</td>\n",
       "      <td>3</td>\n",
       "      <td>4.0</td>\n",
       "      <td>1.0</td>\n",
       "      <td>2.0</td>\n",
       "      <td>1.0</td>\n",
       "      <td>94.0</td>\n",
       "      <td>127965.226204</td>\n",
       "      <td>127351.373299</td>\n",
       "      <td>2011-2012</td>\n",
       "    </tr>\n",
       "    <tr>\n",
       "      <th>4</th>\n",
       "      <td>62165</td>\n",
       "      <td>14</td>\n",
       "      <td>4</td>\n",
       "      <td>NaN</td>\n",
       "      <td>NaN</td>\n",
       "      <td>2.0</td>\n",
       "      <td>2.0</td>\n",
       "      <td>90.0</td>\n",
       "      <td>13384.042162</td>\n",
       "      <td>12209.744980</td>\n",
       "      <td>2011-2012</td>\n",
       "    </tr>\n",
       "  </tbody>\n",
       "</table>\n",
       "</div>"
      ],
      "text/plain": [
       "      id  age  race education martial_status interview_status  maskedvar-psu  \\\n",
       "0  62161   22     3       3.0            5.0              2.0            1.0   \n",
       "1  62162    3     1       NaN            NaN              2.0            3.0   \n",
       "2  62163   14     6       NaN            NaN              2.0            3.0   \n",
       "3  62164   44     3       4.0            1.0              2.0            1.0   \n",
       "4  62165   14     4       NaN            NaN              2.0            2.0   \n",
       "\n",
       "   maskedvar-stra  fullsample2yr_mec  fullsample2yr_int     cohort  \n",
       "0            91.0      104236.582554      102641.406474  2011-2012  \n",
       "1            92.0       16116.354010       15457.736897  2011-2012  \n",
       "2            90.0        7869.485117        7397.684828  2011-2012  \n",
       "3            94.0      127965.226204      127351.373299  2011-2012  \n",
       "4            90.0       13384.042162       12209.744980  2011-2012  "
      ]
     },
     "execution_count": 7,
     "metadata": {},
     "output_type": "execute_result"
    }
   ],
   "source": [
    "demo[['education', 'martial_status', 'interview_status']] = demo[['education', 'martial_status', 'interview_status']].astype('category')\n",
    "demo.head()"
   ]
  },
  {
   "cell_type": "markdown",
   "metadata": {},
   "source": [
    " - Keep range data to 2 decimal places and change into categorical data"
   ]
  },
  {
   "cell_type": "code",
   "execution_count": 8,
   "metadata": {},
   "outputs": [
    {
     "data": {
      "text/plain": [
       "id                      int64\n",
       "age                     int64\n",
       "race                    int64\n",
       "education            category\n",
       "martial_status       category\n",
       "interview_status     category\n",
       "maskedvar-psu         float64\n",
       "maskedvar-stra        float64\n",
       "fullsample2yr_mec     float64\n",
       "fullsample2yr_int     float64\n",
       "cohort               category\n",
       "dtype: object"
      ]
     },
     "execution_count": 8,
     "metadata": {},
     "output_type": "execute_result"
    }
   ],
   "source": [
    "demo[['fullsample2yr_mec','fullsample2yr_int']] = demo[['fullsample2yr_mec','fullsample2yr_int']].round(2)\n",
    "demo['fullsample2yr_mec'] = pd.to_numeric(demo['fullsample2yr_mec'], errors='coerce')\n",
    "demo['maskedvar-psu'] = pd.to_numeric(demo['maskedvar-psu'], errors='coerce')\n",
    "demo['maskedvar-stra'] = pd.to_numeric(demo['maskedvar-stra'], errors='coerce')\n",
    "demo['cohort'] = demo['cohort'].astype('category')\n",
    "demo.dtypes"
   ]
  },
  {
   "cell_type": "markdown",
   "metadata": {},
   "source": [
    "#### Save to pickle"
   ]
  },
  {
   "cell_type": "code",
   "execution_count": 12,
   "metadata": {},
   "outputs": [],
   "source": [
    "pickle_out_demo = open(\"demo.pickle\",\"wb\")\n",
    "pickle.dump(demo, pickle_out_demo)\n",
    "pickle_out_demo.close()"
   ]
  },
  {
   "cell_type": "code",
   "execution_count": 13,
   "metadata": {},
   "outputs": [
    {
     "name": "stdout",
     "output_type": "stream",
     "text": [
      "          id  age  race education martial_status interview_status  \\\n",
      "0      62161   22     3       3.0            5.0              2.0   \n",
      "1      62162    3     1       NaN            NaN              2.0   \n",
      "2      62163   14     6       NaN            NaN              2.0   \n",
      "3      62164   44     3       4.0            1.0              2.0   \n",
      "4      62165   14     4       NaN            NaN              2.0   \n",
      "...      ...  ...   ...       ...            ...              ...   \n",
      "9249  102952   70     6       3.0            1.0              2.0   \n",
      "9250  102953   42     1       3.0            4.0              2.0   \n",
      "9251  102954   41     4       5.0            5.0              2.0   \n",
      "9252  102955   14     4       NaN            NaN              2.0   \n",
      "9253  102956   38     3       4.0            3.0              2.0   \n",
      "\n",
      "      maskedvar-psu  maskedvar-stra  fullsample2yr_mec  fullsample2yr_int  \\\n",
      "0               1.0            91.0          104236.58          102641.41   \n",
      "1               3.0            92.0           16116.35           15457.74   \n",
      "2               3.0            90.0            7869.49            7397.68   \n",
      "3               1.0            94.0          127965.23          127351.37   \n",
      "4               2.0            90.0           13384.04           12209.74   \n",
      "...             ...             ...                ...                ...   \n",
      "9249            2.0           138.0           18338.71           16896.28   \n",
      "9250            2.0           137.0           63661.95           61630.38   \n",
      "9251            1.0           144.0           17694.78           17160.90   \n",
      "9252            1.0           136.0           14871.84           14238.45   \n",
      "9253            1.0           142.0           39426.30           38645.74   \n",
      "\n",
      "         cohort  \n",
      "0     2011-2012  \n",
      "1     2011-2012  \n",
      "2     2011-2012  \n",
      "3     2011-2012  \n",
      "4     2011-2012  \n",
      "...         ...  \n",
      "9249  2017-2018  \n",
      "9250  2017-2018  \n",
      "9251  2017-2018  \n",
      "9252  2017-2018  \n",
      "9253  2017-2018  \n",
      "\n",
      "[39156 rows x 11 columns]\n"
     ]
    }
   ],
   "source": [
    "pickle_in_demo = open(\"demo.pickle\",\"rb\")\n",
    "example_demo = pickle.load(pickle_in_demo)\n",
    "print(example_demo)"
   ]
  },
  {
   "cell_type": "markdown",
   "metadata": {},
   "source": [
    " - Import Oral dataset from local directory"
   ]
  },
  {
   "cell_type": "code",
   "execution_count": 14,
   "metadata": {},
   "outputs": [],
   "source": [
    "oral11_12 = pd.read_sas('/Users/Sylvia/Desktop/OHXDEN_G.XPT', encoding = 'utf-8')\n",
    "oral13_14 = pd.read_sas('/Users/Sylvia/Desktop/OHXDEN_H.XPT', encoding = 'utf-8')\n",
    "oral15_16 = pd.read_sas('/Users/Sylvia/Desktop/OHXDEN_I.XPT', encoding = 'utf-8')\n",
    "oral17_18 = pd.read_sas('/Users/Sylvia/Desktop/OHXDEN_J.XPT', encoding = 'utf-8')"
   ]
  },
  {
   "cell_type": "code",
   "execution_count": 15,
   "metadata": {},
   "outputs": [],
   "source": [
    "oral11_12CTC = oral11_12.loc[:, oral11_12.columns.str.endswith('TC')]"
   ]
  },
  {
   "cell_type": "code",
   "execution_count": 16,
   "metadata": {},
   "outputs": [],
   "source": [
    "updatedoral11_12 = oral11_12[['SEQN','OHDDESTS']]\n",
    "updatedoral11_12 = pd.concat([updatedoral11_12, oral11_12CTC], axis = 1)"
   ]
  },
  {
   "cell_type": "markdown",
   "metadata": {},
   "source": [
    " - Extract columns with keyword \"TC\" for both TC and CTC. However, there exist data ended by \"RTC\" which is needed to be removed"
   ]
  },
  {
   "cell_type": "code",
   "execution_count": 17,
   "metadata": {},
   "outputs": [],
   "source": [
    "oral13_14CTC = oral13_14.loc[:, oral13_14.columns.str.endswith('TC')]\n",
    "updatedoral13_14 = oral13_14[['SEQN','OHDDESTS']]\n",
    "updatedoral13_14 = pd.concat([updatedoral13_14, oral13_14CTC], axis = 1)\n",
    "oral15_16CTC = oral15_16.loc[:, oral15_16.columns.str.endswith('TC')]\n",
    "oral15_16CTC = oral15_16CTC.loc[:, [not o.endswith('RTC') for o in oral15_16CTC.columns]]\n",
    "updatedoral15_16 = oral15_16[['SEQN','OHDDESTS']]\n",
    "updatedoral15_16 = pd.concat([updatedoral15_16, oral15_16CTC], axis = 1)\n",
    "oral17_18CTC = oral17_18.loc[:, oral17_18.columns.str.endswith('TC')]\n",
    "oral17_18CTC = oral17_18CTC.loc[:, [not o.endswith('RTC') for o in oral17_18CTC.columns]]\n",
    "updatedoral17_18 = oral17_18[['SEQN','OHDDESTS']]\n",
    "updatedoral17_18 = pd.concat([updatedoral17_18, oral17_18CTC], axis = 1)"
   ]
  },
  {
   "cell_type": "code",
   "execution_count": 18,
   "metadata": {},
   "outputs": [],
   "source": [
    "updatedoral11_12['cohort'] = '2011-2012'\n",
    "updatedoral13_14['cohort'] = '2013-2014'\n",
    "updatedoral15_16['cohort'] = '2015-2016'\n",
    "updatedoral17_18['cohort'] = '2017-2018'"
   ]
  },
  {
   "cell_type": "code",
   "execution_count": 19,
   "metadata": {},
   "outputs": [],
   "source": [
    "oral = pd.concat([updatedoral11_12, updatedoral13_14, updatedoral15_16, updatedoral17_18], axis = 0)"
   ]
  },
  {
   "cell_type": "markdown",
   "metadata": {},
   "source": [
    " - Change int data into int "
   ]
  },
  {
   "cell_type": "code",
   "execution_count": 20,
   "metadata": {},
   "outputs": [],
   "source": [
    "oral = oral.rename(columns = {'SEQN':'id', 'OHDDESTS':'dent_code'})\n",
    "oral[['id','dent_code']] = oral[['id','dent_code']].astype(int)"
   ]
  },
  {
   "cell_type": "markdown",
   "metadata": {},
   "source": [
    " - The rest will be category"
   ]
  },
  {
   "cell_type": "code",
   "execution_count": 22,
   "metadata": {},
   "outputs": [
    {
     "data": {
      "text/plain": [
       "id              int64\n",
       "dent_code       int64\n",
       "OHX01TC      category\n",
       "OHX02TC      category\n",
       "OHX03TC      category\n",
       "               ...   \n",
       "OHX28CTC     category\n",
       "OHX29CTC     category\n",
       "OHX30CTC     category\n",
       "OHX31CTC     category\n",
       "cohort       category\n",
       "Length: 63, dtype: object"
      ]
     },
     "execution_count": 22,
     "metadata": {},
     "output_type": "execute_result"
    }
   ],
   "source": [
    "oral.iloc[:,2:] = oral.iloc[:,2:].astype('category')\n",
    "oral.dtypes"
   ]
  },
  {
   "cell_type": "markdown",
   "metadata": {},
   "source": [
    "#### Save to pickle"
   ]
  },
  {
   "cell_type": "code",
   "execution_count": 23,
   "metadata": {},
   "outputs": [],
   "source": [
    "pickle_out_oral = open(\"oral.pickle\",\"wb\")\n",
    "pickle.dump(oral, pickle_out_oral)\n",
    "pickle_out_oral.close()"
   ]
  },
  {
   "cell_type": "code",
   "execution_count": 24,
   "metadata": {},
   "outputs": [
    {
     "name": "stdout",
     "output_type": "stream",
     "text": [
      "          id  dent_code OHX01TC OHX02TC OHX03TC OHX04TC OHX05TC OHX06TC  \\\n",
      "0      62161          1     4.0     2.0     2.0     2.0     2.0     2.0   \n",
      "1      62162          1     4.0     4.0     4.0     1.0     1.0     1.0   \n",
      "2      62163          1     4.0     2.0     2.0     2.0     2.0     2.0   \n",
      "3      62164          1     4.0     2.0     2.0     2.0     2.0     2.0   \n",
      "4      62165          1     4.0     2.0     2.0     2.0     2.0     2.0   \n",
      "...      ...        ...     ...     ...     ...     ...     ...     ...   \n",
      "8361  102952          1     2.0     2.0     2.0     2.0     2.0     2.0   \n",
      "8362  102953          1     2.0     2.0     2.0     2.0     2.0     2.0   \n",
      "8363  102954          1     2.0     2.0     2.0     2.0     2.0     2.0   \n",
      "8364  102955          1     4.0     2.0     2.0     2.0     2.0     2.0   \n",
      "8365  102956          1     4.0     4.0     2.0     2.0     2.0     2.0   \n",
      "\n",
      "     OHX07TC OHX08TC  ... OHX23CTC OHX24CTC OHX25CTC OHX26CTC OHX27CTC  \\\n",
      "0        2.0     2.0  ...        S        S        S        S        S   \n",
      "1        1.0     1.0  ...        D        D        D        D        D   \n",
      "2        2.0     2.0  ...        S        S        S        S        S   \n",
      "3        2.0     2.0  ...        S        S        S        S        S   \n",
      "4        2.0     2.0  ...        S        S        S        S        S   \n",
      "...      ...     ...  ...      ...      ...      ...      ...      ...   \n",
      "8361     2.0     2.0  ...        S        S        S        S        S   \n",
      "8362     2.0     2.0  ...        S        S        S        S        S   \n",
      "8363     2.0     2.0  ...        S        S        S        S        S   \n",
      "8364     2.0     2.0  ...        S        S        S        S        S   \n",
      "8365     2.0     2.0  ...        S        S        S        S        S   \n",
      "\n",
      "     OHX28CTC OHX29CTC OHX30CTC OHX31CTC     cohort  \n",
      "0           S        S        Z        S  2011-2012  \n",
      "1           D        D        U        U  2011-2012  \n",
      "2           S        S        Y        S  2011-2012  \n",
      "3           S        S        Z        Z  2011-2012  \n",
      "4           S        S        S        S  2011-2012  \n",
      "...       ...      ...      ...      ...        ...  \n",
      "8361        S        S        S        S  2017-2018  \n",
      "8362        S        S        S        Z  2017-2018  \n",
      "8363        S        F        S        S  2017-2018  \n",
      "8364        S        S        S        Z  2017-2018  \n",
      "8365        S        S        S        E  2017-2018  \n",
      "\n",
      "[35909 rows x 63 columns]\n"
     ]
    }
   ],
   "source": [
    "pickle_in_oral = open(\"oral.pickle\",\"rb\")\n",
    "example_oral = pickle.load(pickle_in_oral)\n",
    "print(example_oral)"
   ]
  },
  {
   "cell_type": "markdown",
   "metadata": {},
   "source": [
    "#### d. Number of cases"
   ]
  },
  {
   "cell_type": "code",
   "execution_count": 25,
   "metadata": {},
   "outputs": [
    {
     "data": {
      "text/plain": [
       "39156"
      ]
     },
     "execution_count": 25,
     "metadata": {},
     "output_type": "execute_result"
    }
   ],
   "source": [
    "#Number of cases of Demo datasets\n",
    "demo.shape[0]"
   ]
  },
  {
   "cell_type": "code",
   "execution_count": 26,
   "metadata": {},
   "outputs": [
    {
     "data": {
      "text/html": [
       "<div>\n",
       "<style scoped>\n",
       "    .dataframe tbody tr th:only-of-type {\n",
       "        vertical-align: middle;\n",
       "    }\n",
       "\n",
       "    .dataframe tbody tr th {\n",
       "        vertical-align: top;\n",
       "    }\n",
       "\n",
       "    .dataframe thead th {\n",
       "        text-align: right;\n",
       "    }\n",
       "</style>\n",
       "<table border=\"1\" class=\"dataframe\">\n",
       "  <thead>\n",
       "    <tr style=\"text-align: right;\">\n",
       "      <th></th>\n",
       "      <th>id</th>\n",
       "      <th>age</th>\n",
       "      <th>race</th>\n",
       "      <th>maskedvar-psu</th>\n",
       "      <th>maskedvar-stra</th>\n",
       "      <th>fullsample2yr_mec</th>\n",
       "      <th>fullsample2yr_int</th>\n",
       "    </tr>\n",
       "  </thead>\n",
       "  <tbody>\n",
       "    <tr>\n",
       "      <th>count</th>\n",
       "      <td>39156.000000</td>\n",
       "      <td>39156.000000</td>\n",
       "      <td>39156.000000</td>\n",
       "      <td>39156.000000</td>\n",
       "      <td>39156.000000</td>\n",
       "      <td>39156.000000</td>\n",
       "      <td>39156.000000</td>\n",
       "    </tr>\n",
       "    <tr>\n",
       "      <th>mean</th>\n",
       "      <td>82969.882164</td>\n",
       "      <td>32.243156</td>\n",
       "      <td>3.356676</td>\n",
       "      <td>1.532077</td>\n",
       "      <td>118.179972</td>\n",
       "      <td>32054.312517</td>\n",
       "      <td>32054.312528</td>\n",
       "    </tr>\n",
       "    <tr>\n",
       "      <th>std</th>\n",
       "      <td>11844.245006</td>\n",
       "      <td>24.834551</td>\n",
       "      <td>1.652314</td>\n",
       "      <td>0.542715</td>\n",
       "      <td>17.160811</td>\n",
       "      <td>35412.005512</td>\n",
       "      <td>34064.027536</td>\n",
       "    </tr>\n",
       "    <tr>\n",
       "      <th>min</th>\n",
       "      <td>62161.000000</td>\n",
       "      <td>0.000000</td>\n",
       "      <td>1.000000</td>\n",
       "      <td>1.000000</td>\n",
       "      <td>90.000000</td>\n",
       "      <td>0.000000</td>\n",
       "      <td>2571.070000</td>\n",
       "    </tr>\n",
       "    <tr>\n",
       "      <th>25%</th>\n",
       "      <td>73589.750000</td>\n",
       "      <td>10.000000</td>\n",
       "      <td>2.000000</td>\n",
       "      <td>1.000000</td>\n",
       "      <td>104.000000</td>\n",
       "      <td>12111.327500</td>\n",
       "      <td>12441.720000</td>\n",
       "    </tr>\n",
       "    <tr>\n",
       "      <th>50%</th>\n",
       "      <td>83378.500000</td>\n",
       "      <td>28.000000</td>\n",
       "      <td>3.000000</td>\n",
       "      <td>2.000000</td>\n",
       "      <td>118.000000</td>\n",
       "      <td>19881.290000</td>\n",
       "      <td>19810.235000</td>\n",
       "    </tr>\n",
       "    <tr>\n",
       "      <th>75%</th>\n",
       "      <td>93167.250000</td>\n",
       "      <td>54.000000</td>\n",
       "      <td>4.000000</td>\n",
       "      <td>2.000000</td>\n",
       "      <td>133.000000</td>\n",
       "      <td>35678.820000</td>\n",
       "      <td>35370.915000</td>\n",
       "    </tr>\n",
       "    <tr>\n",
       "      <th>max</th>\n",
       "      <td>102956.000000</td>\n",
       "      <td>80.000000</td>\n",
       "      <td>7.000000</td>\n",
       "      <td>3.000000</td>\n",
       "      <td>148.000000</td>\n",
       "      <td>419762.840000</td>\n",
       "      <td>433085.010000</td>\n",
       "    </tr>\n",
       "  </tbody>\n",
       "</table>\n",
       "</div>"
      ],
      "text/plain": [
       "                  id           age          race  maskedvar-psu  \\\n",
       "count   39156.000000  39156.000000  39156.000000   39156.000000   \n",
       "mean    82969.882164     32.243156      3.356676       1.532077   \n",
       "std     11844.245006     24.834551      1.652314       0.542715   \n",
       "min     62161.000000      0.000000      1.000000       1.000000   \n",
       "25%     73589.750000     10.000000      2.000000       1.000000   \n",
       "50%     83378.500000     28.000000      3.000000       2.000000   \n",
       "75%     93167.250000     54.000000      4.000000       2.000000   \n",
       "max    102956.000000     80.000000      7.000000       3.000000   \n",
       "\n",
       "       maskedvar-stra  fullsample2yr_mec  fullsample2yr_int  \n",
       "count    39156.000000       39156.000000       39156.000000  \n",
       "mean       118.179972       32054.312517       32054.312528  \n",
       "std         17.160811       35412.005512       34064.027536  \n",
       "min         90.000000           0.000000        2571.070000  \n",
       "25%        104.000000       12111.327500       12441.720000  \n",
       "50%        118.000000       19881.290000       19810.235000  \n",
       "75%        133.000000       35678.820000       35370.915000  \n",
       "max        148.000000      419762.840000      433085.010000  "
      ]
     },
     "execution_count": 26,
     "metadata": {},
     "output_type": "execute_result"
    }
   ],
   "source": [
    "demo.describe()"
   ]
  },
  {
   "cell_type": "code",
   "execution_count": 27,
   "metadata": {},
   "outputs": [
    {
     "data": {
      "text/plain": [
       "35909"
      ]
     },
     "execution_count": 27,
     "metadata": {},
     "output_type": "execute_result"
    }
   ],
   "source": [
    "#Number of cases od Oral datasets\n",
    "oral.shape[0]"
   ]
  },
  {
   "cell_type": "code",
   "execution_count": 28,
   "metadata": {},
   "outputs": [
    {
     "data": {
      "text/html": [
       "<div>\n",
       "<style scoped>\n",
       "    .dataframe tbody tr th:only-of-type {\n",
       "        vertical-align: middle;\n",
       "    }\n",
       "\n",
       "    .dataframe tbody tr th {\n",
       "        vertical-align: top;\n",
       "    }\n",
       "\n",
       "    .dataframe thead th {\n",
       "        text-align: right;\n",
       "    }\n",
       "</style>\n",
       "<table border=\"1\" class=\"dataframe\">\n",
       "  <thead>\n",
       "    <tr style=\"text-align: right;\">\n",
       "      <th></th>\n",
       "      <th>id</th>\n",
       "      <th>dent_code</th>\n",
       "    </tr>\n",
       "  </thead>\n",
       "  <tbody>\n",
       "    <tr>\n",
       "      <th>count</th>\n",
       "      <td>35909.000000</td>\n",
       "      <td>35909.000000</td>\n",
       "    </tr>\n",
       "    <tr>\n",
       "      <th>mean</th>\n",
       "      <td>82908.273859</td>\n",
       "      <td>1.085271</td>\n",
       "    </tr>\n",
       "    <tr>\n",
       "      <th>std</th>\n",
       "      <td>11815.722152</td>\n",
       "      <td>0.402831</td>\n",
       "    </tr>\n",
       "    <tr>\n",
       "      <th>min</th>\n",
       "      <td>62161.000000</td>\n",
       "      <td>1.000000</td>\n",
       "    </tr>\n",
       "    <tr>\n",
       "      <th>25%</th>\n",
       "      <td>73581.000000</td>\n",
       "      <td>1.000000</td>\n",
       "    </tr>\n",
       "    <tr>\n",
       "      <th>50%</th>\n",
       "      <td>83270.000000</td>\n",
       "      <td>1.000000</td>\n",
       "    </tr>\n",
       "    <tr>\n",
       "      <th>75%</th>\n",
       "      <td>93042.000000</td>\n",
       "      <td>1.000000</td>\n",
       "    </tr>\n",
       "    <tr>\n",
       "      <th>max</th>\n",
       "      <td>102956.000000</td>\n",
       "      <td>3.000000</td>\n",
       "    </tr>\n",
       "  </tbody>\n",
       "</table>\n",
       "</div>"
      ],
      "text/plain": [
       "                  id     dent_code\n",
       "count   35909.000000  35909.000000\n",
       "mean    82908.273859      1.085271\n",
       "std     11815.722152      0.402831\n",
       "min     62161.000000      1.000000\n",
       "25%     73581.000000      1.000000\n",
       "50%     83270.000000      1.000000\n",
       "75%     93042.000000      1.000000\n",
       "max    102956.000000      3.000000"
      ]
     },
     "execution_count": 28,
     "metadata": {},
     "output_type": "execute_result"
    }
   ],
   "source": [
    "oral.describe()"
   ]
  }
 ],
 "metadata": {
  "jupytext": {
   "formats": "ipynb,py:light"
  },
  "kernelspec": {
   "display_name": "Python 3",
   "language": "python",
   "name": "python3"
  },
  "language_info": {
   "codemirror_mode": {
    "name": "ipython",
    "version": 3
   },
   "file_extension": ".py",
   "mimetype": "text/x-python",
   "name": "python",
   "nbconvert_exporter": "python",
   "pygments_lexer": "ipython3",
   "version": "3.8.3"
  }
 },
 "nbformat": 4,
 "nbformat_minor": 4
}
